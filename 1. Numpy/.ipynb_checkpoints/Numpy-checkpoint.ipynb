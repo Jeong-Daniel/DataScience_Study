{
 "cells": [
  {
   "cell_type": "markdown",
   "id": "3e171bb7",
   "metadata": {},
   "source": [
    "## Numpy 공부\n",
    "\n",
    "왜 파이썬의 리스트를 사용하지 않고 Numpy를 사용하는가?\n",
    "파이썬은 GC를 사용하기 때문에 메모리 관리에 불리하고 속도가 떨어지지만 C언어 기반으로 만들어진 Numpy는 선형대수 행렬 벡터연산에 있어서 굉장히 빠르게 작동한다. 그래서 대용량 데이터를 다뤄야하는 빅데이터 과학에서는 Numpy를 이용하는 것이 속도와 편리함을 둘다 챙길 수 있다."
   ]
  },
  {
   "cell_type": "code",
   "execution_count": 1,
   "id": "ba5d649f",
   "metadata": {},
   "outputs": [],
   "source": [
    "import numpy as np\n",
    "import pandas as pd"
   ]
  },
  {
   "cell_type": "code",
   "execution_count": 2,
   "id": "fb7c5e34",
   "metadata": {},
   "outputs": [],
   "source": [
    "# 네임스페이스의 모든 내용을 표시하고 싶다면 np.<TAB>\n",
    "# 라이브러리의 내장 문서를 표현하려면 np?\n",
    "np?"
   ]
  },
  {
   "cell_type": "markdown",
   "id": "3af77051",
   "metadata": {},
   "source": [
    "파이썬의 대표적으로 동적 타이핑을 지원하는데 이는 변수 타입을 명시적으로 표현하지 않고 바로 사용이 가능하지만 단점도 분명히 있다  \n",
    "파이썬의 정수는 정수 이상의 데이터를 담고 파이썬의 리스트는 리스트 이상의 내용을 가지게 된다 \n",
    "numpy에서는 배열의 모든 요소가 같은 타입을 지니게 되고 타입이 일치하지 않으면 가능한 상위 타입을 취한다"
   ]
  },
  {
   "cell_type": "code",
   "execution_count": 5,
   "id": "5e7c6946",
   "metadata": {},
   "outputs": [
    {
     "data": {
      "text/plain": [
       "array([[2, 3, 4],\n",
       "       [4, 5, 6],\n",
       "       [6, 7, 8]])"
      ]
     },
     "execution_count": 5,
     "metadata": {},
     "output_type": "execute_result"
    }
   ],
   "source": [
    "# 리스트를 중첩해서 다차원 배열\n",
    "np.array([range(i,i+3) for i in [2,4,6]])"
   ]
  },
  {
   "cell_type": "code",
   "execution_count": 6,
   "id": "00d092cd",
   "metadata": {},
   "outputs": [
    {
     "data": {
      "text/plain": [
       "array([0, 0, 0, 0, 0, 0, 0, 0, 0, 0])"
      ]
     },
     "execution_count": 6,
     "metadata": {},
     "output_type": "execute_result"
    }
   ],
   "source": [
    "#0으로 채운 길이 10의 정수 배열\n",
    "np.zeros(10, dtype=int)"
   ]
  },
  {
   "cell_type": "code",
   "execution_count": 7,
   "id": "faf2cc66",
   "metadata": {},
   "outputs": [
    {
     "data": {
      "text/plain": [
       "array([[1., 1., 1., 1., 1.],\n",
       "       [1., 1., 1., 1., 1.],\n",
       "       [1., 1., 1., 1., 1.]])"
      ]
     },
     "execution_count": 7,
     "metadata": {},
     "output_type": "execute_result"
    }
   ],
   "source": [
    "#1로 채원 3x5 부동소수점 배열만들기\n",
    "np.ones((3,5), dtype=float)"
   ]
  },
  {
   "cell_type": "code",
   "execution_count": 8,
   "id": "87cb9b96",
   "metadata": {},
   "outputs": [
    {
     "data": {
      "text/plain": [
       "array([[3.14, 3.14, 3.14, 3.14, 3.14],\n",
       "       [3.14, 3.14, 3.14, 3.14, 3.14],\n",
       "       [3.14, 3.14, 3.14, 3.14, 3.14]])"
      ]
     },
     "execution_count": 8,
     "metadata": {},
     "output_type": "execute_result"
    }
   ],
   "source": [
    "#3.14로 채원 3x5배열 만들기\n",
    "np.full((3,5), 3.14)"
   ]
  },
  {
   "cell_type": "code",
   "execution_count": 9,
   "id": "d6ee0ff9",
   "metadata": {},
   "outputs": [
    {
     "data": {
      "text/plain": [
       "array([ 0,  2,  4,  6,  8, 10, 12, 14, 16, 18])"
      ]
     },
     "execution_count": 9,
     "metadata": {},
     "output_type": "execute_result"
    }
   ],
   "source": [
    "#선형 수열로 채운 배열 만들기 내장 함수인 range와 유사함\n",
    "np.arange(0,20,2)"
   ]
  },
  {
   "cell_type": "code",
   "execution_count": 10,
   "id": "060a7627",
   "metadata": {},
   "outputs": [
    {
     "data": {
      "text/plain": [
       "array([0.  , 0.25, 0.5 , 0.75, 1.  ])"
      ]
     },
     "execution_count": 10,
     "metadata": {},
     "output_type": "execute_result"
    }
   ],
   "source": [
    "#0과 1사이에 일정한 간격을 가진 다섯 개의 값으로 채운 배열 만들기\n",
    "np.linspace(0,1,5)"
   ]
  },
  {
   "cell_type": "code",
   "execution_count": 11,
   "id": "4b59b445",
   "metadata": {},
   "outputs": [
    {
     "data": {
      "text/plain": [
       "array([[0.07775619, 0.7001227 , 0.32008728],\n",
       "       [0.84295275, 0.95357245, 0.88733889],\n",
       "       [0.4542936 , 0.93942578, 0.63794483]])"
      ]
     },
     "execution_count": 11,
     "metadata": {},
     "output_type": "execute_result"
    }
   ],
   "source": [
    "#균등하게 분포된 3x3배열을 만들고 0과 1사이의 난수로 채움\n",
    "np.random.random((3,3))"
   ]
  },
  {
   "cell_type": "code",
   "execution_count": 13,
   "id": "9322c203",
   "metadata": {},
   "outputs": [
    {
     "data": {
      "text/plain": [
       "array([2.73606755, 1.13370135])"
      ]
     },
     "execution_count": 13,
     "metadata": {},
     "output_type": "execute_result"
    }
   ],
   "source": [
    "#정규분포(평균0 표준편차1)의 난수로 채운 3x3배열 만들기 (지수, 감마, t분포도 있음)\n",
    "np.random.normal((3,3))"
   ]
  },
  {
   "cell_type": "code",
   "execution_count": 14,
   "id": "f181a7c4",
   "metadata": {},
   "outputs": [
    {
     "data": {
      "text/plain": [
       "array([[3, 7, 9],\n",
       "       [7, 2, 4],\n",
       "       [2, 5, 7]])"
      ]
     },
     "execution_count": 14,
     "metadata": {},
     "output_type": "execute_result"
    }
   ],
   "source": [
    "#[0,10] 구간 임의의 정수로 채운 3x3 배열 만들기\n",
    "np.random.randint(0,10,(3,3))"
   ]
  },
  {
   "cell_type": "code",
   "execution_count": 15,
   "id": "58c2057d",
   "metadata": {},
   "outputs": [
    {
     "data": {
      "text/plain": [
       "array([[1., 0., 0.],\n",
       "       [0., 1., 0.],\n",
       "       [0., 0., 1.]])"
      ]
     },
     "execution_count": 15,
     "metadata": {},
     "output_type": "execute_result"
    }
   ],
   "source": [
    "# 3x3 단위 행렬 만들기 (단위 행렬은 주대각선의 원소가 모두 1이며 나머지 원소는 모두 0인 정사각 행렬)\n",
    "np.eye(3)"
   ]
  },
  {
   "cell_type": "code",
   "execution_count": 16,
   "id": "c3ab8029",
   "metadata": {},
   "outputs": [
    {
     "data": {
      "text/plain": [
       "array([1., 1., 1.])"
      ]
     },
     "execution_count": 16,
     "metadata": {},
     "output_type": "execute_result"
    }
   ],
   "source": [
    "#세 개의 정수를 가지는 초기화 되지 않는 배열 만들기\n",
    "#값은 해당 메모리 위치에 이미 존재하고 있는 값으로 채움\n",
    "np.empty(3)"
   ]
  },
  {
   "cell_type": "markdown",
   "id": "10de00ae",
   "metadata": {},
   "source": [
    "### Numpy 데이터 타입\n",
    "![numpy_array_type.png](./numpy_array_type.png)"
   ]
  },
  {
   "cell_type": "markdown",
   "id": "a879506b",
   "metadata": {},
   "source": [
    "### Numpy 배열 조작\n",
    "#### 배열 속성 지정  \n",
    "배열의 크기, 모양, 메모리 소비량, 데이터 타입을 결정\n",
    "#### 배열 인덱싱  \n",
    "개별 배열 요솟값을 가져오고 설정한다.  \n",
    "#### 배열 슬라이싱  \n",
    "큰 배열 내에 있는 작은 하위 배열을 가져오고 설정한다.  \n",
    "#### 배열 재구조화  \n",
    "해당 배열의 형상을 변경한다.  \n",
    "#### 배열 결합 및 분할  \n",
    "여러 배열을 하나로 결합하고 하나의 배열을 여러 개로 분할한다."
   ]
  },
  {
   "cell_type": "code",
   "execution_count": 18,
   "id": "c6d086a6",
   "metadata": {},
   "outputs": [],
   "source": [
    "np.random.seed(0) #랜덤을할때 시드값을 정해주면 반복하더라도 똑같은 값을 얻을 수 있다\n",
    "\n",
    "x1 = np.random.randint(10, size=6) # 1차원 배열\n",
    "x2 = np.random.randint(10, size=(3,4)) # 2차원 배열\n",
    "x3 = np.random.randint(10, size=(3,4,5)) # 3차원 배열"
   ]
  },
  {
   "cell_type": "code",
   "execution_count": 22,
   "id": "f737e5ab",
   "metadata": {},
   "outputs": [
    {
     "name": "stdout",
     "output_type": "stream",
     "text": [
      "x3 ndim 3\n",
      "x3 shape (3, 4, 5)\n",
      "x3 size 60\n",
      "dtype: int32\n"
     ]
    }
   ],
   "source": [
    "# ndim 차원의 개수, shape 차원의 크기, size 전체 배열 크기\n",
    "print(\"x3 ndim\", x3.ndim)\n",
    "print(\"x3 shape\", x3.shape)\n",
    "print(\"x3 size\", x3.size)\n",
    "print(\"dtype:\", x3.dtype)"
   ]
  },
  {
   "cell_type": "code",
   "execution_count": 24,
   "id": "e32487bd",
   "metadata": {},
   "outputs": [
    {
     "name": "stdout",
     "output_type": "stream",
     "text": [
      "itemsize: 4 bytes\n",
      "nbytes: 240 bytes\n"
     ]
    }
   ],
   "source": [
    "#배열 요소의 크기를 바이트 단위로 보여주는 itemsize와 배열 전체 크기를 바이트 단위로 보여주는 nbytes\n",
    "print(\"itemsize:\", x3.itemsize, \"bytes\")\n",
    "print(\"nbytes:\", x3.nbytes, \"bytes\")"
   ]
  },
  {
   "cell_type": "markdown",
   "id": "f40ca70f",
   "metadata": {},
   "source": [
    "### 배열 인덱싱 : 단일 요소에 접근하기"
   ]
  },
  {
   "cell_type": "code",
   "execution_count": 25,
   "id": "294d7742",
   "metadata": {},
   "outputs": [
    {
     "data": {
      "text/plain": [
       "array([5, 0, 3, 3, 7, 9])"
      ]
     },
     "execution_count": 25,
     "metadata": {},
     "output_type": "execute_result"
    }
   ],
   "source": [
    "x1"
   ]
  },
  {
   "cell_type": "code",
   "execution_count": 28,
   "id": "d016d057",
   "metadata": {},
   "outputs": [
    {
     "name": "stdout",
     "output_type": "stream",
     "text": [
      "5\n",
      "9\n"
     ]
    }
   ],
   "source": [
    "print(x1[0])\n",
    "print(x1[-1]) # 음수는 뒤에서부터 뽑아옴"
   ]
  },
  {
   "cell_type": "code",
   "execution_count": 29,
   "id": "e8be0b2c",
   "metadata": {},
   "outputs": [
    {
     "data": {
      "text/plain": [
       "array([[3, 5, 2, 4],\n",
       "       [7, 6, 8, 8],\n",
       "       [1, 6, 7, 7]])"
      ]
     },
     "execution_count": 29,
     "metadata": {},
     "output_type": "execute_result"
    }
   ],
   "source": [
    "x2"
   ]
  },
  {
   "cell_type": "code",
   "execution_count": 30,
   "id": "05ee8fb5",
   "metadata": {},
   "outputs": [
    {
     "name": "stdout",
     "output_type": "stream",
     "text": [
      "3\n",
      "7\n"
     ]
    }
   ],
   "source": [
    "print(x2[0,0])\n",
    "print(x2[-1,-1]) # 마찬가지로 2차원 배열에서도 유효"
   ]
  },
  {
   "cell_type": "code",
   "execution_count": 32,
   "id": "41a3af38",
   "metadata": {},
   "outputs": [
    {
     "data": {
      "text/plain": [
       "array([[99,  5,  2,  4],\n",
       "       [ 7,  6,  8,  8],\n",
       "       [ 1,  6,  7,  7]])"
      ]
     },
     "execution_count": 32,
     "metadata": {},
     "output_type": "execute_result"
    }
   ],
   "source": [
    "x2[0,0] = 99\n",
    "x2 # 인덱스 표기법으로 접근해서 값을 수정하는 것도 가능"
   ]
  },
  {
   "cell_type": "markdown",
   "id": "665c524f",
   "metadata": {},
   "source": [
    "### 배열 슬라이싱: 하위 배열에 접근하기\n",
    "array[start:stop:step] 순서로 지정된다. 생략하면 start는 0 stop는 -1 step은 1이 기본값"
   ]
  },
  {
   "cell_type": "code",
   "execution_count": 35,
   "id": "b3ce6dd5",
   "metadata": {},
   "outputs": [
    {
     "data": {
      "text/plain": [
       "array([0, 2, 4, 6, 8])"
      ]
     },
     "execution_count": 35,
     "metadata": {},
     "output_type": "execute_result"
    }
   ],
   "source": [
    "x = np.arange(10)\n",
    "x[:5] #첫 다섯 개 요소\n",
    "x[5:] #인덱스 5다음 요소들\n",
    "x[4:7] #중간 하위 배열\n",
    "x[::2] #하나걸러 하나씩의 요소로 구성"
   ]
  },
  {
   "cell_type": "code",
   "execution_count": 36,
   "id": "884e3d97",
   "metadata": {},
   "outputs": [
    {
     "data": {
      "text/plain": [
       "array([5, 3, 1])"
      ]
     },
     "execution_count": 36,
     "metadata": {},
     "output_type": "execute_result"
    }
   ],
   "source": [
    "x[::-1] # 모든 요소를 거꾸로 나열\n",
    "x[5::-2] #인덱스 5부터 하나걸러 거꾸로 나열"
   ]
  },
  {
   "cell_type": "code",
   "execution_count": 37,
   "id": "9fd89cbf",
   "metadata": {},
   "outputs": [
    {
     "data": {
      "text/plain": [
       "array([[99,  5,  2,  4],\n",
       "       [ 7,  6,  8,  8],\n",
       "       [ 1,  6,  7,  7]])"
      ]
     },
     "execution_count": 37,
     "metadata": {},
     "output_type": "execute_result"
    }
   ],
   "source": [
    "x2"
   ]
  },
  {
   "cell_type": "code",
   "execution_count": 38,
   "id": "bc446b8b",
   "metadata": {},
   "outputs": [
    {
     "name": "stdout",
     "output_type": "stream",
     "text": [
      "[[99  5  2]\n",
      " [ 7  6  8]]\n",
      "[[99  2]\n",
      " [ 7  8]\n",
      " [ 1  7]]\n"
     ]
    }
   ],
   "source": [
    "print(x2[:2,:3]) # 두개의 행, 세개의 열 마찬가지로 2차원 배열에서도 작동\n",
    "print(x2[:3,::2]) #모든 행에서 한열 걸러 하나씩"
   ]
  },
  {
   "cell_type": "code",
   "execution_count": 40,
   "id": "9fd3bce6",
   "metadata": {},
   "outputs": [
    {
     "name": "stdout",
     "output_type": "stream",
     "text": [
      "[[ 7  7  6  1]\n",
      " [ 8  8  6  7]\n",
      " [ 4  2  5 99]]\n"
     ]
    }
   ],
   "source": [
    "print(x2[::-1,::-1]) # 마찬가지로 음수를 이용해서 하위 배열차원도 역순 정렬 가능"
   ]
  },
  {
   "cell_type": "code",
   "execution_count": 41,
   "id": "b7f94b70",
   "metadata": {},
   "outputs": [
    {
     "name": "stdout",
     "output_type": "stream",
     "text": [
      "[99  7  1]\n",
      "[99  5  2  4]\n",
      "[99  5  2  4]\n"
     ]
    }
   ],
   "source": [
    "# : 로 범위를 지정하지 않고 0이나 생략을 통해서 전체에 접근할 수 있음\n",
    "print(x2[:,0])\n",
    "print(x2[0,:])\n",
    "print(x2[0])"
   ]
  },
  {
   "cell_type": "markdown",
   "id": "734c6048",
   "metadata": {},
   "source": [
    "### 사본이 아닌 뷰(View)로서의 하위 배열\n",
    "배열 슬라이스에 대해 알아야할 중요한것은 배열 슬라이스가 배열 데이터의 사본이 아니라 뷰로 반환한다. numpy 배열 슬라이싱과 파이썬 리스트 슬라이싱과 다른점. 리스트에서 슬라이스는 사본이다."
   ]
  },
  {
   "cell_type": "code",
   "execution_count": 43,
   "id": "51900d10",
   "metadata": {},
   "outputs": [
    {
     "name": "stdout",
     "output_type": "stream",
     "text": [
      "[[99  5]\n",
      " [ 7  6]]\n"
     ]
    }
   ],
   "source": [
    "x2_sub = x2[:2,:2]\n",
    "print(x2_sub)"
   ]
  },
  {
   "cell_type": "code",
   "execution_count": 44,
   "id": "5b85cf0b",
   "metadata": {},
   "outputs": [
    {
     "name": "stdout",
     "output_type": "stream",
     "text": [
      "[[22  5]\n",
      " [ 7  6]]\n"
     ]
    }
   ],
   "source": [
    "x2_sub[0,0] = 22\n",
    "print(x2_sub)"
   ]
  },
  {
   "cell_type": "code",
   "execution_count": 47,
   "id": "56381bba",
   "metadata": {},
   "outputs": [
    {
     "data": {
      "text/plain": [
       "array([[22,  5,  2,  4],\n",
       "       [ 7,  6,  8,  8],\n",
       "       [ 1,  6,  7,  7]])"
      ]
     },
     "execution_count": 47,
     "metadata": {},
     "output_type": "execute_result"
    }
   ],
   "source": [
    "x2"
   ]
  },
  {
   "cell_type": "markdown",
   "id": "e7ac4310",
   "metadata": {},
   "source": [
    "분명 하위 배열을 만들어서 그 값을 수정했는데 원래 배열에도 영향을 주게됨 이는 x2_sub는 독립적인 개체가 아니라 x2의 일부를 보여주는 뷰로서 작동"
   ]
  },
  {
   "cell_type": "code",
   "execution_count": 49,
   "id": "2ff9d4ac",
   "metadata": {},
   "outputs": [],
   "source": [
    "x2_sub_copy = x2[:2,:2].copy() # 이렇게 copy는 복사를 하게됨"
   ]
  },
  {
   "cell_type": "markdown",
   "id": "1c4da146",
   "metadata": {},
   "source": [
    "### 배열 재구조화  \n",
    "배열의 형상을 변경하는 것은 중요하다 보통 reshape() 매서드를 이용하는 것"
   ]
  },
  {
   "cell_type": "code",
   "execution_count": 50,
   "id": "fe38676d",
   "metadata": {},
   "outputs": [
    {
     "name": "stdout",
     "output_type": "stream",
     "text": [
      "[[1 2 3]\n",
      " [4 5 6]\n",
      " [7 8 9]]\n"
     ]
    }
   ],
   "source": [
    "grid = np.arange(1,10).reshape((3,3))\n",
    "print(grid)"
   ]
  },
  {
   "cell_type": "markdown",
   "id": "c3a0e18f",
   "metadata": {},
   "source": [
    "또 다른 일반적인 재구조화 패턴은 1차원의 배열을 2차원 행이나 열 매트릭스로 전화하는 것이다. 이 작업은 reshape매서드로 할 수 있으며 그렇지 않으면 슬라이스 연산내에 newaxis 키워드를 사용해서 더 쉽게 할 수 있다."
   ]
  },
  {
   "cell_type": "code",
   "execution_count": 53,
   "id": "ed43077b",
   "metadata": {},
   "outputs": [
    {
     "data": {
      "text/plain": [
       "array([[1, 2, 3]])"
      ]
     },
     "execution_count": 53,
     "metadata": {},
     "output_type": "execute_result"
    }
   ],
   "source": [
    "x = np.array([1,2,3])\n",
    "#reshape을 이용한 행 벡터\n",
    "x.reshape((1,3))"
   ]
  },
  {
   "cell_type": "code",
   "execution_count": 54,
   "id": "1a27e9b5",
   "metadata": {},
   "outputs": [
    {
     "data": {
      "text/plain": [
       "array([[1, 2, 3]])"
      ]
     },
     "execution_count": 54,
     "metadata": {},
     "output_type": "execute_result"
    }
   ],
   "source": [
    "x[np.newaxis, :]"
   ]
  },
  {
   "cell_type": "code",
   "execution_count": 55,
   "id": "d77677ac",
   "metadata": {},
   "outputs": [
    {
     "data": {
      "text/plain": [
       "array([[1],\n",
       "       [2],\n",
       "       [3]])"
      ]
     },
     "execution_count": 55,
     "metadata": {},
     "output_type": "execute_result"
    }
   ],
   "source": [
    "# reshape를 이용한 열 벡터\n",
    "x.reshape((3,1))"
   ]
  },
  {
   "cell_type": "code",
   "execution_count": 56,
   "id": "c61de7b0",
   "metadata": {
    "scrolled": false
   },
   "outputs": [
    {
     "data": {
      "text/plain": [
       "array([[1],\n",
       "       [2],\n",
       "       [3]])"
      ]
     },
     "execution_count": 56,
     "metadata": {},
     "output_type": "execute_result"
    }
   ],
   "source": [
    "x[:, np.newaxis]"
   ]
  },
  {
   "cell_type": "markdown",
   "id": "1a093414",
   "metadata": {},
   "source": [
    "np.newaxis는 None으로 치환할 수 있다"
   ]
  },
  {
   "cell_type": "code",
   "execution_count": 59,
   "id": "54be0367",
   "metadata": {},
   "outputs": [
    {
     "data": {
      "text/plain": [
       "array([[1],\n",
       "       [2],\n",
       "       [3]])"
      ]
     },
     "execution_count": 59,
     "metadata": {},
     "output_type": "execute_result"
    }
   ],
   "source": [
    "x[:, None]"
   ]
  },
  {
   "cell_type": "markdown",
   "id": "b32bee58",
   "metadata": {},
   "source": [
    "### 배열 연결 및 분할  \n",
    "Numpy에서는 주로 np.concatenate, np.vstack, np.hstack 루틴을 이용해 두배열을 결합하거나 연결한다.  \n",
    "보다 시피 np.concatenate는 튜플이나 배열의 리스트를 첫 번째 인수로 취한다."
   ]
  },
  {
   "cell_type": "code",
   "execution_count": 61,
   "id": "8cef68bf",
   "metadata": {},
   "outputs": [
    {
     "data": {
      "text/plain": [
       "array([ 1,  2,  3,  3,  2,  1, 99, 88, 77])"
      ]
     },
     "execution_count": 61,
     "metadata": {},
     "output_type": "execute_result"
    }
   ],
   "source": [
    "x = np.array([1,2,3])\n",
    "y = np.array([3,2,1])\n",
    "z = np.array([99,88,77])\n",
    "np.concatenate([x,y,z])\n",
    "# 3개 이상의 배열을 연결 할 수 있다."
   ]
  },
  {
   "cell_type": "code",
   "execution_count": 67,
   "id": "c2dd80cd",
   "metadata": {},
   "outputs": [
    {
     "data": {
      "text/plain": [
       "array([[1, 2, 3],\n",
       "       [4, 5, 6],\n",
       "       [1, 2, 3],\n",
       "       [4, 5, 6]])"
      ]
     },
     "execution_count": 67,
     "metadata": {},
     "output_type": "execute_result"
    }
   ],
   "source": [
    "grid = np.array([[1,2,3],[4,5,6]])\n",
    "np.concatenate([grid, grid]) # 기본값은 첫 번 째 축을 따라 연결"
   ]
  },
  {
   "cell_type": "code",
   "execution_count": 70,
   "id": "31fa215d",
   "metadata": {},
   "outputs": [
    {
     "data": {
      "text/plain": [
       "array([[1, 2, 3, 1, 2, 3],\n",
       "       [4, 5, 6, 4, 5, 6]])"
      ]
     },
     "execution_count": 70,
     "metadata": {},
     "output_type": "execute_result"
    }
   ],
   "source": [
    "np.concatenate([grid, grid], axis=1) # 두번째 축을 따라 연결"
   ]
  },
  {
   "cell_type": "code",
   "execution_count": 75,
   "id": "02f22c91",
   "metadata": {},
   "outputs": [
    {
     "data": {
      "text/plain": [
       "array([[1, 2, 3],\n",
       "       [4, 5, 6],\n",
       "       [7, 8, 9]])"
      ]
     },
     "execution_count": 75,
     "metadata": {},
     "output_type": "execute_result"
    }
   ],
   "source": [
    "x = np.array([1,2,3])\n",
    "grid = np.array([[4,5,6],[7,8,9]])\n",
    "np.vstack([x,grid]) # vertical 수직으로 쌓기"
   ]
  },
  {
   "cell_type": "code",
   "execution_count": 76,
   "id": "20f2552e",
   "metadata": {},
   "outputs": [
    {
     "data": {
      "text/plain": [
       "array([[ 4,  5,  6, 99],\n",
       "       [ 7,  8,  9, 99]])"
      ]
     },
     "execution_count": 76,
     "metadata": {},
     "output_type": "execute_result"
    }
   ],
   "source": [
    "y = np.array([[99],\n",
    "              [99]])\n",
    "np.hstack([grid, y]) # horiz 수평으로 쌓기\n",
    "# 마찬가지로 np.dstack는 세번째 축을 따라 배열을 쌓음"
   ]
  },
  {
   "cell_type": "markdown",
   "id": "546635ca",
   "metadata": {},
   "source": [
    "## 배열 분할하기\n",
    "분할은 np.split, np.hsplit, np.vsplit 함수로 구현된다. 각 함수에 분할 지점을 알려조는 인덱스 목록을 전달 할 수 있다"
   ]
  },
  {
   "cell_type": "code",
   "execution_count": 77,
   "id": "d6a4c681",
   "metadata": {},
   "outputs": [
    {
     "name": "stdout",
     "output_type": "stream",
     "text": [
      "[1 2 3] [99 99] [3 2 1]\n"
     ]
    }
   ],
   "source": [
    "x = [1,2,3,99,99,3,2,1]\n",
    "x1, x2, x3 = np.split(x,[3,5])\n",
    "print(x1,x2,x3)"
   ]
  },
  {
   "cell_type": "code",
   "execution_count": 79,
   "id": "6c69168c",
   "metadata": {},
   "outputs": [
    {
     "data": {
      "text/plain": [
       "array([[ 0,  1,  2,  3],\n",
       "       [ 4,  5,  6,  7],\n",
       "       [ 8,  9, 10, 11],\n",
       "       [12, 13, 14, 15]])"
      ]
     },
     "execution_count": 79,
     "metadata": {},
     "output_type": "execute_result"
    }
   ],
   "source": [
    "grid = np.arange(16).reshape((4,4))\n",
    "grid"
   ]
  },
  {
   "cell_type": "code",
   "execution_count": 82,
   "id": "995994af",
   "metadata": {},
   "outputs": [
    {
     "name": "stdout",
     "output_type": "stream",
     "text": [
      "[[0 1 2 3]\n",
      " [4 5 6 7]]\n",
      "[[ 8  9 10 11]\n",
      " [12 13 14 15]]\n"
     ]
    }
   ],
   "source": [
    "upper, lower = np.vsplit(grid,[2])\n",
    "print(upper)\n",
    "print(lower)"
   ]
  },
  {
   "cell_type": "code",
   "execution_count": 84,
   "id": "09a1021e",
   "metadata": {
    "scrolled": true
   },
   "outputs": [
    {
     "name": "stdout",
     "output_type": "stream",
     "text": [
      "[[ 0  1]\n",
      " [ 4  5]\n",
      " [ 8  9]\n",
      " [12 13]]\n",
      "[[ 2  3]\n",
      " [ 6  7]\n",
      " [10 11]\n",
      " [14 15]]\n"
     ]
    }
   ],
   "source": [
    "left, right = np.hsplit(grid,[2])\n",
    "print(left)\n",
    "print(right)"
   ]
  },
  {
   "cell_type": "markdown",
   "id": "27e5b3ab",
   "metadata": {},
   "source": [
    "### 배열 연산 유니버셜 함수\n",
    "연산을 빠르게 만드는 핵심은 벡터화 연산을 사용 하는 것인데 일반적으로 유니버셜함수를 통해 구현된다.  \n",
    "파이썬의 기본적인 몇가지 내장 함수는 매우 느리게 수행된다."
   ]
  },
  {
   "cell_type": "code",
   "execution_count": 85,
   "id": "f07c8708",
   "metadata": {},
   "outputs": [
    {
     "data": {
      "text/plain": [
       "array([0.16666667, 1.        , 0.25      , 0.25      , 0.125     ])"
      ]
     },
     "execution_count": 85,
     "metadata": {},
     "output_type": "execute_result"
    }
   ],
   "source": [
    "import numpy as np\n",
    "np.random.seed(0)\n",
    "\n",
    "def compute_reciprocals(values):\n",
    "    output = np.empty(len(values))\n",
    "    for i in range(len(values)):\n",
    "        output[i] = 1.0 / values[i]\n",
    "    return output\n",
    "\n",
    "values = np.random.randint(1,10,size=5)\n",
    "compute_reciprocals(values)"
   ]
  },
  {
   "cell_type": "code",
   "execution_count": 86,
   "id": "7cfa0bd4",
   "metadata": {},
   "outputs": [
    {
     "name": "stdout",
     "output_type": "stream",
     "text": [
      "2.78 s ± 174 ms per loop (mean ± std. dev. of 7 runs, 1 loop each)\n"
     ]
    }
   ],
   "source": [
    "big_array = np.random.randint(1,100, size=1000000)\n",
    "%timeit compute_reciprocals(big_array)"
   ]
  },
  {
   "cell_type": "markdown",
   "id": "2be49111",
   "metadata": {},
   "source": [
    "파이썬은 계산이 들어올때마다 객체의 타입을 확인하고 해당 타입에 맞게 사용할 함수를 동적으로 검색한다. 컴파일되었다면 이미 실행하기전에 타입을 알았을 것이고 결과값은 좀더 효율적으로 계산될 것이다.  \n",
    "Numpy는 여러 종류의 연산에 대해 이러한 종류의 정적 타입 체계를 가진 컴파일된 루틴에 편리한 인터페이스를 제공한다. 이를 벡터화 연산이라고 한다. 벡터화 연산은 간단히 배열에 연사을 수행해 각 요소에 적용함으로써 수행 할 수 있다. 다음 두 결과를 비교해본다"
   ]
  },
  {
   "cell_type": "code",
   "execution_count": 87,
   "id": "16aa1113",
   "metadata": {},
   "outputs": [
    {
     "name": "stdout",
     "output_type": "stream",
     "text": [
      "[0.16666667 1.         0.25       0.25       0.125     ]\n",
      "[0.16666667 1.         0.25       0.25       0.125     ]\n"
     ]
    }
   ],
   "source": [
    "print(compute_reciprocals(values))\n",
    "print(1.0/values)"
   ]
  },
  {
   "cell_type": "code",
   "execution_count": 88,
   "id": "cd1797ad",
   "metadata": {},
   "outputs": [
    {
     "name": "stdout",
     "output_type": "stream",
     "text": [
      "4.21 ms ± 497 µs per loop (mean ± std. dev. of 7 runs, 100 loops each)\n"
     ]
    }
   ],
   "source": [
    "%timeit (1.0/big_array)"
   ]
  },
  {
   "cell_type": "markdown",
   "id": "be1e8963",
   "metadata": {},
   "source": [
    "유니버셜 함수는 스칼라와 배열 사이말고 두 배열 간의 연산도 가능하다"
   ]
  },
  {
   "cell_type": "code",
   "execution_count": 89,
   "id": "47482f03",
   "metadata": {},
   "outputs": [
    {
     "data": {
      "text/plain": [
       "array([0.        , 0.5       , 0.66666667, 0.75      , 0.8       ])"
      ]
     },
     "execution_count": 89,
     "metadata": {},
     "output_type": "execute_result"
    }
   ],
   "source": [
    "np.arange(5) / np.arange(1,6)"
   ]
  },
  {
   "cell_type": "code",
   "execution_count": 93,
   "id": "5595d13d",
   "metadata": {
    "scrolled": true
   },
   "outputs": [
    {
     "data": {
      "text/plain": [
       "array([[  1,   2,   4],\n",
       "       [  8,  16,  32],\n",
       "       [ 64, 128, 256]], dtype=int32)"
      ]
     },
     "execution_count": 93,
     "metadata": {},
     "output_type": "execute_result"
    }
   ],
   "source": [
    "x = np.arange(9).reshape((3,3))\n",
    "2**x"
   ]
  },
  {
   "cell_type": "markdown",
   "id": "ba701bd1",
   "metadata": {},
   "source": [
    "유니버셜 함수를 통한 벡터화 계산은 파이썬 루프를 통해 구현된 것보다 훨씬 효율적이고 배열의 크기가 커질 수록 차이가 확연하다.  파이썬 스크립트에서 루프문을 벡터화표현식으로 교체할 수 있을지 고민해본다"
   ]
  },
  {
   "cell_type": "code",
   "execution_count": 97,
   "id": "da457ac1",
   "metadata": {
    "scrolled": true
   },
   "outputs": [
    {
     "name": "stdout",
     "output_type": "stream",
     "text": [
      "x  = [0 1 2 3]\n",
      "x+5= [5 6 7 8]\n",
      "x-5= [-5 -4 -3 -2]\n",
      "x*2= [0 2 4 6]\n",
      "x/2= [0.  0.5 1.  1.5]\n",
      "x/2= [0 0 1 1]\n"
     ]
    }
   ],
   "source": [
    "x = np.arange(4)\n",
    "print(\"x  =\",x)\n",
    "print(\"x+5=\",x+5)\n",
    "print(\"x-5=\",x-5)\n",
    "print(\"x*2=\",x*2)\n",
    "print(\"x/2=\",x/2)\n",
    "print(\"x/2=\",x//2) #나머지를 버림(몫만 남음)"
   ]
  },
  {
   "cell_type": "markdown",
   "id": "ddffe811",
   "metadata": {},
   "source": [
    "음수를 만드는 단항 유니버셜 함수와 지수 연산자 ** 나머지 연산자 %"
   ]
  },
  {
   "cell_type": "code",
   "execution_count": 99,
   "id": "84e1388b",
   "metadata": {
    "scrolled": true
   },
   "outputs": [
    {
     "name": "stdout",
     "output_type": "stream",
     "text": [
      "-x    [ 0 -1 -2 -3]\n",
      "x** 2 [0 1 4 9]\n",
      "x % 2 [0 1 0 1]\n"
     ]
    },
    {
     "data": {
      "text/plain": [
       "array([-1.  , -2.25, -4.  , -6.25])"
      ]
     },
     "execution_count": 99,
     "metadata": {},
     "output_type": "execute_result"
    }
   ],
   "source": [
    "print(\"-x   \",-x)\n",
    "print(\"x** 2\",x**2)\n",
    "print(\"x % 2\",x%2)\n",
    "\n",
    "#원하는 만큼 섞어서 사용이 가능하며 연산 순서를 표준 연산순서를 따른다.\n",
    "-(0.5*x+1) ** 2"
   ]
  },
  {
   "cell_type": "code",
   "execution_count": 101,
   "id": "763ea1e1",
   "metadata": {
    "scrolled": true
   },
   "outputs": [
    {
     "data": {
      "text/plain": [
       "array([2, 3, 4, 5])"
      ]
     },
     "execution_count": 101,
     "metadata": {},
     "output_type": "execute_result"
    }
   ],
   "source": [
    "np.add(x,2) # 연산자 대신 대응하는 유니버셜 산술 연산자가 있다"
   ]
  },
  {
   "cell_type": "markdown",
   "id": "4077a739",
   "metadata": {},
   "source": [
    "![numpy_ang.png](./numpy_ang.png)"
   ]
  },
  {
   "cell_type": "code",
   "execution_count": 104,
   "id": "cc9f63eb",
   "metadata": {},
   "outputs": [
    {
     "name": "stdout",
     "output_type": "stream",
     "text": [
      "[2 1 0 1 2]\n",
      "[2 1 0 1 2]\n"
     ]
    }
   ],
   "source": [
    "#절대값 함수\n",
    "x = np.array([-2,-1,0,1,2])\n",
    "print(abs(x)) # 내장함수\n",
    "print(np.abs(x)) # 유니버셜 함수"
   ]
  },
  {
   "cell_type": "markdown",
   "id": "9bf7cad1",
   "metadata": {},
   "source": [
    "### 삼각함수"
   ]
  },
  {
   "cell_type": "code",
   "execution_count": 107,
   "id": "3b1e606e",
   "metadata": {},
   "outputs": [
    {
     "name": "stdout",
     "output_type": "stream",
     "text": [
      "theta      = [0.         1.57079633 3.14159265]\n",
      "sin(theta) = [0.0000000e+00 1.0000000e+00 1.2246468e-16]\n",
      "cos(theta) = [ 1.000000e+00  6.123234e-17 -1.000000e+00]\n",
      "tan(theta) = [ 0.00000000e+00  1.63312394e+16 -1.22464680e-16]\n"
     ]
    }
   ],
   "source": [
    "theta = np.linspace(0,np.pi, 3)\n",
    "print(\"theta      =\", theta)\n",
    "print(\"sin(theta) =\", np.sin(theta))\n",
    "print(\"cos(theta) =\", np.cos(theta))\n",
    "print(\"tan(theta) =\", np.tan(theta))"
   ]
  },
  {
   "cell_type": "code",
   "execution_count": 109,
   "id": "68f607ff",
   "metadata": {},
   "outputs": [
    {
     "name": "stdout",
     "output_type": "stream",
     "text": [
      "x      = [0.         1.57079633 3.14159265]\n",
      "arcsin(x) = [-1.57079633  0.          1.57079633]\n",
      "arccos(x) = [3.14159265 1.57079633 0.        ]\n",
      "arctan(x) = [-0.78539816  0.          0.78539816]\n"
     ]
    }
   ],
   "source": [
    "x = [-1,0,1]\n",
    "print(\"x      =\", theta)\n",
    "print(\"arcsin(x) =\", np.arcsin(x))\n",
    "print(\"arccos(x) =\", np.arccos(x))\n",
    "print(\"arctan(x) =\", np.arctan(x))"
   ]
  },
  {
   "cell_type": "markdown",
   "id": "351565d1",
   "metadata": {},
   "source": [
    "### 지수로그"
   ]
  },
  {
   "cell_type": "code",
   "execution_count": 110,
   "id": "80995786",
   "metadata": {},
   "outputs": [
    {
     "name": "stdout",
     "output_type": "stream",
     "text": [
      "x     = [1, 2, 3]\n",
      "e^x   = [ 2.71828183  7.3890561  20.08553692]\n",
      "2^x   = [2. 4. 8.]\n",
      "3^x   = [ 3  9 27]\n"
     ]
    }
   ],
   "source": [
    "x = [1,2,3]\n",
    "print(\"x     =\",x)\n",
    "print(\"e^x   =\",np.exp(x))\n",
    "print(\"2^x   =\",np.exp2(x))\n",
    "print(\"3^x   =\",np.power(3,x))"
   ]
  },
  {
   "cell_type": "markdown",
   "id": "be65f653",
   "metadata": {},
   "source": [
    "### 자연로그"
   ]
  },
  {
   "cell_type": "code",
   "execution_count": 113,
   "id": "c15abf83",
   "metadata": {},
   "outputs": [
    {
     "name": "stdout",
     "output_type": "stream",
     "text": [
      "x     = [1, 2, 4, 10]\n",
      "ln(x)   = [0.         0.69314718 1.38629436 2.30258509]\n",
      "log2(x)   = [0.         1.         2.         3.32192809]\n",
      "log10(x)   = [0.         0.30103    0.60205999 1.        ]\n",
      "\n",
      "exp(x)-1 = [0.         0.0010005  0.01005017 0.10517092]\n",
      "log(1+x) = [0.         0.0009995  0.00995033 0.09531018]\n"
     ]
    }
   ],
   "source": [
    "x = [1,2,4,10]\n",
    "print(\"x     =\",x)\n",
    "print(\"ln(x)   =\",np.log(x))\n",
    "print(\"log2(x)   =\",np.log2(x))\n",
    "print(\"log10(x)   =\",np.log10(x))\n",
    "print(\"\")\n",
    "#매우 작은 입력값의 정확도를 보정하고자 할때 사용하는 expm1, log1p\n",
    "x = [0,0.001,0.01,0.1]\n",
    "print(\"exp(x)-1 =\", np.expm1(x))\n",
    "print(\"log(1+x) =\", np.log1p(x))"
   ]
  },
  {
   "cell_type": "markdown",
   "id": "c43d1598",
   "metadata": {},
   "source": [
    "### 기타 특화된 함수들\n",
    "쌍곡선 삼각함수, 비트연산, 비교 연산자, 라디안 각도 변환, 반올림, 등등"
   ]
  },
  {
   "cell_type": "code",
   "execution_count": 116,
   "id": "e29f3119",
   "metadata": {},
   "outputs": [
    {
     "name": "stdout",
     "output_type": "stream",
     "text": [
      "gamma(x)     = [1.0000e+00 2.4000e+01 3.6288e+05]\n",
      "ln|gamma(x)| = [ 0.          3.17805383 12.80182748]\n",
      "beta(x, 2)   = [0.5        0.03333333 0.00909091]\n",
      "erf(x)    = [0.         0.32862676 0.67780119 0.84270079]\n",
      "erfc(x)   = [1.         0.67137324 0.32219881 0.15729921]\n",
      "erfinv(x) = [0.         0.27246271 0.73286908        inf]\n"
     ]
    }
   ],
   "source": [
    "from scipy import special\n",
    "x = [1,5,10]\n",
    "print(\"gamma(x)     =\", special.gamma(x))\n",
    "print(\"ln|gamma(x)| =\", special.gammaln(x))\n",
    "print(\"beta(x, 2)   =\", special.beta(x,2))\n",
    "\n",
    "# 오차함수(가우스 적분), 그 보수(complement)와 역수(inverse)\n",
    "x = np.array([0,0.3,0.7,1.0])\n",
    "print(\"erf(x)    =\", special.erf(x))\n",
    "print(\"erfc(x)   =\", special.erfc(x))\n",
    "print(\"erfinv(x) =\", special.erfinv(x))"
   ]
  },
  {
   "cell_type": "markdown",
   "id": "04785726",
   "metadata": {},
   "source": [
    "### 고급 Ufnc기능\n",
    "#### 출력 지정\n",
    "대규모 연산인 경우, 연산 결과를 저장할 배열을 지정하는 것이 유용하다. 임시 배열을 생성하지 않고 지정한 배열을 이용해 원하는 메모리 위치에 직접 연산 결과를 쓸 수 있다. 모든 ufncs에서 함수의 out인수를 사용해 출력을 지정할 수 있다."
   ]
  },
  {
   "cell_type": "code",
   "execution_count": 117,
   "id": "5dea943f",
   "metadata": {},
   "outputs": [
    {
     "data": {
      "text/plain": [
       "array([ 0., 10., 20., 30., 40.])"
      ]
     },
     "execution_count": 117,
     "metadata": {},
     "output_type": "execute_result"
    }
   ],
   "source": [
    "x = np.arange(5)\n",
    "y = np.empty(5)\n",
    "np.multiply(x,10, out=y)"
   ]
  },
  {
   "cell_type": "markdown",
   "id": "59343132",
   "metadata": {},
   "source": [
    "이건 배열 뷰와 함께 사용될 수 있다. 예를 들어 연산 결과를 지정된 배열의 요소에 하나씩 건너뛰면서 기록할 수 있다."
   ]
  },
  {
   "cell_type": "code",
   "execution_count": 118,
   "id": "d647e779",
   "metadata": {},
   "outputs": [
    {
     "name": "stdout",
     "output_type": "stream",
     "text": [
      "[ 1.  0.  2.  0.  4.  0.  8.  0. 16.  0.]\n"
     ]
    }
   ],
   "source": [
    "y = np.zeros(10)\n",
    "np.power(2,x,out=y[::2])\n",
    "print(y)"
   ]
  },
  {
   "cell_type": "markdown",
   "id": "8620ea25",
   "metadata": {},
   "source": [
    "### 집계"
   ]
  },
  {
   "cell_type": "code",
   "execution_count": 119,
   "id": "1b9dac5f",
   "metadata": {},
   "outputs": [
    {
     "data": {
      "text/plain": [
       "15"
      ]
     },
     "execution_count": 119,
     "metadata": {},
     "output_type": "execute_result"
    }
   ],
   "source": [
    "x = np.arange(1,6)\n",
    "np.add.reduce(x)"
   ]
  },
  {
   "cell_type": "code",
   "execution_count": 120,
   "id": "ffbbd1d9",
   "metadata": {},
   "outputs": [
    {
     "data": {
      "text/plain": [
       "120"
      ]
     },
     "execution_count": 120,
     "metadata": {},
     "output_type": "execute_result"
    }
   ],
   "source": [
    "np.multiply.reduce(x)"
   ]
  },
  {
   "cell_type": "code",
   "execution_count": 121,
   "id": "56f0546e",
   "metadata": {},
   "outputs": [
    {
     "data": {
      "text/plain": [
       "array([ 1,  3,  6, 10, 15], dtype=int32)"
      ]
     },
     "execution_count": 121,
     "metadata": {},
     "output_type": "execute_result"
    }
   ],
   "source": [
    "np.add.accumulate(x)"
   ]
  },
  {
   "cell_type": "code",
   "execution_count": 124,
   "id": "e2f73a0e",
   "metadata": {},
   "outputs": [
    {
     "data": {
      "text/plain": [
       "array([  1,   2,   6,  24, 120], dtype=int32)"
      ]
     },
     "execution_count": 124,
     "metadata": {},
     "output_type": "execute_result"
    }
   ],
   "source": [
    "np.multiply.accumulate(x)"
   ]
  },
  {
   "cell_type": "markdown",
   "id": "9eaec486",
   "metadata": {},
   "source": [
    "### 외적(Outer Products)\n",
    "입력값에 대한 모든 쌍에 대해서 출력값 계산"
   ]
  },
  {
   "cell_type": "code",
   "execution_count": 125,
   "id": "a13e7808",
   "metadata": {},
   "outputs": [
    {
     "data": {
      "text/plain": [
       "array([[ 1,  2,  3,  4,  5],\n",
       "       [ 2,  4,  6,  8, 10],\n",
       "       [ 3,  6,  9, 12, 15],\n",
       "       [ 4,  8, 12, 16, 20],\n",
       "       [ 5, 10, 15, 20, 25]])"
      ]
     },
     "execution_count": 125,
     "metadata": {},
     "output_type": "execute_result"
    }
   ],
   "source": [
    "x = np.arange(1,6)\n",
    "np.multiply.outer(x,x)"
   ]
  },
  {
   "cell_type": "markdown",
   "id": "5af92f5b",
   "metadata": {},
   "source": [
    "### 배열 값의 합 구하기"
   ]
  },
  {
   "cell_type": "code",
   "execution_count": 129,
   "id": "1668e0a3",
   "metadata": {},
   "outputs": [],
   "source": [
    "import numpy as np\n",
    "L = np.random.random(100)\n",
    "big_array = np.random.rand(1000000)"
   ]
  },
  {
   "cell_type": "code",
   "execution_count": 130,
   "id": "b90e2698",
   "metadata": {},
   "outputs": [
    {
     "name": "stdout",
     "output_type": "stream",
     "text": [
      "103 ms ± 4.9 ms per loop (mean ± std. dev. of 7 runs, 10 loops each)\n"
     ]
    }
   ],
   "source": [
    "%timeit sum(big_array)"
   ]
  },
  {
   "cell_type": "code",
   "execution_count": 131,
   "id": "e73d19a5",
   "metadata": {},
   "outputs": [
    {
     "name": "stdout",
     "output_type": "stream",
     "text": [
      "929 µs ± 43.5 µs per loop (mean ± std. dev. of 7 runs, 1000 loops each)\n"
     ]
    }
   ],
   "source": [
    "%timeit np.sum(big_array)"
   ]
  },
  {
   "cell_type": "markdown",
   "id": "7faeb675",
   "metadata": {},
   "source": [
    "똑같은 값의 합이지만 걸리는 시간이 다르다"
   ]
  },
  {
   "cell_type": "code",
   "execution_count": 132,
   "id": "3125d26c",
   "metadata": {},
   "outputs": [
    {
     "data": {
      "text/plain": [
       "(7.071203171893359e-07, 0.9999997207656334)"
      ]
     },
     "execution_count": 132,
     "metadata": {},
     "output_type": "execute_result"
    }
   ],
   "source": [
    "min(big_array), max(big_array)"
   ]
  },
  {
   "cell_type": "code",
   "execution_count": 133,
   "id": "f1d517c4",
   "metadata": {
    "scrolled": true
   },
   "outputs": [
    {
     "data": {
      "text/plain": [
       "(7.071203171893359e-07, 0.9999997207656334)"
      ]
     },
     "execution_count": 133,
     "metadata": {},
     "output_type": "execute_result"
    }
   ],
   "source": [
    "np.min(big_array), np.max(big_array)"
   ]
  },
  {
   "cell_type": "markdown",
   "id": "f28c1c81",
   "metadata": {},
   "source": [
    "마찬가지로 걸리는 시간이 차이남"
   ]
  },
  {
   "cell_type": "code",
   "execution_count": 134,
   "id": "dff5cfd8",
   "metadata": {},
   "outputs": [
    {
     "name": "stdout",
     "output_type": "stream",
     "text": [
      "7.071203171893359e-07 0.9999997207656334 500213.2396620991\n"
     ]
    }
   ],
   "source": [
    "print(big_array.min(), big_array.max(), big_array.sum())"
   ]
  },
  {
   "cell_type": "markdown",
   "id": "b00384c8",
   "metadata": {},
   "source": [
    "### 다차원 집계"
   ]
  },
  {
   "cell_type": "code",
   "execution_count": 136,
   "id": "f49fb691",
   "metadata": {},
   "outputs": [
    {
     "name": "stdout",
     "output_type": "stream",
     "text": [
      "[[0.58482442 0.39996498 0.54868445 0.10586911]\n",
      " [0.1247232  0.97428545 0.08095713 0.49450339]\n",
      " [0.5728416  0.17517345 0.57028092 0.35511846]]\n"
     ]
    }
   ],
   "source": [
    "M = np.random.random((3,4))\n",
    "print(M)"
   ]
  },
  {
   "cell_type": "code",
   "execution_count": 137,
   "id": "215c277b",
   "metadata": {},
   "outputs": [
    {
     "data": {
      "text/plain": [
       "4.987226586697499"
      ]
     },
     "execution_count": 137,
     "metadata": {},
     "output_type": "execute_result"
    }
   ],
   "source": [
    "M.sum()"
   ]
  },
  {
   "cell_type": "code",
   "execution_count": 140,
   "id": "a4ffb75e",
   "metadata": {},
   "outputs": [
    {
     "data": {
      "text/plain": [
       "array([0.1247232 , 0.17517345, 0.08095713, 0.10586911])"
      ]
     },
     "execution_count": 140,
     "metadata": {},
     "output_type": "execute_result"
    }
   ],
   "source": [
    "M.min(axis=0) #어떤 축에 따라서 집계를 할 것인가\n",
    "# 각 행에서 가장 작은 값을 반환"
   ]
  },
  {
   "cell_type": "code",
   "execution_count": 141,
   "id": "38c676e0",
   "metadata": {},
   "outputs": [
    {
     "data": {
      "text/plain": [
       "array([0.58482442, 0.97428545, 0.5728416 ])"
      ]
     },
     "execution_count": 141,
     "metadata": {},
     "output_type": "execute_result"
    }
   ],
   "source": [
    "M.max(axis=1)"
   ]
  },
  {
   "cell_type": "markdown",
   "id": "b39a00f6",
   "metadata": {},
   "source": [
    "![numpy_ aggregation_functions.png](./numpy_aggregation_functions.png)"
   ]
  },
  {
   "cell_type": "markdown",
   "id": "4d4515c0",
   "metadata": {},
   "source": [
    "### 예제 : 미국 대통령의 평균 신장은 얼마일까?"
   ]
  },
  {
   "cell_type": "code",
   "execution_count": 142,
   "id": "15d531b0",
   "metadata": {},
   "outputs": [
    {
     "name": "stdout",
     "output_type": "stream",
     "text": [
      "order,name,height(cm)\n",
      "1,George Washington,189\n",
      "2,John Adams,170\n",
      "3,Thomas Jefferson,189\n"
     ]
    }
   ],
   "source": [
    "!head -4 ./president_heights.csv"
   ]
  },
  {
   "cell_type": "code",
   "execution_count": 143,
   "id": "3b8e58fe",
   "metadata": {},
   "outputs": [
    {
     "name": "stdout",
     "output_type": "stream",
     "text": [
      "[189 170 189 163 183 171 185 168 173 183 173 173 175 178 183 193 178 173\n",
      " 174 183 183 168 170 178 182 180 183 178 182 188 175 179 183 193 182 183\n",
      " 177 185 188 188 182 185]\n"
     ]
    }
   ],
   "source": [
    "import pandas as pd\n",
    "data = pd.read_csv('./president_heights.csv')\n",
    "heights = np.array(data['height(cm)'])\n",
    "print(heights)"
   ]
  },
  {
   "cell_type": "code",
   "execution_count": 144,
   "id": "cd9edceb",
   "metadata": {},
   "outputs": [
    {
     "name": "stdout",
     "output_type": "stream",
     "text": [
      "Mean hieght        :  179.73809523809524\n",
      "Standard deviation :  6.931843442745892\n",
      "Minimum height     :  163\n",
      "Maximum height     :  193\n"
     ]
    }
   ],
   "source": [
    "print(\"Mean hieght        : \", heights.mean())\n",
    "print(\"Standard deviation : \", heights.std())\n",
    "print(\"Minimum height     : \", heights.min())\n",
    "print(\"Maximum height     : \", heights.max())"
   ]
  },
  {
   "cell_type": "code",
   "execution_count": 145,
   "id": "90212e92",
   "metadata": {},
   "outputs": [
    {
     "name": "stdout",
     "output_type": "stream",
     "text": [
      "25th percentile:  174.25\n",
      "Median         :  182.0\n",
      "75th percentile:  183.0\n"
     ]
    }
   ],
   "source": [
    "print(\"25th percentile: \", np.percentile(heights, 25))\n",
    "print(\"Median         : \", np.median(heights))\n",
    "print(\"75th percentile: \", np.percentile(heights, 75))"
   ]
  },
  {
   "cell_type": "code",
   "execution_count": 147,
   "id": "8aa68f76",
   "metadata": {},
   "outputs": [],
   "source": [
    "%matplotlib inline\n",
    "import matplotlib.pyplot as plt\n",
    "import seaborn; seaborn.set()"
   ]
  },
  {
   "cell_type": "code",
   "execution_count": 148,
   "id": "63bb7b22",
   "metadata": {},
   "outputs": [
    {
     "data": {
      "image/png": "[encoded data removed]",
      "text/plain": [
       "<Figure size 432x288 with 1 Axes>"
      ]
     },
     "metadata": {},
     "output_type": "display_data"
    }
   ],
   "source": [
    "plt.hist(heights)\n",
    "plt.title('Height Distribution of US Presidents')\n",
    "plt.xlabel('height (cm)')\n",
    "plt.ylabel('number');"
   ]
  },
  {
   "cell_type": "markdown",
   "id": "3f0b5ac8",
   "metadata": {},
   "source": [
    "### 배열 연산 브로드 캐스팅\n",
    "벡터화 연산의 또 다른 방법은 Numpy의 브로드캐스팅 기능을 사용한다. 브로드캐스팅은 단지 다른 크기의 배열에 유니버셜 함수(사칙연산)을 적용하기 위한 규칙의 집합 73p\n",
    "### 브로드캐스팅 소개\n",
    "같은 크기의 배열에서 이항 연상느 배열의 요소 단위로 수행된다"
   ]
  },
  {
   "cell_type": "code",
   "execution_count": 1,
   "id": "4ed6b10d",
   "metadata": {},
   "outputs": [
    {
     "data": {
      "text/plain": [
       "array([5, 6, 7])"
      ]
     },
     "execution_count": 1,
     "metadata": {},
     "output_type": "execute_result"
    }
   ],
   "source": [
    "import numpy as np\n",
    "a = np.array([0,1,2])\n",
    "b = np.array([5,5,5])\n",
    "a+b"
   ]
  },
  {
   "cell_type": "markdown",
   "id": "53b1bbd9",
   "metadata": {},
   "source": [
    "브로드캐스팅을 사용하면 이항 연산을 서로 다른 크기의 배열에서 수행할 수 있다. 예를 들어 배열에 스칼라(0차원배열)을 쉽게 더할 수 있다  \n",
    "브로드캐스팅의 이점은 값 복제가 실제로 발생하지 않는다. 하지만 브로드캐스팅을 이러한 방식으로 생각하면 이해하기 쉽다.  \n",
    "이것을 더 높은 차원의 배열로 확장할 수도 있다. 1차원 배열을 2차원 배열에 더하면 어떻게 될까?  "
   ]
  },
  {
   "cell_type": "code",
   "execution_count": 2,
   "id": "bc33ffaf",
   "metadata": {},
   "outputs": [],
   "source": [
    "M = np.ones((3,3))"
   ]
  },
  {
   "cell_type": "code",
   "execution_count": 3,
   "id": "ef2a1b70",
   "metadata": {
    "scrolled": true
   },
   "outputs": [
    {
     "data": {
      "text/plain": [
       "array([[1., 2., 3.],\n",
       "       [1., 2., 3.],\n",
       "       [1., 2., 3.]])"
      ]
     },
     "execution_count": 3,
     "metadata": {},
     "output_type": "execute_result"
    }
   ],
   "source": [
    "M+a"
   ]
  },
  {
   "cell_type": "markdown",
   "id": "6447c2b5",
   "metadata": {},
   "source": [
    "여기서 1차원 배열 a는 M의 형상에 맞추기 위해 두 번째 차원까지 확장 또는 브로드캐스팅 된다.  \n",
    "두 배열 모두 브로드캐스팅해야하는 경우에는?  "
   ]
  },
  {
   "cell_type": "code",
   "execution_count": 5,
   "id": "3549ee50",
   "metadata": {},
   "outputs": [
    {
     "name": "stdout",
     "output_type": "stream",
     "text": [
      "[0 1 2]\n",
      "[[0]\n",
      " [1]\n",
      " [2]]\n"
     ]
    }
   ],
   "source": [
    "a = np.arange(3)\n",
    "b = np.arange(3)[:,None]\n",
    "print(a)\n",
    "print(b)"
   ]
  },
  {
   "cell_type": "code",
   "execution_count": 6,
   "id": "5a99a17d",
   "metadata": {
    "scrolled": true
   },
   "outputs": [
    {
     "data": {
      "text/plain": [
       "array([[0, 1, 2],\n",
       "       [1, 2, 3],\n",
       "       [2, 3, 4]])"
      ]
     },
     "execution_count": 6,
     "metadata": {},
     "output_type": "execute_result"
    }
   ],
   "source": [
    "a+b"
   ]
  },
  {
   "cell_type": "markdown",
   "id": "824da7b4",
   "metadata": {},
   "source": [
    "결과적으로 2차원 배열을 얻었다.\n",
    "\n",
    "### 브로드캐스팅 규칙  \n",
    "1 : 두 배열의 차원 수가 다르면 더 작은 수의 차원을 가진 배열 형상의 앞쪽을 1로 채운다.  \n",
    "2 : 두 배열의 형상이 어떤 차원에서도 일치하지 않는다면 해당 차원의 형상이 1인 배열이 다른 형상과 일치하도록 늘어난다.  \n",
    "3 : 임의의 차원에서 크기가 일치하지 않고 1도 아니라면 오류가 발생한다.  \n",
    "\n",
    "예제1"
   ]
  },
  {
   "cell_type": "code",
   "execution_count": 8,
   "id": "a9096c90",
   "metadata": {},
   "outputs": [],
   "source": [
    "M = np.ones((2,3))\n",
    "a = np.arange(3)"
   ]
  },
  {
   "cell_type": "code",
   "execution_count": 9,
   "id": "53efa407",
   "metadata": {},
   "outputs": [],
   "source": [
    "M.shape = (2,3)\n",
    "a.shape = (3,)"
   ]
  },
  {
   "cell_type": "code",
   "execution_count": 12,
   "id": "55ca4291",
   "metadata": {},
   "outputs": [
    {
     "data": {
      "text/plain": [
       "array([[1., 2., 3.],\n",
       "       [1., 2., 3.]])"
      ]
     },
     "execution_count": 12,
     "metadata": {},
     "output_type": "execute_result"
    }
   ],
   "source": [
    "M+a"
   ]
  },
  {
   "cell_type": "code",
   "execution_count": 13,
   "id": "f06b6d07",
   "metadata": {},
   "outputs": [
    {
     "data": {
      "text/plain": [
       "(2, 3)"
      ]
     },
     "execution_count": 13,
     "metadata": {},
     "output_type": "execute_result"
    }
   ],
   "source": [
    "(M+a).shape"
   ]
  },
  {
   "cell_type": "markdown",
   "id": "83dfeb41",
   "metadata": {},
   "source": [
    "예제2 두 배열 모두 브로드캐스팅 필요"
   ]
  },
  {
   "cell_type": "code",
   "execution_count": 14,
   "id": "056cdd74",
   "metadata": {},
   "outputs": [],
   "source": [
    "a = np.arange(3).reshape((3,1))\n",
    "b = np.arange(3)"
   ]
  },
  {
   "cell_type": "code",
   "execution_count": 15,
   "id": "7f46b556",
   "metadata": {},
   "outputs": [],
   "source": [
    "a.shape = (3,1)\n",
    "b.shape = (3,)"
   ]
  },
  {
   "cell_type": "code",
   "execution_count": 16,
   "id": "898668ed",
   "metadata": {},
   "outputs": [
    {
     "data": {
      "text/plain": [
       "array([[0, 1, 2],\n",
       "       [1, 2, 3],\n",
       "       [2, 3, 4]])"
      ]
     },
     "execution_count": 16,
     "metadata": {},
     "output_type": "execute_result"
    }
   ],
   "source": [
    "a+b"
   ]
  },
  {
   "cell_type": "markdown",
   "id": "44f4b829",
   "metadata": {},
   "source": [
    "예제3 두 개의 배열이 호환되지 않는 경우의 예제"
   ]
  },
  {
   "cell_type": "code",
   "execution_count": 18,
   "id": "f543957e",
   "metadata": {},
   "outputs": [],
   "source": [
    "M = np.ones((3,2))\n",
    "a = np.arange(3)\n",
    "#행렬 M의 형상이 뒤바뀌었음"
   ]
  },
  {
   "cell_type": "code",
   "execution_count": 20,
   "id": "a4f81846",
   "metadata": {},
   "outputs": [],
   "source": [
    "M.shape = (3,2)\n",
    "a.shape = (3,)"
   ]
  },
  {
   "cell_type": "code",
   "execution_count": 21,
   "id": "005058f1",
   "metadata": {
    "scrolled": false
   },
   "outputs": [
    {
     "ename": "ValueError",
     "evalue": "operands could not be broadcast together with shapes (3,2) (3,) ",
     "output_type": "error",
     "traceback": [
      "\u001b[1;31m---------------------------------------------------------------------------\u001b[0m",
      "\u001b[1;31mValueError\u001b[0m                                Traceback (most recent call last)",
      "\u001b[1;32m~\\AppData\\Local\\Temp/ipykernel_18160/385048407.py\u001b[0m in \u001b[0;36m<module>\u001b[1;34m\u001b[0m\n\u001b[1;32m----> 1\u001b[1;33m \u001b[0mM\u001b[0m\u001b[1;33m+\u001b[0m\u001b[0ma\u001b[0m\u001b[1;33m\u001b[0m\u001b[1;33m\u001b[0m\u001b[0m\n\u001b[0m",
      "\u001b[1;31mValueError\u001b[0m: operands could not be broadcast together with shapes (3,2) (3,) "
     ]
    }
   ],
   "source": [
    "M+a"
   ]
  },
  {
   "cell_type": "markdown",
   "id": "7f27b806",
   "metadata": {},
   "source": [
    "a의 형상에 왼쪽이 아니라 오른쪽에 1을 덧붙이면 a와 M이 서로 호환되지 않을수 있을까하지만 그렇게는 동작하지 않는다."
   ]
  },
  {
   "cell_type": "code",
   "execution_count": 22,
   "id": "36f89c57",
   "metadata": {},
   "outputs": [
    {
     "name": "stdout",
     "output_type": "stream",
     "text": [
      "(3, 1)\n"
     ]
    },
    {
     "data": {
      "text/plain": [
       "array([[1., 1.],\n",
       "       [2., 2.],\n",
       "       [3., 3.]])"
      ]
     },
     "execution_count": 22,
     "metadata": {},
     "output_type": "execute_result"
    }
   ],
   "source": [
    "print(a[:, None].shape)\n",
    "M+a[:,None]"
   ]
  },
  {
   "cell_type": "markdown",
   "id": "d340b678",
   "metadata": {},
   "source": [
    "### 실전브로드캐스팅\n",
    "배열을 중앙 정렬하기"
   ]
  },
  {
   "cell_type": "code",
   "execution_count": 23,
   "id": "a59ffc14",
   "metadata": {},
   "outputs": [],
   "source": [
    "X = np.random.random((10,3))"
   ]
  },
  {
   "cell_type": "code",
   "execution_count": 26,
   "id": "d9484b16",
   "metadata": {},
   "outputs": [],
   "source": [
    "Xmean = X.mean(0)\n",
    "#중앙값을 뽑아올 수 있음"
   ]
  },
  {
   "cell_type": "code",
   "execution_count": 28,
   "id": "035e23eb",
   "metadata": {},
   "outputs": [
    {
     "data": {
      "text/plain": [
       "array([-2.22044605e-17,  4.44089210e-17,  0.00000000e+00])"
      ]
     },
     "execution_count": 28,
     "metadata": {},
     "output_type": "execute_result"
    }
   ],
   "source": [
    "X_centered = X - Xmean\n",
    "X_centered.mean(0)"
   ]
  },
  {
   "cell_type": "markdown",
   "id": "a2d9d109",
   "metadata": {},
   "source": [
    "### 2차원 함수 플로팅하기\n",
    "브로드캐스팅은 2차원 함수를 기반으로 이미지를 그릴 때도 매우 유용하다. 함수를 정의하고 싶다면 브로드캐스팅을 사용해 그리드에 이 함수를 계산할 수 있다"
   ]
  },
  {
   "cell_type": "code",
   "execution_count": 29,
   "id": "10a531b3",
   "metadata": {},
   "outputs": [],
   "source": [
    "x = np.linspace(0,5,50)\n",
    "y = np.linspace(0,5,50)[:, None]\n",
    "z = np.sin(x) ** 10 + np.cos(10+y*x)*np.cos(x)"
   ]
  },
  {
   "cell_type": "code",
   "execution_count": 31,
   "id": "bc410508",
   "metadata": {
    "scrolled": true
   },
   "outputs": [
    {
     "data": {
      "image/png": "[encoded data removed]",
      "text/plain": [
       "<Figure size 432x288 with 2 Axes>"
      ]
     },
     "metadata": {
      "needs_background": "light"
     },
     "output_type": "display_data"
    }
   ],
   "source": [
    "%matplotlib inline\n",
    "import matplotlib.pyplot as plt\n",
    "plt.imshow(z, origin='lower', extent=[0,5,0,5], cmap='viridis')\n",
    "plt.colorbar();"
   ]
  },
  {
   "cell_type": "markdown",
   "id": "fc30d547",
   "metadata": {},
   "source": [
    "### 비교, 마스크, 부울 로직"
   ]
  },
  {
   "cell_type": "code",
   "execution_count": 32,
   "id": "d401ac31",
   "metadata": {},
   "outputs": [
    {
     "data": {
      "text/plain": [
       "(365,)"
      ]
     },
     "execution_count": 32,
     "metadata": {},
     "output_type": "execute_result"
    }
   ],
   "source": [
    "import numpy as np\n",
    "import pandas as pd\n",
    "#판다스를 이용해 인치 단위의 강수량 데이터를 numpy 배열로 추출\n",
    "rainfall = pd.read_csv('./Seattle2014.csv')['PRCP'].values\n",
    "inches = rainfall / 254 # 1/10mm -> inches\n",
    "inches.shape"
   ]
  },
  {
   "cell_type": "code",
   "execution_count": 33,
   "id": "9e570ad8",
   "metadata": {},
   "outputs": [],
   "source": [
    "%matplotlib inline\n",
    "import matplotlib.pyplot as plt\n",
    "import seaborn; seaborn.set()"
   ]
  },
  {
   "cell_type": "code",
   "execution_count": 36,
   "id": "f45d87b6",
   "metadata": {
    "scrolled": true
   },
   "outputs": [
    {
     "data": {
      "image/png": "[encoded data removed]",
      "text/plain": [
       "<Figure size 432x288 with 1 Axes>"
      ]
     },
     "metadata": {},
     "output_type": "display_data"
    }
   ],
   "source": [
    "plt.hist(inches,40);"
   ]
  },
  {
   "cell_type": "markdown",
   "id": "ef085aef",
   "metadata": {},
   "source": [
    "비가 많이 오기로 유명한 시애틀이지만 2014년에는 대다수 날에 강수량이 0에 가까운 모습을 볼 수 있다. 그렇지만 이 그래프는 그 해 비가 온 날은 며칠일까? 비 오는 날의 평균 강수량은 얼마인가? 0.5인치 이상 비가 온 날은 며칠이나 될까? 정보를 알 수는 없다"
   ]
  },
  {
   "cell_type": "code",
   "execution_count": 37,
   "id": "d8410fd7",
   "metadata": {},
   "outputs": [
    {
     "data": {
      "text/plain": [
       "array([ True,  True, False, False, False])"
      ]
     },
     "execution_count": 37,
     "metadata": {},
     "output_type": "execute_result"
    }
   ],
   "source": [
    "x = np.array([1,2,3,4,5])\n",
    "x<3"
   ]
  },
  {
   "cell_type": "code",
   "execution_count": 38,
   "id": "166cdc19",
   "metadata": {},
   "outputs": [
    {
     "data": {
      "text/plain": [
       "array([False, False, False,  True,  True])"
      ]
     },
     "execution_count": 38,
     "metadata": {},
     "output_type": "execute_result"
    }
   ],
   "source": [
    "x>3"
   ]
  },
  {
   "cell_type": "code",
   "execution_count": 39,
   "id": "acfaa27d",
   "metadata": {},
   "outputs": [
    {
     "data": {
      "text/plain": [
       "array([ True,  True, False,  True,  True])"
      ]
     },
     "execution_count": 39,
     "metadata": {},
     "output_type": "execute_result"
    }
   ],
   "source": [
    "x!=3"
   ]
  },
  {
   "cell_type": "code",
   "execution_count": 40,
   "id": "bc695c65",
   "metadata": {},
   "outputs": [
    {
     "data": {
      "text/plain": [
       "array([False,  True, False, False, False])"
      ]
     },
     "execution_count": 40,
     "metadata": {},
     "output_type": "execute_result"
    }
   ],
   "source": [
    "(2*x) == (x**2)"
   ]
  },
  {
   "cell_type": "markdown",
   "id": "a06f92dc",
   "metadata": {},
   "source": [
    "![cal_ufunc.jpg](./cal_ufunc.jpg)  \n",
    "마찬가지로 2차원에서도 적용이 된다"
   ]
  },
  {
   "cell_type": "code",
   "execution_count": 43,
   "id": "5986773d",
   "metadata": {},
   "outputs": [
    {
     "data": {
      "text/plain": [
       "array([[ True,  True,  True,  True],\n",
       "       [False, False,  True,  True],\n",
       "       [ True,  True, False, False]])"
      ]
     },
     "execution_count": 43,
     "metadata": {},
     "output_type": "execute_result"
    }
   ],
   "source": [
    "rng = np.random.RandomState(0)\n",
    "x = rng.randint(10, size=(3,4))\n",
    "x<6"
   ]
  },
  {
   "cell_type": "code",
   "execution_count": 46,
   "id": "e1c94d48",
   "metadata": {},
   "outputs": [
    {
     "name": "stdout",
     "output_type": "stream",
     "text": [
      "8\n",
      "8\n"
     ]
    }
   ],
   "source": [
    "#6보다 작은 것을 몇개가 있을까?\n",
    "print(np.count_nonzero(x<6))\n",
    "print(np.sum(x<6))"
   ]
  },
  {
   "cell_type": "code",
   "execution_count": 47,
   "id": "f2314b8f",
   "metadata": {},
   "outputs": [
    {
     "data": {
      "text/plain": [
       "array([4, 2, 2])"
      ]
     },
     "execution_count": 47,
     "metadata": {},
     "output_type": "execute_result"
    }
   ],
   "source": [
    "#각 행에 6보다 작은 값이 몇개 일까?\n",
    "np.sum(x<6, axis=1)"
   ]
  },
  {
   "cell_type": "code",
   "execution_count": 51,
   "id": "ba9c3bcc",
   "metadata": {},
   "outputs": [
    {
     "name": "stdout",
     "output_type": "stream",
     "text": [
      "True\n",
      "False\n",
      "[ True False  True]\n"
     ]
    }
   ],
   "source": [
    "#8보다 큰 값이 하나라도 있는가?\n",
    "print(np.any(x>8))\n",
    "#모든 값이 6과 같은가?\n",
    "print(np.all(x==6))\n",
    "#각 행의 모든 값이 8보다 작은가?\n",
    "print(np.all(x<8, axis=1))"
   ]
  },
  {
   "cell_type": "markdown",
   "id": "66f85ddb",
   "metadata": {},
   "source": [
    "### 부울 연산자\n",
    "비트단위 로직 연산자 & | ^ ~"
   ]
  },
  {
   "cell_type": "code",
   "execution_count": 53,
   "id": "0122b3d1",
   "metadata": {},
   "outputs": [
    {
     "data": {
      "text/plain": [
       "29"
      ]
     },
     "execution_count": 53,
     "metadata": {},
     "output_type": "execute_result"
    }
   ],
   "source": [
    "np.sum((inches>0.5)&(inches<1))\n",
    "# 복합적으로 계산이 필요할때"
   ]
  },
  {
   "cell_type": "code",
   "execution_count": 55,
   "id": "1086b1f6",
   "metadata": {},
   "outputs": [
    {
     "data": {
      "text/plain": [
       "29"
      ]
     },
     "execution_count": 55,
     "metadata": {},
     "output_type": "execute_result"
    }
   ],
   "source": [
    "np.sum(~((inches<=0.5)|(inches>=1)))"
   ]
  },
  {
   "cell_type": "markdown",
   "id": "6d4ed819",
   "metadata": {},
   "source": [
    "|연산자|대응ufunc|\n",
    "|-----------|--------------|\n",
    "|&|np.biwise_and|\n",
    "|\t&#124;|np.biwise_or|\n",
    "|^|np.biwise_xor|\n",
    "|~|np.biwise_not|\n",
    "\n",
    "이 도구를 사용해서 여러가지 질문에 대한 답을 찾을 수 있다. 여기에 마스킹과 집계 함수를 결합해서 계산할 수 있는 결괏값에 대한 몇가지 예제는 다음과 같다"
   ]
  },
  {
   "cell_type": "code",
   "execution_count": 60,
   "id": "067b79c8",
   "metadata": {},
   "outputs": [
    {
     "name": "stdout",
     "output_type": "stream",
     "text": [
      "Number days without rain       :  215\n",
      "Number days with rain          :  150\n",
      "Days with more than 0.5 incehs :  37\n",
      "Rainy days with < 0.1 incehs   :  75\n"
     ]
    }
   ],
   "source": [
    "print(\"Number days without rain       : \", np.sum(inches == 0))\n",
    "print(\"Number days with rain          : \", np.sum(inches != 0))\n",
    "print(\"Days with more than 0.5 incehs : \", np.sum(inches > 0.5))\n",
    "print(\"Rainy days with < 0.1 incehs   : \", np.sum((inches > 0)&(inches<0.2)))"
   ]
  },
  {
   "cell_type": "markdown",
   "id": "05db1df1",
   "metadata": {},
   "source": [
    "### 마스크로서의 부울 배열\n",
    "부울 배열을 마스크로 사용해 데이터 자체의 특정 부분 집합을 선택하는 것이다"
   ]
  },
  {
   "cell_type": "code",
   "execution_count": 61,
   "id": "991b6a2b",
   "metadata": {},
   "outputs": [
    {
     "data": {
      "text/plain": [
       "array([[5, 0, 3, 3],\n",
       "       [7, 9, 3, 5],\n",
       "       [2, 4, 7, 6]])"
      ]
     },
     "execution_count": 61,
     "metadata": {},
     "output_type": "execute_result"
    }
   ],
   "source": [
    "x"
   ]
  },
  {
   "cell_type": "code",
   "execution_count": 62,
   "id": "bca0b4f2",
   "metadata": {},
   "outputs": [
    {
     "data": {
      "text/plain": [
       "array([[False,  True,  True,  True],\n",
       "       [False, False,  True, False],\n",
       "       [ True,  True, False, False]])"
      ]
     },
     "execution_count": 62,
     "metadata": {},
     "output_type": "execute_result"
    }
   ],
   "source": [
    "x<5"
   ]
  },
  {
   "cell_type": "code",
   "execution_count": 64,
   "id": "c90e98f2",
   "metadata": {},
   "outputs": [
    {
     "data": {
      "text/plain": [
       "array([0, 3, 3, 3, 2, 4])"
      ]
     },
     "execution_count": 64,
     "metadata": {},
     "output_type": "execute_result"
    }
   ],
   "source": [
    "x[x<5] #조건문을 인덱스처럼 사용할 수 있다"
   ]
  },
  {
   "cell_type": "code",
   "execution_count": 67,
   "id": "7a6202a2",
   "metadata": {},
   "outputs": [
    {
     "name": "stdout",
     "output_type": "stream",
     "text": [
      "Median precip on rainy days in 2014 (incehs): 0.19488188976377951\n",
      "Median precip on summer days in 2014 (incehs): 0.0\n",
      "Maximum precip on summer days in 2014 (incehs): 0.8503937007874016\n",
      "Median precip on non-summer rainy days in 2014 (incehs): 0.20078740157480315\n"
     ]
    }
   ],
   "source": [
    "#비가온 날에 대한 마스크 생성\n",
    "rainy = (inches > 0)\n",
    "#여름에 해당하는 날에 대한 마스크 생성(6월 21일은 172번째 날)\n",
    "summer = (np.arange(365) - 172 < 90) & (np.arange(365)-172>0)\n",
    "print(\"Median precip on rainy days in 2014 (incehs):\", np.median(inches[rainy]))\n",
    "print(\"Median precip on summer days in 2014 (incehs):\", np.median(inches[summer]))\n",
    "print(\"Maximum precip on summer days in 2014 (incehs):\", np.max(inches[summer]))\n",
    "print(\"Median precip on non-summer rainy days in 2014 (incehs):\", np.median(inches[rainy & ~summer]))"
   ]
  },
  {
   "cell_type": "markdown",
   "id": "6eb2bee2",
   "metadata": {},
   "source": [
    "### 키워드 and/or vs 연산자 &/| 사용하기\n",
    "둘의 차이점은 키워드는 전체 객체의 참과 거짓을 측정하는 반면 연산자는 각 객체 비특를 참조한다.  \n",
    "and나 or을 사용하는 것은 파이썬에 그 객체를 하나의 부울 요소로 취급해달라는 것과 마찬가지다. 파이썬에서 모든 0이 아닌 정수는 True로 간주한다.  \n",
    "\n",
    "&와 |를 정수에 사용할 때 표현식은 그 요소의 비트에 대해 동작하므로 그 숫자를 구성하는 개별 비트에 and와 or를 적용하는 것과 같다.  \n",
    "\n",
    "결과를 산출하기 위해 이진 표현에서 대응하는 비트를 비교한다는 점을 알아두자\n",
    "Numpy의 부울 배열을 가지고 있다면 이를 1 =True 0 = False인 비트로 이뤄진 문자열로 생각할 수 있고, &와 |의 결과는 이전과 비슷한 방식으로 동작한다.\n",
    "\n",
    "and와 or은 전체 객체에 대해 단일 부울평가를 수행하며 &와 |는 객체의 내용(개별 비트나 바이트)에 대해 여러번 부울 평가를 수행한다. 부울 Numpy배열에서는 대부분 후자를 선호한다."
   ]
  },
  {
   "cell_type": "markdown",
   "id": "f879e3f9",
   "metadata": {},
   "source": [
    "### 팬시 인덱싱\n",
    "팬시 인덱싱은 이미 살펴본 단순 인덱싱과 비슷하지만 단일 스칼라 대신 인덱스 배열을 전달한다. 복잡한 배열 값의 하위 집합에 매우 빠르게 접근해 수정 할 수 있다. 팬시 인덱싱은 개념적으로 간단하다. 즉 한 번에 여러 배열 요소에 접근하기 위해 인덱스의 배열을 전달한다. 예를 들어 다음 예제를 보자"
   ]
  },
  {
   "cell_type": "code",
   "execution_count": 69,
   "id": "9dc25c55",
   "metadata": {},
   "outputs": [
    {
     "name": "stdout",
     "output_type": "stream",
     "text": [
      "[51 92 14 71 60 20 82 86 74 74]\n"
     ]
    }
   ],
   "source": [
    "import numpy as np\n",
    "rand = np.random.RandomState(42)\n",
    "x = rand.randint(100, size=10)\n",
    "print(x)"
   ]
  },
  {
   "cell_type": "markdown",
   "id": "00ab247c",
   "metadata": {},
   "source": [
    "팬시 인덱싱을 사용하면 결과의 형상이 인덱싱 대상 배열의 형상이 아니라 인덱스 배열의 형상을 반영한다."
   ]
  },
  {
   "cell_type": "code",
   "execution_count": 70,
   "id": "f5e37313",
   "metadata": {},
   "outputs": [
    {
     "data": {
      "text/plain": [
       "array([[71, 86],\n",
       "       [60, 20]])"
      ]
     },
     "execution_count": 70,
     "metadata": {},
     "output_type": "execute_result"
    }
   ],
   "source": [
    "ind = np.array([[3,7],[4,5]])\n",
    "x[ind]"
   ]
  },
  {
   "cell_type": "code",
   "execution_count": 71,
   "id": "b8f78a68",
   "metadata": {},
   "outputs": [
    {
     "data": {
      "text/plain": [
       "array([[ 0,  1,  2,  3],\n",
       "       [ 4,  5,  6,  7],\n",
       "       [ 8,  9, 10, 11]])"
      ]
     },
     "execution_count": 71,
     "metadata": {},
     "output_type": "execute_result"
    }
   ],
   "source": [
    "X = np.arange(12).reshape((3,4))\n",
    "X"
   ]
  },
  {
   "cell_type": "code",
   "execution_count": 72,
   "id": "f113bdf9",
   "metadata": {},
   "outputs": [
    {
     "data": {
      "text/plain": [
       "array([ 2,  5, 11])"
      ]
     },
     "execution_count": 72,
     "metadata": {},
     "output_type": "execute_result"
    }
   ],
   "source": [
    "row = np.array([0,1,2])\n",
    "col = np.array([2,1,3])\n",
    "X[row,col]"
   ]
  },
  {
   "cell_type": "code",
   "execution_count": 73,
   "id": "507275d5",
   "metadata": {
    "scrolled": true
   },
   "outputs": [
    {
     "data": {
      "text/plain": [
       "array([[ 2,  1,  3],\n",
       "       [ 6,  5,  7],\n",
       "       [10,  9, 11]])"
      ]
     },
     "execution_count": 73,
     "metadata": {},
     "output_type": "execute_result"
    }
   ],
   "source": [
    "X[row[:,np.newaxis], col]"
   ]
  },
  {
   "cell_type": "code",
   "execution_count": 74,
   "id": "aed837e6",
   "metadata": {},
   "outputs": [
    {
     "data": {
      "text/plain": [
       "array([[0, 0, 0],\n",
       "       [2, 1, 3],\n",
       "       [4, 2, 6]])"
      ]
     },
     "execution_count": 74,
     "metadata": {},
     "output_type": "execute_result"
    }
   ],
   "source": [
    "#여기서 각 행의 값은 산술 연산의 브로드캐스팅에서 본 것과 똑같이 각 열 벡터와 일치한다.\n",
    "row[:, np.newaxis]*col"
   ]
  },
  {
   "cell_type": "markdown",
   "id": "0a74a896",
   "metadata": {},
   "source": [
    "### 결합 인덱싱"
   ]
  },
  {
   "cell_type": "code",
   "execution_count": 75,
   "id": "826472b2",
   "metadata": {},
   "outputs": [
    {
     "data": {
      "text/plain": [
       "array([[ 0,  1,  2,  3],\n",
       "       [ 4,  5,  6,  7],\n",
       "       [ 8,  9, 10, 11]])"
      ]
     },
     "execution_count": 75,
     "metadata": {},
     "output_type": "execute_result"
    }
   ],
   "source": [
    "X"
   ]
  },
  {
   "cell_type": "code",
   "execution_count": 79,
   "id": "8e31a893",
   "metadata": {},
   "outputs": [
    {
     "name": "stdout",
     "output_type": "stream",
     "text": [
      "[10  8  9]\n",
      "----------\n",
      "[[ 6  4  5]\n",
      " [10  8  9]]\n",
      "----------\n"
     ]
    },
    {
     "data": {
      "text/plain": [
       "array([[ 0,  2],\n",
       "       [ 4,  6],\n",
       "       [ 8, 10]])"
      ]
     },
     "execution_count": 79,
     "metadata": {},
     "output_type": "execute_result"
    }
   ],
   "source": [
    "#팬시 인덱스와 단순 인덱스를 결합할 수 있다.\n",
    "print(X[2,[2,0,1]])\n",
    "print('----------')\n",
    "print(X[1:,[2,0,1]])\n",
    "print('----------')\n",
    "# 팬시 인덱싱과 마스킹을 결합할 수 있다.\n",
    "mask = np.array([1,0,1,0], dtype=bool)\n",
    "X[row[:,np.newaxis], mask]"
   ]
  },
  {
   "cell_type": "markdown",
   "id": "4980996a",
   "metadata": {},
   "source": [
    "### 예제 임의의점 선택하기\n",
    "펜시 인덱싱의 보편적인 용도는 행렬에서 행의 부분집합을 선택하는 것이다. 예를 들어 2차원 정규 분포에서 뽑아낸 다음 다음 점들 처럼 D차원에서 N개의 점을 표시하는 NxD 행렬이 있다고 보자"
   ]
  },
  {
   "cell_type": "code",
   "execution_count": 81,
   "id": "e0ad1dae",
   "metadata": {},
   "outputs": [
    {
     "data": {
      "text/plain": [
       "(100, 2)"
      ]
     },
     "execution_count": 81,
     "metadata": {},
     "output_type": "execute_result"
    }
   ],
   "source": [
    "mean = [0,0]\n",
    "cov = [[1,2],\n",
    "      [2,5]]\n",
    "X = rand.multivariate_normal(mean, cov, 100)\n",
    "X.shape"
   ]
  },
  {
   "cell_type": "code",
   "execution_count": 82,
   "id": "5a8a9ff2",
   "metadata": {},
   "outputs": [
    {
     "data": {
      "image/png": "[encoded data removed]",
      "text/plain": [
       "<Figure size 432x288 with 1 Axes>"
      ]
     },
     "metadata": {},
     "output_type": "display_data"
    }
   ],
   "source": [
    "%matplotlib inline\n",
    "import matplotlib.pyplot as plt\n",
    "import seaborn; seaborn.set() #플릇 스타일 설정\n",
    "plt.scatter(X[:,0], X[:,1]);"
   ]
  },
  {
   "cell_type": "code",
   "execution_count": 83,
   "id": "0432df40",
   "metadata": {},
   "outputs": [
    {
     "data": {
      "text/plain": [
       "array([94,  5, 20, 98, 93, 56, 17, 30, 45, 28, 73, 12, 25, 60, 44, 97, 52,\n",
       "       92,  2, 22])"
      ]
     },
     "execution_count": 83,
     "metadata": {},
     "output_type": "execute_result"
    }
   ],
   "source": [
    "#팬싯 인덱싱을 이용해 임의의점 20개를 선택하자\n",
    "indices = np.random.choice(X.shape[0], 20, replace=False)\n",
    "indices"
   ]
  },
  {
   "cell_type": "code",
   "execution_count": 84,
   "id": "597a4e0a",
   "metadata": {},
   "outputs": [
    {
     "data": {
      "text/plain": [
       "(20, 2)"
      ]
     },
     "execution_count": 84,
     "metadata": {},
     "output_type": "execute_result"
    }
   ],
   "source": [
    "selection = X[indices]\n",
    "selection.shape"
   ]
  },
  {
   "cell_type": "code",
   "execution_count": 86,
   "id": "f7576eae",
   "metadata": {},
   "outputs": [
    {
     "data": {
      "image/png": "[encoded data removed]",
      "text/plain": [
       "<Figure size 432x288 with 1 Axes>"
      ]
     },
     "metadata": {},
     "output_type": "display_data"
    }
   ],
   "source": [
    "plt.scatter(X[:,0], X[:,1], alpha=0.3)\n",
    "plt.scatter(selection[:,0], selection[:,1], facecolor='none', s=200);"
   ]
  },
  {
   "cell_type": "markdown",
   "id": "87b15817",
   "metadata": {},
   "source": [
    "### 팬시 인덱싱으로 값 변경하기\n",
    "팬시 인덱싱이 배열 일부에 접근하는 데 사용되는 것과 마찬가지로 배열의 일부를 수정하는 데도 사용 될 수 있다. 예를 들어, 인덱스 배열이 있고 배열에서 그 인ㄷ게스 배열에 해당하는 항목에 특정 값을 설정하고 싶다고 하자"
   ]
  },
  {
   "cell_type": "code",
   "execution_count": 90,
   "id": "3fb0d5b8",
   "metadata": {},
   "outputs": [
    {
     "name": "stdout",
     "output_type": "stream",
     "text": [
      "[ 0 99 99  3 99  5  6  7 99  9]\n"
     ]
    }
   ],
   "source": [
    "x = np.arange(10)\n",
    "i = np.array([2,1,8,4])\n",
    "x[i] = 99\n",
    "print(x)"
   ]
  },
  {
   "cell_type": "code",
   "execution_count": 91,
   "id": "f096ba67",
   "metadata": {},
   "outputs": [
    {
     "name": "stdout",
     "output_type": "stream",
     "text": [
      "[ 0 89 89  3 89  5  6  7 89  9]\n"
     ]
    }
   ],
   "source": [
    "x[i] -= 10\n",
    "print(x)"
   ]
  },
  {
   "cell_type": "code",
   "execution_count": 93,
   "id": "88518b05",
   "metadata": {
    "scrolled": true
   },
   "outputs": [
    {
     "name": "stdout",
     "output_type": "stream",
     "text": [
      "[6. 0. 0. 0. 0. 0. 0. 0. 0. 0.]\n"
     ]
    }
   ],
   "source": [
    "x = np.zeros(10)\n",
    "x[[0,0]] = [4,6]\n",
    "print(x)"
   ]
  },
  {
   "cell_type": "markdown",
   "id": "a0ce368f",
   "metadata": {},
   "source": [
    "x[0]에 4가 할당되고 그 다음에 x[0]은 6이 할당됐다."
   ]
  },
  {
   "cell_type": "code",
   "execution_count": 94,
   "id": "63ea04d0",
   "metadata": {},
   "outputs": [
    {
     "data": {
      "text/plain": [
       "array([6., 0., 1., 1., 1., 0., 0., 0., 0., 0.])"
      ]
     },
     "execution_count": 94,
     "metadata": {},
     "output_type": "execute_result"
    }
   ],
   "source": [
    "i = [2,3,3,4,4,4]\n",
    "x[i] += 1\n",
    "x"
   ]
  },
  {
   "cell_type": "code",
   "execution_count": 95,
   "id": "7f488619",
   "metadata": {},
   "outputs": [
    {
     "name": "stdout",
     "output_type": "stream",
     "text": [
      "[0. 0. 1. 2. 3. 0. 0. 0. 0. 0.]\n"
     ]
    }
   ],
   "source": [
    "x = np.zeros(10)\n",
    "np.add.at(x,i,1)\n",
    "print(x)"
   ]
  },
  {
   "cell_type": "markdown",
   "id": "d5da478a",
   "metadata": {},
   "source": [
    "at() 매서드는 지정한 값(여기서는 1)을 가진 특정 인덱스(i)에 해당 연산자를 즉시 적용한다. 개념상 비슷한 메서드로는 유니버셜 함수의 reduceat()메서드가 있다"
   ]
  },
  {
   "cell_type": "markdown",
   "id": "691b803a",
   "metadata": {},
   "source": [
    "### 데이터 구간화\n",
    "데이터를 효율적으로 구간화(binning)해서 직접 히스토그램을 생성할 수 있다. 1000개의 값이 있고 그 값들이 구간 배열에서 어디에 속하는지 빠르게 찾고 싶다고 하자  ufunc.at를 이용하면 된다"
   ]
  },
  {
   "cell_type": "code",
   "execution_count": 99,
   "id": "ddeef947",
   "metadata": {
    "scrolled": true
   },
   "outputs": [
    {
     "ename": "ValueError",
     "evalue": "'steps' is not a valid value for ls; supported values are '-', '--', '-.', ':', 'None', ' ', '', 'solid', 'dashed', 'dashdot', 'dotted'",
     "output_type": "error",
     "traceback": [
      "\u001b[1;31m---------------------------------------------------------------------------\u001b[0m",
      "\u001b[1;31mValueError\u001b[0m                                Traceback (most recent call last)",
      "\u001b[1;32m~\\AppData\\Local\\Temp/ipykernel_18160/4250298214.py\u001b[0m in \u001b[0;36m<module>\u001b[1;34m\u001b[0m\n\u001b[0;32m     10\u001b[0m \u001b[1;31m#각 구간에 1더하기\u001b[0m\u001b[1;33m\u001b[0m\u001b[1;33m\u001b[0m\u001b[0m\n\u001b[0;32m     11\u001b[0m \u001b[0mnp\u001b[0m\u001b[1;33m.\u001b[0m\u001b[0madd\u001b[0m\u001b[1;33m.\u001b[0m\u001b[0mat\u001b[0m\u001b[1;33m(\u001b[0m\u001b[0mcounts\u001b[0m\u001b[1;33m,\u001b[0m \u001b[0mi\u001b[0m\u001b[1;33m,\u001b[0m \u001b[1;36m1\u001b[0m\u001b[1;33m)\u001b[0m\u001b[1;33m\u001b[0m\u001b[1;33m\u001b[0m\u001b[0m\n\u001b[1;32m---> 12\u001b[1;33m \u001b[0mplt\u001b[0m\u001b[1;33m.\u001b[0m\u001b[0mplot\u001b[0m\u001b[1;33m(\u001b[0m\u001b[0mbins\u001b[0m\u001b[1;33m,\u001b[0m \u001b[0mcounts\u001b[0m\u001b[1;33m,\u001b[0m \u001b[0mlinestyle\u001b[0m\u001b[1;33m=\u001b[0m\u001b[1;34m'steps'\u001b[0m\u001b[1;33m)\u001b[0m\u001b[1;33m\u001b[0m\u001b[1;33m\u001b[0m\u001b[0m\n\u001b[0m",
      "\u001b[1;32m~\\.conda\\envs\\DataScience\\lib\\site-packages\\matplotlib\\pyplot.py\u001b[0m in \u001b[0;36mplot\u001b[1;34m(scalex, scaley, data, *args, **kwargs)\u001b[0m\n\u001b[0;32m   2755\u001b[0m \u001b[1;33m@\u001b[0m\u001b[0m_copy_docstring_and_deprecators\u001b[0m\u001b[1;33m(\u001b[0m\u001b[0mAxes\u001b[0m\u001b[1;33m.\u001b[0m\u001b[0mplot\u001b[0m\u001b[1;33m)\u001b[0m\u001b[1;33m\u001b[0m\u001b[1;33m\u001b[0m\u001b[0m\n\u001b[0;32m   2756\u001b[0m \u001b[1;32mdef\u001b[0m \u001b[0mplot\u001b[0m\u001b[1;33m(\u001b[0m\u001b[1;33m*\u001b[0m\u001b[0margs\u001b[0m\u001b[1;33m,\u001b[0m \u001b[0mscalex\u001b[0m\u001b[1;33m=\u001b[0m\u001b[1;32mTrue\u001b[0m\u001b[1;33m,\u001b[0m \u001b[0mscaley\u001b[0m\u001b[1;33m=\u001b[0m\u001b[1;32mTrue\u001b[0m\u001b[1;33m,\u001b[0m \u001b[0mdata\u001b[0m\u001b[1;33m=\u001b[0m\u001b[1;32mNone\u001b[0m\u001b[1;33m,\u001b[0m \u001b[1;33m**\u001b[0m\u001b[0mkwargs\u001b[0m\u001b[1;33m)\u001b[0m\u001b[1;33m:\u001b[0m\u001b[1;33m\u001b[0m\u001b[1;33m\u001b[0m\u001b[0m\n\u001b[1;32m-> 2757\u001b[1;33m     return gca().plot(\n\u001b[0m\u001b[0;32m   2758\u001b[0m         \u001b[1;33m*\u001b[0m\u001b[0margs\u001b[0m\u001b[1;33m,\u001b[0m \u001b[0mscalex\u001b[0m\u001b[1;33m=\u001b[0m\u001b[0mscalex\u001b[0m\u001b[1;33m,\u001b[0m \u001b[0mscaley\u001b[0m\u001b[1;33m=\u001b[0m\u001b[0mscaley\u001b[0m\u001b[1;33m,\u001b[0m\u001b[1;33m\u001b[0m\u001b[1;33m\u001b[0m\u001b[0m\n\u001b[0;32m   2759\u001b[0m         **({\"data\": data} if data is not None else {}), **kwargs)\n",
      "\u001b[1;32m~\\.conda\\envs\\DataScience\\lib\\site-packages\\matplotlib\\axes\\_axes.py\u001b[0m in \u001b[0;36mplot\u001b[1;34m(self, scalex, scaley, data, *args, **kwargs)\u001b[0m\n\u001b[0;32m   1630\u001b[0m         \"\"\"\n\u001b[0;32m   1631\u001b[0m         \u001b[0mkwargs\u001b[0m \u001b[1;33m=\u001b[0m \u001b[0mcbook\u001b[0m\u001b[1;33m.\u001b[0m\u001b[0mnormalize_kwargs\u001b[0m\u001b[1;33m(\u001b[0m\u001b[0mkwargs\u001b[0m\u001b[1;33m,\u001b[0m \u001b[0mmlines\u001b[0m\u001b[1;33m.\u001b[0m\u001b[0mLine2D\u001b[0m\u001b[1;33m)\u001b[0m\u001b[1;33m\u001b[0m\u001b[1;33m\u001b[0m\u001b[0m\n\u001b[1;32m-> 1632\u001b[1;33m         \u001b[0mlines\u001b[0m \u001b[1;33m=\u001b[0m \u001b[1;33m[\u001b[0m\u001b[1;33m*\u001b[0m\u001b[0mself\u001b[0m\u001b[1;33m.\u001b[0m\u001b[0m_get_lines\u001b[0m\u001b[1;33m(\u001b[0m\u001b[1;33m*\u001b[0m\u001b[0margs\u001b[0m\u001b[1;33m,\u001b[0m \u001b[0mdata\u001b[0m\u001b[1;33m=\u001b[0m\u001b[0mdata\u001b[0m\u001b[1;33m,\u001b[0m \u001b[1;33m**\u001b[0m\u001b[0mkwargs\u001b[0m\u001b[1;33m)\u001b[0m\u001b[1;33m]\u001b[0m\u001b[1;33m\u001b[0m\u001b[1;33m\u001b[0m\u001b[0m\n\u001b[0m\u001b[0;32m   1633\u001b[0m         \u001b[1;32mfor\u001b[0m \u001b[0mline\u001b[0m \u001b[1;32min\u001b[0m \u001b[0mlines\u001b[0m\u001b[1;33m:\u001b[0m\u001b[1;33m\u001b[0m\u001b[1;33m\u001b[0m\u001b[0m\n\u001b[0;32m   1634\u001b[0m             \u001b[0mself\u001b[0m\u001b[1;33m.\u001b[0m\u001b[0madd_line\u001b[0m\u001b[1;33m(\u001b[0m\u001b[0mline\u001b[0m\u001b[1;33m)\u001b[0m\u001b[1;33m\u001b[0m\u001b[1;33m\u001b[0m\u001b[0m\n",
      "\u001b[1;32m~\\.conda\\envs\\DataScience\\lib\\site-packages\\matplotlib\\axes\\_base.py\u001b[0m in \u001b[0;36m__call__\u001b[1;34m(self, data, *args, **kwargs)\u001b[0m\n\u001b[0;32m    310\u001b[0m                 \u001b[0mthis\u001b[0m \u001b[1;33m+=\u001b[0m \u001b[0margs\u001b[0m\u001b[1;33m[\u001b[0m\u001b[1;36m0\u001b[0m\u001b[1;33m]\u001b[0m\u001b[1;33m,\u001b[0m\u001b[1;33m\u001b[0m\u001b[1;33m\u001b[0m\u001b[0m\n\u001b[0;32m    311\u001b[0m                 \u001b[0margs\u001b[0m \u001b[1;33m=\u001b[0m \u001b[0margs\u001b[0m\u001b[1;33m[\u001b[0m\u001b[1;36m1\u001b[0m\u001b[1;33m:\u001b[0m\u001b[1;33m]\u001b[0m\u001b[1;33m\u001b[0m\u001b[1;33m\u001b[0m\u001b[0m\n\u001b[1;32m--> 312\u001b[1;33m             \u001b[1;32myield\u001b[0m \u001b[1;32mfrom\u001b[0m \u001b[0mself\u001b[0m\u001b[1;33m.\u001b[0m\u001b[0m_plot_args\u001b[0m\u001b[1;33m(\u001b[0m\u001b[0mthis\u001b[0m\u001b[1;33m,\u001b[0m \u001b[0mkwargs\u001b[0m\u001b[1;33m)\u001b[0m\u001b[1;33m\u001b[0m\u001b[1;33m\u001b[0m\u001b[0m\n\u001b[0m\u001b[0;32m    313\u001b[0m \u001b[1;33m\u001b[0m\u001b[0m\n\u001b[0;32m    314\u001b[0m     \u001b[1;32mdef\u001b[0m \u001b[0mget_next_color\u001b[0m\u001b[1;33m(\u001b[0m\u001b[0mself\u001b[0m\u001b[1;33m)\u001b[0m\u001b[1;33m:\u001b[0m\u001b[1;33m\u001b[0m\u001b[1;33m\u001b[0m\u001b[0m\n",
      "\u001b[1;32m~\\.conda\\envs\\DataScience\\lib\\site-packages\\matplotlib\\axes\\_base.py\u001b[0m in \u001b[0;36m_plot_args\u001b[1;34m(self, tup, kwargs, return_kwargs)\u001b[0m\n\u001b[0;32m    536\u001b[0m             \u001b[1;32mreturn\u001b[0m \u001b[0mlist\u001b[0m\u001b[1;33m(\u001b[0m\u001b[0mresult\u001b[0m\u001b[1;33m)\u001b[0m\u001b[1;33m\u001b[0m\u001b[1;33m\u001b[0m\u001b[0m\n\u001b[0;32m    537\u001b[0m         \u001b[1;32melse\u001b[0m\u001b[1;33m:\u001b[0m\u001b[1;33m\u001b[0m\u001b[1;33m\u001b[0m\u001b[0m\n\u001b[1;32m--> 538\u001b[1;33m             \u001b[1;32mreturn\u001b[0m \u001b[1;33m[\u001b[0m\u001b[0ml\u001b[0m\u001b[1;33m[\u001b[0m\u001b[1;36m0\u001b[0m\u001b[1;33m]\u001b[0m \u001b[1;32mfor\u001b[0m \u001b[0ml\u001b[0m \u001b[1;32min\u001b[0m \u001b[0mresult\u001b[0m\u001b[1;33m]\u001b[0m\u001b[1;33m\u001b[0m\u001b[1;33m\u001b[0m\u001b[0m\n\u001b[0m\u001b[0;32m    539\u001b[0m \u001b[1;33m\u001b[0m\u001b[0m\n\u001b[0;32m    540\u001b[0m \u001b[1;33m\u001b[0m\u001b[0m\n",
      "\u001b[1;32m~\\.conda\\envs\\DataScience\\lib\\site-packages\\matplotlib\\axes\\_base.py\u001b[0m in \u001b[0;36m<listcomp>\u001b[1;34m(.0)\u001b[0m\n\u001b[0;32m    536\u001b[0m             \u001b[1;32mreturn\u001b[0m \u001b[0mlist\u001b[0m\u001b[1;33m(\u001b[0m\u001b[0mresult\u001b[0m\u001b[1;33m)\u001b[0m\u001b[1;33m\u001b[0m\u001b[1;33m\u001b[0m\u001b[0m\n\u001b[0;32m    537\u001b[0m         \u001b[1;32melse\u001b[0m\u001b[1;33m:\u001b[0m\u001b[1;33m\u001b[0m\u001b[1;33m\u001b[0m\u001b[0m\n\u001b[1;32m--> 538\u001b[1;33m             \u001b[1;32mreturn\u001b[0m \u001b[1;33m[\u001b[0m\u001b[0ml\u001b[0m\u001b[1;33m[\u001b[0m\u001b[1;36m0\u001b[0m\u001b[1;33m]\u001b[0m \u001b[1;32mfor\u001b[0m \u001b[0ml\u001b[0m \u001b[1;32min\u001b[0m \u001b[0mresult\u001b[0m\u001b[1;33m]\u001b[0m\u001b[1;33m\u001b[0m\u001b[1;33m\u001b[0m\u001b[0m\n\u001b[0m\u001b[0;32m    539\u001b[0m \u001b[1;33m\u001b[0m\u001b[0m\n\u001b[0;32m    540\u001b[0m \u001b[1;33m\u001b[0m\u001b[0m\n",
      "\u001b[1;32m~\\.conda\\envs\\DataScience\\lib\\site-packages\\matplotlib\\axes\\_base.py\u001b[0m in \u001b[0;36m<genexpr>\u001b[1;34m(.0)\u001b[0m\n\u001b[0;32m    529\u001b[0m             \u001b[0mlabels\u001b[0m \u001b[1;33m=\u001b[0m \u001b[1;33m[\u001b[0m\u001b[0mlabel\u001b[0m\u001b[1;33m]\u001b[0m \u001b[1;33m*\u001b[0m \u001b[0mn_datasets\u001b[0m\u001b[1;33m\u001b[0m\u001b[1;33m\u001b[0m\u001b[0m\n\u001b[0;32m    530\u001b[0m \u001b[1;33m\u001b[0m\u001b[0m\n\u001b[1;32m--> 531\u001b[1;33m         result = (make_artist(x[:, j % ncx], y[:, j % ncy], kw,\n\u001b[0m\u001b[0;32m    532\u001b[0m                               {**kwargs, 'label': label})\n\u001b[0;32m    533\u001b[0m                   for j, label in enumerate(labels))\n",
      "\u001b[1;32m~\\.conda\\envs\\DataScience\\lib\\site-packages\\matplotlib\\axes\\_base.py\u001b[0m in \u001b[0;36m_makeline\u001b[1;34m(self, x, y, kw, kwargs)\u001b[0m\n\u001b[0;32m    349\u001b[0m         \u001b[0mdefault_dict\u001b[0m \u001b[1;33m=\u001b[0m \u001b[0mself\u001b[0m\u001b[1;33m.\u001b[0m\u001b[0m_getdefaults\u001b[0m\u001b[1;33m(\u001b[0m\u001b[0mset\u001b[0m\u001b[1;33m(\u001b[0m\u001b[1;33m)\u001b[0m\u001b[1;33m,\u001b[0m \u001b[0mkw\u001b[0m\u001b[1;33m)\u001b[0m\u001b[1;33m\u001b[0m\u001b[1;33m\u001b[0m\u001b[0m\n\u001b[0;32m    350\u001b[0m         \u001b[0mself\u001b[0m\u001b[1;33m.\u001b[0m\u001b[0m_setdefaults\u001b[0m\u001b[1;33m(\u001b[0m\u001b[0mdefault_dict\u001b[0m\u001b[1;33m,\u001b[0m \u001b[0mkw\u001b[0m\u001b[1;33m)\u001b[0m\u001b[1;33m\u001b[0m\u001b[1;33m\u001b[0m\u001b[0m\n\u001b[1;32m--> 351\u001b[1;33m         \u001b[0mseg\u001b[0m \u001b[1;33m=\u001b[0m \u001b[0mmlines\u001b[0m\u001b[1;33m.\u001b[0m\u001b[0mLine2D\u001b[0m\u001b[1;33m(\u001b[0m\u001b[0mx\u001b[0m\u001b[1;33m,\u001b[0m \u001b[0my\u001b[0m\u001b[1;33m,\u001b[0m \u001b[1;33m**\u001b[0m\u001b[0mkw\u001b[0m\u001b[1;33m)\u001b[0m\u001b[1;33m\u001b[0m\u001b[1;33m\u001b[0m\u001b[0m\n\u001b[0m\u001b[0;32m    352\u001b[0m         \u001b[1;32mreturn\u001b[0m \u001b[0mseg\u001b[0m\u001b[1;33m,\u001b[0m \u001b[0mkw\u001b[0m\u001b[1;33m\u001b[0m\u001b[1;33m\u001b[0m\u001b[0m\n\u001b[0;32m    353\u001b[0m \u001b[1;33m\u001b[0m\u001b[0m\n",
      "\u001b[1;32m~\\.conda\\envs\\DataScience\\lib\\site-packages\\matplotlib\\lines.py\u001b[0m in \u001b[0;36m__init__\u001b[1;34m(self, xdata, ydata, linewidth, linestyle, color, marker, markersize, markeredgewidth, markeredgecolor, markerfacecolor, markerfacecoloralt, fillstyle, antialiased, dash_capstyle, solid_capstyle, dash_joinstyle, solid_joinstyle, pickradius, drawstyle, markevery, **kwargs)\u001b[0m\n\u001b[0;32m    364\u001b[0m \u001b[1;33m\u001b[0m\u001b[0m\n\u001b[0;32m    365\u001b[0m         \u001b[0mself\u001b[0m\u001b[1;33m.\u001b[0m\u001b[0mset_linewidth\u001b[0m\u001b[1;33m(\u001b[0m\u001b[0mlinewidth\u001b[0m\u001b[1;33m)\u001b[0m\u001b[1;33m\u001b[0m\u001b[1;33m\u001b[0m\u001b[0m\n\u001b[1;32m--> 366\u001b[1;33m         \u001b[0mself\u001b[0m\u001b[1;33m.\u001b[0m\u001b[0mset_linestyle\u001b[0m\u001b[1;33m(\u001b[0m\u001b[0mlinestyle\u001b[0m\u001b[1;33m)\u001b[0m\u001b[1;33m\u001b[0m\u001b[1;33m\u001b[0m\u001b[0m\n\u001b[0m\u001b[0;32m    367\u001b[0m         \u001b[0mself\u001b[0m\u001b[1;33m.\u001b[0m\u001b[0mset_drawstyle\u001b[0m\u001b[1;33m(\u001b[0m\u001b[0mdrawstyle\u001b[0m\u001b[1;33m)\u001b[0m\u001b[1;33m\u001b[0m\u001b[1;33m\u001b[0m\u001b[0m\n\u001b[0;32m    368\u001b[0m \u001b[1;33m\u001b[0m\u001b[0m\n",
      "\u001b[1;32m~\\.conda\\envs\\DataScience\\lib\\site-packages\\matplotlib\\lines.py\u001b[0m in \u001b[0;36mset_linestyle\u001b[1;34m(self, ls)\u001b[0m\n\u001b[0;32m   1118\u001b[0m                 \u001b[0mls\u001b[0m \u001b[1;33m=\u001b[0m \u001b[1;34m'None'\u001b[0m\u001b[1;33m\u001b[0m\u001b[1;33m\u001b[0m\u001b[0m\n\u001b[0;32m   1119\u001b[0m \u001b[1;33m\u001b[0m\u001b[0m\n\u001b[1;32m-> 1120\u001b[1;33m             \u001b[0m_api\u001b[0m\u001b[1;33m.\u001b[0m\u001b[0mcheck_in_list\u001b[0m\u001b[1;33m(\u001b[0m\u001b[1;33m[\u001b[0m\u001b[1;33m*\u001b[0m\u001b[0mself\u001b[0m\u001b[1;33m.\u001b[0m\u001b[0m_lineStyles\u001b[0m\u001b[1;33m,\u001b[0m \u001b[1;33m*\u001b[0m\u001b[0mls_mapper_r\u001b[0m\u001b[1;33m]\u001b[0m\u001b[1;33m,\u001b[0m \u001b[0mls\u001b[0m\u001b[1;33m=\u001b[0m\u001b[0mls\u001b[0m\u001b[1;33m)\u001b[0m\u001b[1;33m\u001b[0m\u001b[1;33m\u001b[0m\u001b[0m\n\u001b[0m\u001b[0;32m   1121\u001b[0m             \u001b[1;32mif\u001b[0m \u001b[0mls\u001b[0m \u001b[1;32mnot\u001b[0m \u001b[1;32min\u001b[0m \u001b[0mself\u001b[0m\u001b[1;33m.\u001b[0m\u001b[0m_lineStyles\u001b[0m\u001b[1;33m:\u001b[0m\u001b[1;33m\u001b[0m\u001b[1;33m\u001b[0m\u001b[0m\n\u001b[0;32m   1122\u001b[0m                 \u001b[0mls\u001b[0m \u001b[1;33m=\u001b[0m \u001b[0mls_mapper_r\u001b[0m\u001b[1;33m[\u001b[0m\u001b[0mls\u001b[0m\u001b[1;33m]\u001b[0m\u001b[1;33m\u001b[0m\u001b[1;33m\u001b[0m\u001b[0m\n",
      "\u001b[1;32m~\\.conda\\envs\\DataScience\\lib\\site-packages\\matplotlib\\_api\\__init__.py\u001b[0m in \u001b[0;36mcheck_in_list\u001b[1;34m(_values, _print_supported_values, **kwargs)\u001b[0m\n\u001b[0;32m    127\u001b[0m             \u001b[1;32mif\u001b[0m \u001b[0m_print_supported_values\u001b[0m\u001b[1;33m:\u001b[0m\u001b[1;33m\u001b[0m\u001b[1;33m\u001b[0m\u001b[0m\n\u001b[0;32m    128\u001b[0m                 \u001b[0mmsg\u001b[0m \u001b[1;33m+=\u001b[0m \u001b[1;34mf\"; supported values are {', '.join(map(repr, values))}\"\u001b[0m\u001b[1;33m\u001b[0m\u001b[1;33m\u001b[0m\u001b[0m\n\u001b[1;32m--> 129\u001b[1;33m             \u001b[1;32mraise\u001b[0m \u001b[0mValueError\u001b[0m\u001b[1;33m(\u001b[0m\u001b[0mmsg\u001b[0m\u001b[1;33m)\u001b[0m\u001b[1;33m\u001b[0m\u001b[1;33m\u001b[0m\u001b[0m\n\u001b[0m\u001b[0;32m    130\u001b[0m \u001b[1;33m\u001b[0m\u001b[0m\n\u001b[0;32m    131\u001b[0m \u001b[1;33m\u001b[0m\u001b[0m\n",
      "\u001b[1;31mValueError\u001b[0m: 'steps' is not a valid value for ls; supported values are '-', '--', '-.', ':', 'None', ' ', '', 'solid', 'dashed', 'dashdot', 'dotted'"
     ]
    },
    {
     "data": {
      "image/png": "[encoded data removed]",
      "text/plain": [
       "<Figure size 432x288 with 1 Axes>"
      ]
     },
     "metadata": {},
     "output_type": "display_data"
    }
   ],
   "source": [
    "np.random.seed(42)\n",
    "x = np.random.randn(100)\n",
    "#직접 히스토그램 계산하기\n",
    "bins = np.linspace(-5,5,20)\n",
    "counts = np.zeros_like(bins)\n",
    "\n",
    "#각 x에 대한 적절한 구간 찾기\n",
    "i = np.searchsorted(bins, x)\n",
    "#각 구간에 1더하기\n",
    "np.add.at(counts, i, 1)\n",
    "plt.plot(bins, counts, linestyle='steps')"
   ]
  },
  {
   "cell_type": "code",
   "execution_count": 100,
   "id": "e3a5fcee",
   "metadata": {},
   "outputs": [
    {
     "data": {
      "text/plain": [
       "(array([ 0.,  0.,  0.,  0.,  1.,  3.,  7.,  9., 23., 22., 17., 10.,  7.,\n",
       "         1.,  0.,  0.,  0.,  0.,  0.]),\n",
       " array([-5.        , -4.47368421, -3.94736842, -3.42105263, -2.89473684,\n",
       "        -2.36842105, -1.84210526, -1.31578947, -0.78947368, -0.26315789,\n",
       "         0.26315789,  0.78947368,  1.31578947,  1.84210526,  2.36842105,\n",
       "         2.89473684,  3.42105263,  3.94736842,  4.47368421,  5.        ]),\n",
       " [<matplotlib.patches.Polygon at 0x1b75b48d460>])"
      ]
     },
     "execution_count": 100,
     "metadata": {},
     "output_type": "execute_result"
    },
    {
     "data": {
      "image/png": "[encoded data removed]",
      "text/plain": [
       "<Figure size 432x288 with 1 Axes>"
      ]
     },
     "metadata": {},
     "output_type": "display_data"
    }
   ],
   "source": [
    "plt.hist(x, bins, histtype='step')"
   ]
  },
  {
   "cell_type": "code",
   "execution_count": 101,
   "id": "57949126",
   "metadata": {
    "scrolled": true
   },
   "outputs": [
    {
     "name": "stdout",
     "output_type": "stream",
     "text": [
      "NumPy routine:\n",
      "17.3 µs ± 306 ns per loop (mean ± std. dev. of 7 runs, 10000 loops each)\n",
      "Custom routine:\n",
      "10.3 µs ± 108 ns per loop (mean ± std. dev. of 7 runs, 100000 loops each)\n"
     ]
    }
   ],
   "source": [
    "print(\"NumPy routine:\")\n",
    "%timeit counts, edges = np.histogram(x,bins)\n",
    "print(\"Custom routine:\")\n",
    "%timeit np.add.at(counts, np.searchsorted(bins, x), 1)"
   ]
  },
  {
   "cell_type": "markdown",
   "id": "c2182298",
   "metadata": {},
   "source": [
    "오히려 Numpy의 최적화된 알고리즘보다 빠른 것을 볼 수 있다."
   ]
  },
  {
   "cell_type": "code",
   "execution_count": 102,
   "id": "ecca7248",
   "metadata": {},
   "outputs": [
    {
     "name": "stdout",
     "output_type": "stream",
     "text": [
      "Numpy routine: \n",
      "55.5 ms ± 656 µs per loop (mean ± std. dev. of 7 runs, 10 loops each)\n",
      "Custom routine: \n",
      "78.9 ms ± 1.79 ms per loop (mean ± std. dev. of 7 runs, 10 loops each)\n"
     ]
    }
   ],
   "source": [
    "x = np.random.randn(1000000)\n",
    "print(\"Numpy routine: \")\n",
    "%timeit counts, edges = np.histogram(x,bins)\n",
    "print(\"Custom routine: \")\n",
    "%timeit np.add.at(counts, np.searchsorted(bins,x),1)"
   ]
  },
  {
   "cell_type": "markdown",
   "id": "f245ef95",
   "metadata": {},
   "source": [
    "오히려 대규모 데이터에서 효율적인 알고리즘이 소규모에서는 적합한 방식이 아닐 수 있으며 반대도 마찬가지다.\n",
    "\n",
    "\n",
    "### 배열 정렬\n",
    "지금까지 주로 Numpy로 배열 데이터에 접근하고 연산을 수행하는 도구를 살펴보았다. 이번 절에서는 NumPy 배열의 값을 정렬하는 알고리즘을 다룬다. 삽입정렬, 선택정렬, 병합정렬, 퀵정렬, 버블정렬"
   ]
  },
  {
   "cell_type": "code",
   "execution_count": 105,
   "id": "5b949056",
   "metadata": {},
   "outputs": [],
   "source": [
    "import numpy as np\n",
    "def selection_sort(x):\n",
    "    for i in range(len(x)):\n",
    "        swap = i + np.argmin(x[i:])\n",
    "        (x[i], x[swap]) = (x[swap], x[i])\n",
    "    return x"
   ]
  },
  {
   "cell_type": "code",
   "execution_count": 106,
   "id": "36b60a47",
   "metadata": {},
   "outputs": [
    {
     "data": {
      "text/plain": [
       "array([1, 2, 3, 4, 5])"
      ]
     },
     "execution_count": 106,
     "metadata": {},
     "output_type": "execute_result"
    }
   ],
   "source": [
    "x = np.array([2,1,4,3,5])\n",
    "selection_sort(x)"
   ]
  },
  {
   "cell_type": "markdown",
   "id": "38faeabe",
   "metadata": {},
   "source": [
    "### NumPy의  빠른 정렬 np.sort와 np.argsort\n",
    "np.sort는 기본적으로 퀵 정렬 알고리즘을 사용하지만 병합 정렬(mergesort)과 힙 정렬(heapsort)도 사용할 수 있다. 대부분의 애플리케이션에서는 기본 퀵 정렬로도 충분하다.  \n",
    "입력값을 수정하지 않고 배열의 정렬 버전을 반환하려면 np.sort를 사용하면 된다"
   ]
  },
  {
   "cell_type": "code",
   "execution_count": 110,
   "id": "b9779222",
   "metadata": {},
   "outputs": [
    {
     "data": {
      "text/plain": [
       "array([1, 2, 3, 4, 5])"
      ]
     },
     "execution_count": 110,
     "metadata": {},
     "output_type": "execute_result"
    }
   ],
   "source": [
    "x = np.array([2,1,4,3,5])\n",
    "np.sort(x)"
   ]
  },
  {
   "cell_type": "code",
   "execution_count": 113,
   "id": "aea45b27",
   "metadata": {},
   "outputs": [
    {
     "name": "stdout",
     "output_type": "stream",
     "text": [
      "[1 0 3 2 4]\n",
      "[1 2 3 4 5]\n"
     ]
    }
   ],
   "source": [
    "x = np.array([2,1,4,3,5])\n",
    "i = np.argsort(x)\n",
    "print(i)\n",
    "print(x[i])"
   ]
  },
  {
   "cell_type": "markdown",
   "id": "c8c6ac78",
   "metadata": {},
   "source": [
    "### 행이나 열 기준으로 정렬하기\n",
    "Numpy 정렬 알고리즘의 유용한 기능은 axis인수를 사용해 다차원 배열의 특정 행이나 열에 따라 정렬할 수 있다."
   ]
  },
  {
   "cell_type": "code",
   "execution_count": 117,
   "id": "39f5f0e6",
   "metadata": {},
   "outputs": [
    {
     "name": "stdout",
     "output_type": "stream",
     "text": [
      "[[6 3 7 4 6 9]\n",
      " [2 6 7 4 3 7]\n",
      " [7 2 5 4 1 7]\n",
      " [5 1 4 0 9 5]]\n"
     ]
    },
    {
     "data": {
      "text/plain": [
       "array([[3, 4, 6, 6, 7, 9],\n",
       "       [2, 3, 4, 6, 7, 7],\n",
       "       [1, 2, 4, 5, 7, 7],\n",
       "       [0, 1, 4, 5, 5, 9]])"
      ]
     },
     "execution_count": 117,
     "metadata": {},
     "output_type": "execute_result"
    }
   ],
   "source": [
    "rand = np.random.RandomState(42)\n",
    "X = rand.randint(0,10,(4,6))\n",
    "print(X)\n",
    "#X의 각 열을 정렬\n",
    "np.sort(X, axis=0)\n",
    "#X의 각 열을 정렬\n",
    "np.sort(X, axis=1)"
   ]
  },
  {
   "cell_type": "markdown",
   "id": "ca8dd0db",
   "metadata": {},
   "source": [
    "각 행이나 열을 독립적인 배열로 취급하므로 행 또는 열 값 사이의 관계는 잃어버린다"
   ]
  },
  {
   "cell_type": "markdown",
   "id": "d8a8e524",
   "metadata": {},
   "source": [
    "### 부분 정렬 파티션 나누기\n",
    "단순히 배열에서 K개의 가장 작은 값을 찾고 시을때가 있다. 이때 Numpy에서는 np.partition함수에서 이 기능을 제공하다. np.partition은 배열과 숫자 K를 취해 새로운 배열을 반환하는데, 반환된 파티션의 왼쪽에는 K개의 가장 작은 값이 있고 오른쪽에는 나머지 값이 임의의 순서로 채워져 있다."
   ]
  },
  {
   "cell_type": "code",
   "execution_count": 118,
   "id": "62e14fe4",
   "metadata": {},
   "outputs": [
    {
     "data": {
      "text/plain": [
       "array([2, 1, 3, 4, 6, 5, 7])"
      ]
     },
     "execution_count": 118,
     "metadata": {},
     "output_type": "execute_result"
    }
   ],
   "source": [
    "x = np.array([7,2,3,1,6,5,4])\n",
    "np.partition(x,3)"
   ]
  },
  {
   "cell_type": "code",
   "execution_count": 119,
   "id": "163030a5",
   "metadata": {},
   "outputs": [
    {
     "data": {
      "text/plain": [
       "array([[3, 4, 6, 7, 6, 9],\n",
       "       [2, 3, 4, 7, 6, 7],\n",
       "       [1, 2, 4, 5, 7, 7],\n",
       "       [0, 1, 4, 5, 9, 5]])"
      ]
     },
     "execution_count": 119,
     "metadata": {},
     "output_type": "execute_result"
    }
   ],
   "source": [
    "np.partition(X, 2, axis=1)"
   ]
  },
  {
   "cell_type": "markdown",
   "id": "e2ac90f0",
   "metadata": {},
   "source": [
    "두 개의 슬롯에는 해당 행의 가장 작은 값이 채워지고 나머지 슬릇에는 그 밖의 값이 채워진 배열을 받는다\n",
    "\n",
    "### k 최근접 이웃 알고리즘\n",
    "집합에서 각 점의 가장 가까운 이웃을 찾기 위해 여러 축을 따라 argsort 함수를 어떻게 사용하는지 간단하게 살펴보자 우선 2차원 평면에 임의의 점 10개를 가지는 집합을 만들자, 표준 규약에 따라 이것들을 10x2 배열에 배치할 것이다"
   ]
  },
  {
   "cell_type": "code",
   "execution_count": 121,
   "id": "0ac9cd0b",
   "metadata": {},
   "outputs": [
    {
     "data": {
      "image/png": "[encoded data removed]",
      "text/plain": [
       "<Figure size 432x288 with 1 Axes>"
      ]
     },
     "metadata": {},
     "output_type": "display_data"
    }
   ],
   "source": [
    "X = rand.rand(10,2)\n",
    "\n",
    "%matplotlib inline\n",
    "import matplotlib.pyplot as plt\n",
    "import seaborn; seaborn.set() #플릇 스타일링\n",
    "plt.scatter(X[:,0], X[:,1], s=100);"
   ]
  },
  {
   "cell_type": "markdown",
   "id": "7b7db3c9",
   "metadata": {},
   "source": [
    "이제 각 쌍의 점 사이의 거리를 계산한다. 두 점 사이의 거리 제곱은 각 차원 간의 차이를 제곱해서 더한 값과 같다."
   ]
  },
  {
   "cell_type": "code",
   "execution_count": 122,
   "id": "7129fe9d",
   "metadata": {},
   "outputs": [],
   "source": [
    "dist_sq = np.sum((X[:,None,:]-X[None,:,:])**2 ,axis=-1)"
   ]
  },
  {
   "cell_type": "code",
   "execution_count": 123,
   "id": "7eaa242c",
   "metadata": {},
   "outputs": [
    {
     "data": {
      "text/plain": [
       "(10, 10, 2)"
      ]
     },
     "execution_count": 123,
     "metadata": {},
     "output_type": "execute_result"
    }
   ],
   "source": [
    "#위 한줄짜리 코드는 다음과 같은 내용이다.\n",
    "differences = X[:, None, :] - X[None,:,:]\n",
    "differences.shape"
   ]
  },
  {
   "cell_type": "code",
   "execution_count": 124,
   "id": "7e5bd92e",
   "metadata": {},
   "outputs": [
    {
     "data": {
      "text/plain": [
       "(10, 10, 2)"
      ]
     },
     "execution_count": 124,
     "metadata": {},
     "output_type": "execute_result"
    }
   ],
   "source": [
    "#좌표 차이를 제곱함\n",
    "sq_differences = differences ** 2\n",
    "sq_differences.shape"
   ]
  },
  {
   "cell_type": "code",
   "execution_count": 125,
   "id": "3c9bc9e7",
   "metadata": {},
   "outputs": [
    {
     "data": {
      "text/plain": [
       "(10, 10)"
      ]
     },
     "execution_count": 125,
     "metadata": {},
     "output_type": "execute_result"
    }
   ],
   "source": [
    "# 제곱 거리를 구하기 위해 좌표 차이를 더함\n",
    "dist_sq = sq_differences.sum(-1)\n",
    "dist_sq.shape"
   ]
  },
  {
   "cell_type": "code",
   "execution_count": 126,
   "id": "72a620e6",
   "metadata": {},
   "outputs": [
    {
     "data": {
      "text/plain": [
       "array([0., 0., 0., 0., 0., 0., 0., 0., 0., 0.])"
      ]
     },
     "execution_count": 126,
     "metadata": {},
     "output_type": "execute_result"
    }
   ],
   "source": [
    "# 이때 이 행렬의 대각선(대각행렬)이 모두 0인지 확인한다. 자기와 자신의 거리는 0이기 때문이다.\n",
    "dist_sq.diagonal()"
   ]
  },
  {
   "cell_type": "code",
   "execution_count": 128,
   "id": "9968836e",
   "metadata": {},
   "outputs": [
    {
     "name": "stdout",
     "output_type": "stream",
     "text": [
      "[[0 3 7 5 9 4 1 2 6 8]\n",
      " [1 4 8 7 9 2 5 3 0 6]\n",
      " [2 4 3 7 1 8 0 9 5 6]\n",
      " [3 0 7 9 5 4 2 1 6 8]\n",
      " [4 1 2 7 8 3 9 0 5 6]\n",
      " [5 9 7 6 0 3 1 4 8 2]\n",
      " [6 5 9 7 0 1 3 4 8 2]\n",
      " [7 9 3 0 5 4 1 2 8 6]\n",
      " [8 1 4 2 7 9 5 3 0 6]\n",
      " [9 5 7 0 1 3 6 4 8 2]]\n"
     ]
    }
   ],
   "source": [
    "nearest = np.argsort(dist_sq, axis=1)\n",
    "print(nearest)"
   ]
  },
  {
   "cell_type": "markdown",
   "id": "717623e7",
   "metadata": {},
   "source": [
    "여기서는 전체 행렬을 사용했기에 필요한것보다 더 맣은 연산을 했다. 가장 가까운 k이웃을 구하기만 한다면 각 행을 파티션으로 나누어서 가장 작은 k+1개의 제곱 거리가 먼저 오고 그 보다 큰 거리의 요소를 배열의 나머지 위치에 채워지게만 하면 된다."
   ]
  },
  {
   "cell_type": "code",
   "execution_count": 133,
   "id": "fb9c1170",
   "metadata": {},
   "outputs": [
    {
     "data": {
      "image/png": "[encoded data removed]",
      "text/plain": [
       "<Figure size 432x288 with 1 Axes>"
      ]
     },
     "metadata": {},
     "output_type": "display_data"
    }
   ],
   "source": [
    "K = 2\n",
    "nearest_partition = np.argpartition(dist_sq, K+1, axis=1)\n",
    "plt.scatter(X[:,0], X[:,1], s=100)\n",
    "#각 점을 두 개의 가장 가까운 이웃과 선으로 이음\n",
    "K = 2\n",
    "for i in range(X.shape[0]):\n",
    "    for j in nearest_partition[i, :K+1]:\n",
    "        #X[i] 부터 X[j]까지 선으로 이음\n",
    "        #zip 매직 함수를 이용함\n",
    "        plt.plot(*zip(X[j], X[i]), color='black')"
   ]
  },
  {
   "cell_type": "markdown",
   "id": "6191e6e6",
   "metadata": {},
   "source": [
    "도표의 각 두개의 가장 가까운 이웃과 선으로 연결되 있다. 언뜻 보면 일부 점에서 두 개 이상의 선이 나와서 이상해 보일 수 있다. 그 이유는 점 A가 점 B의 가장 가까운 이웃 중 하나라는 사실이 반드시 점 B가 점 A의 가장 가까운 이웃 중 하나라는 것을 의미 하지는 않는다.\n",
    "\n",
    "### 구조화된 데이터 : Numpy의 구조화된 배열"
   ]
  },
  {
   "cell_type": "code",
   "execution_count": 134,
   "id": "0122f51c",
   "metadata": {},
   "outputs": [],
   "source": [
    "name = ['Alice','Bob','Cathy','Doug']\n",
    "age = [25,45,37,19]\n",
    "weight = [55.0,85.5,68.0,61.5]"
   ]
  },
  {
   "cell_type": "markdown",
   "id": "1e48aca7",
   "metadata": {},
   "source": [
    "이렇게하면 세 배열이 서로 연관되어 있는지 알수가 없다. 이들을 모두 단일구조에 저장할 수 있다면 더 자연스러울 것이다."
   ]
  },
  {
   "cell_type": "code",
   "execution_count": 136,
   "id": "ba2605b9",
   "metadata": {},
   "outputs": [
    {
     "name": "stdout",
     "output_type": "stream",
     "text": [
      "[('name', '<U10'), ('age', '<i4'), ('weight', '<f8')]\n"
     ]
    }
   ],
   "source": [
    "x = np.zeros(4,dtype=int)\n",
    "#구조화된 배열을 위해 다음과 같이 사용한다.\n",
    "data = np.zeros(4, dtype={'names':('name','age','weight'),\n",
    "                         'formats':('U10','i4','f8')})\n",
    "print(data.dtype)"
   ]
  },
  {
   "cell_type": "markdown",
   "id": "d3870433",
   "metadata": {},
   "source": [
    "U10은 최대갤이 10을 갖는 유니코드 문자열  \n",
    "i4는 4바이트(32비트) 정수  \n",
    "f8은 8바이트(64비트) 부동소수점"
   ]
  },
  {
   "cell_type": "code",
   "execution_count": 137,
   "id": "0545e859",
   "metadata": {},
   "outputs": [
    {
     "name": "stdout",
     "output_type": "stream",
     "text": [
      "[('Alice', 25, 55. ) ('Bob', 45, 85.5) ('Cathy', 37, 68. )\n",
      " ('Doug', 19, 61.5)]\n"
     ]
    }
   ],
   "source": [
    "data['name'] = name\n",
    "data['age'] = age\n",
    "data['weight'] = weight\n",
    "print(data)"
   ]
  },
  {
   "cell_type": "markdown",
   "id": "2a864ff8",
   "metadata": {},
   "source": [
    "이제 하나의 메모리 블럭에 저장이 되었다."
   ]
  },
  {
   "cell_type": "code",
   "execution_count": 138,
   "id": "04e7432d",
   "metadata": {},
   "outputs": [
    {
     "data": {
      "text/plain": [
       "array(['Alice', 'Bob', 'Cathy', 'Doug'], dtype='<U10')"
      ]
     },
     "execution_count": 138,
     "metadata": {},
     "output_type": "execute_result"
    }
   ],
   "source": [
    "data['name']"
   ]
  },
  {
   "cell_type": "code",
   "execution_count": 139,
   "id": "35df96b9",
   "metadata": {},
   "outputs": [
    {
     "data": {
      "text/plain": [
       "('Alice', 25, 55.)"
      ]
     },
     "execution_count": 139,
     "metadata": {},
     "output_type": "execute_result"
    }
   ],
   "source": [
    "data[0]"
   ]
  },
  {
   "cell_type": "code",
   "execution_count": 140,
   "id": "ec94e0e0",
   "metadata": {},
   "outputs": [
    {
     "data": {
      "text/plain": [
       "'Doug'"
      ]
     },
     "execution_count": 140,
     "metadata": {},
     "output_type": "execute_result"
    }
   ],
   "source": [
    "data[-1]['name']"
   ]
  },
  {
   "cell_type": "markdown",
   "id": "35d128bc",
   "metadata": {},
   "source": [
    "부울 마스킹을 이용해서 나이로 필터를 적용하는것 처럼 복잡한 연산도 가능해 진다."
   ]
  },
  {
   "cell_type": "code",
   "execution_count": 143,
   "id": "c067d6ea",
   "metadata": {},
   "outputs": [
    {
     "data": {
      "text/plain": [
       "array(['Alice', 'Doug'], dtype='<U10')"
      ]
     },
     "execution_count": 143,
     "metadata": {},
     "output_type": "execute_result"
    }
   ],
   "source": [
    "data[data['age']<30]['name']"
   ]
  },
  {
   "cell_type": "markdown",
   "id": "e1580dce",
   "metadata": {},
   "source": [
    "### 구조화된 배열 만들기"
   ]
  },
  {
   "cell_type": "code",
   "execution_count": 149,
   "id": "a678033f",
   "metadata": {},
   "outputs": [
    {
     "name": "stdout",
     "output_type": "stream",
     "text": [
      "[('name', '<U10'), ('age', '<i4'), ('weight', '<f8')]\n",
      "[('name', '<U10'), ('age', '<i4'), ('wieght', '<f4')]\n",
      "[('name', 'S10'), ('age', '<i4'), ('weight', '<f8')]\n"
     ]
    },
    {
     "data": {
      "text/plain": [
       "dtype([('f0', 'S10'), ('f1', '<i4'), ('f2', '<f8')])"
      ]
     },
     "execution_count": 149,
     "metadata": {},
     "output_type": "execute_result"
    }
   ],
   "source": [
    "np.zeros(4, dtype={'names':('name','age','weight'), 'formats':('U10','i4','f8')})\n",
    "print(data.dtype)\n",
    "print(np.dtype({'names':('name','age','wieght'), 'formats':((np.str_,10), int, np.float32)}))\n",
    "# 복합 타입은 튜플의 리스트로 지정할 수도 있다.\n",
    "print(np.dtype([('name','S10'),('age','i4'),('weight','f8')]))\n",
    "# 타입의 이름이 중요하지 ㅇ낳다면 콤마로 구분된 문자열에 타입만 지정할 수 있다.\n",
    "np.dtype('S10,i4,f8')"
   ]
  },
  {
   "cell_type": "markdown",
   "id": "27f92378",
   "metadata": {},
   "source": [
    "![넘파이 데이터 터입](./numpy_data_type.png)"
   ]
  },
  {
   "cell_type": "code",
   "execution_count": null,
   "id": "0fa46ef2",
   "metadata": {},
   "outputs": [],
   "source": []
  }
 ],
 "metadata": {
  "kernelspec": {
   "display_name": "Python 3 (ipykernel)",
   "language": "python",
   "name": "python3"
  },
  "language_info": {
   "codemirror_mode": {
    "name": "ipython",
    "version": 3
   },
   "file_extension": ".py",
   "mimetype": "text/x-python",
   "name": "python",
   "nbconvert_exporter": "python",
   "pygments_lexer": "ipython3",
   "version": "3.9.7"
  }
 },
 "nbformat": 4,
 "nbformat_minor": 5
}
