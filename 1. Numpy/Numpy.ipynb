{
 "cells": [
  {
   "cell_type": "markdown",
   "id": "3e171bb7",
   "metadata": {},
   "source": [
    "## Numpy 공부\n",
    "\n",
    "왜 파이썬의 리스트를 사용하지 않고 Numpy를 사용하는가?\n",
    "파이썬은 GC를 사용하기 때문에 메모리 관리에 불리하고 속도가 떨어지지만 C언어 기반으로 만들어진 Numpy는 선형대수 행렬 벡터연산에 있어서 굉장히 빠르게 작동한다. 그래서 대용량 데이터를 다뤄야하는 빅데이터 과학에서는 Numpy를 이용하는 것이 속도와 편리함을 둘다 챙길 수 있다."
   ]
  },
  {
   "cell_type": "code",
   "execution_count": 1,
   "id": "ba5d649f",
   "metadata": {},
   "outputs": [],
   "source": [
    "import numpy as np\n",
    "import pandas as pd"
   ]
  },
  {
   "cell_type": "code",
   "execution_count": 2,
   "id": "fb7c5e34",
   "metadata": {},
   "outputs": [],
   "source": [
    "# 네임스페이스의 모든 내용을 표시하고 싶다면 np.<TAB>\n",
    "# 라이브러리의 내장 문서를 표현하려면 np?\n",
    "np?"
   ]
  },
  {
   "cell_type": "markdown",
   "id": "3af77051",
   "metadata": {},
   "source": [
    "파이썬의 대표적으로 동적 타이핑을 지원하는데 이는 변수 타입을 명시적으로 표현하지 않고 바로 사용이 가능하지만 단점도 분명히 있다  \n",
    "파이썬의 정수는 정수 이상의 데이터를 담고 파이썬의 리스트는 리스트 이상의 내용을 가지게 된다 \n",
    "numpy에서는 배열의 모든 요소가 같은 타입을 지니게 되고 타입이 일치하지 않으면 가능한 상위 타입을 취한다"
   ]
  },
  {
   "cell_type": "code",
   "execution_count": 5,
   "id": "5e7c6946",
   "metadata": {},
   "outputs": [
    {
     "data": {
      "text/plain": [
       "array([[2, 3, 4],\n",
       "       [4, 5, 6],\n",
       "       [6, 7, 8]])"
      ]
     },
     "execution_count": 5,
     "metadata": {},
     "output_type": "execute_result"
    }
   ],
   "source": [
    "# 리스트를 중첩해서 다차원 배열\n",
    "np.array([range(i,i+3) for i in [2,4,6]])"
   ]
  },
  {
   "cell_type": "code",
   "execution_count": 6,
   "id": "00d092cd",
   "metadata": {},
   "outputs": [
    {
     "data": {
      "text/plain": [
       "array([0, 0, 0, 0, 0, 0, 0, 0, 0, 0])"
      ]
     },
     "execution_count": 6,
     "metadata": {},
     "output_type": "execute_result"
    }
   ],
   "source": [
    "#0으로 채운 길이 10의 정수 배열\n",
    "np.zeros(10, dtype=int)"
   ]
  },
  {
   "cell_type": "code",
   "execution_count": 7,
   "id": "faf2cc66",
   "metadata": {},
   "outputs": [
    {
     "data": {
      "text/plain": [
       "array([[1., 1., 1., 1., 1.],\n",
       "       [1., 1., 1., 1., 1.],\n",
       "       [1., 1., 1., 1., 1.]])"
      ]
     },
     "execution_count": 7,
     "metadata": {},
     "output_type": "execute_result"
    }
   ],
   "source": [
    "#1로 채원 3x5 부동소수점 배열만들기\n",
    "np.ones((3,5), dtype=float)"
   ]
  },
  {
   "cell_type": "code",
   "execution_count": 8,
   "id": "87cb9b96",
   "metadata": {},
   "outputs": [
    {
     "data": {
      "text/plain": [
       "array([[3.14, 3.14, 3.14, 3.14, 3.14],\n",
       "       [3.14, 3.14, 3.14, 3.14, 3.14],\n",
       "       [3.14, 3.14, 3.14, 3.14, 3.14]])"
      ]
     },
     "execution_count": 8,
     "metadata": {},
     "output_type": "execute_result"
    }
   ],
   "source": [
    "#3.14로 채원 3x5배열 만들기\n",
    "np.full((3,5), 3.14)"
   ]
  },
  {
   "cell_type": "code",
   "execution_count": 9,
   "id": "d6ee0ff9",
   "metadata": {},
   "outputs": [
    {
     "data": {
      "text/plain": [
       "array([ 0,  2,  4,  6,  8, 10, 12, 14, 16, 18])"
      ]
     },
     "execution_count": 9,
     "metadata": {},
     "output_type": "execute_result"
    }
   ],
   "source": [
    "#선형 수열로 채운 배열 만들기 내장 함수인 range와 유사함\n",
    "np.arange(0,20,2)"
   ]
  },
  {
   "cell_type": "code",
   "execution_count": 10,
   "id": "060a7627",
   "metadata": {},
   "outputs": [
    {
     "data": {
      "text/plain": [
       "array([0.  , 0.25, 0.5 , 0.75, 1.  ])"
      ]
     },
     "execution_count": 10,
     "metadata": {},
     "output_type": "execute_result"
    }
   ],
   "source": [
    "#0과 1사이에 일정한 간격을 가진 다섯 개의 값으로 채운 배열 만들기\n",
    "np.linspace(0,1,5)"
   ]
  },
  {
   "cell_type": "code",
   "execution_count": 11,
   "id": "4b59b445",
   "metadata": {},
   "outputs": [
    {
     "data": {
      "text/plain": [
       "array([[0.07775619, 0.7001227 , 0.32008728],\n",
       "       [0.84295275, 0.95357245, 0.88733889],\n",
       "       [0.4542936 , 0.93942578, 0.63794483]])"
      ]
     },
     "execution_count": 11,
     "metadata": {},
     "output_type": "execute_result"
    }
   ],
   "source": [
    "#균등하게 분포된 3x3배열을 만들고 0과 1사이의 난수로 채움\n",
    "np.random.random((3,3))"
   ]
  },
  {
   "cell_type": "code",
   "execution_count": 13,
   "id": "9322c203",
   "metadata": {},
   "outputs": [
    {
     "data": {
      "text/plain": [
       "array([2.73606755, 1.13370135])"
      ]
     },
     "execution_count": 13,
     "metadata": {},
     "output_type": "execute_result"
    }
   ],
   "source": [
    "#정규분포(평균0 표준편차1)의 난수로 채운 3x3배열 만들기 (지수, 감마, t분포도 있음)\n",
    "np.random.normal((3,3))"
   ]
  },
  {
   "cell_type": "code",
   "execution_count": 14,
   "id": "f181a7c4",
   "metadata": {},
   "outputs": [
    {
     "data": {
      "text/plain": [
       "array([[3, 7, 9],\n",
       "       [7, 2, 4],\n",
       "       [2, 5, 7]])"
      ]
     },
     "execution_count": 14,
     "metadata": {},
     "output_type": "execute_result"
    }
   ],
   "source": [
    "#[0,10] 구간 임의의 정수로 채운 3x3 배열 만들기\n",
    "np.random.randint(0,10,(3,3))"
   ]
  },
  {
   "cell_type": "code",
   "execution_count": 15,
   "id": "58c2057d",
   "metadata": {},
   "outputs": [
    {
     "data": {
      "text/plain": [
       "array([[1., 0., 0.],\n",
       "       [0., 1., 0.],\n",
       "       [0., 0., 1.]])"
      ]
     },
     "execution_count": 15,
     "metadata": {},
     "output_type": "execute_result"
    }
   ],
   "source": [
    "# 3x3 단위 행렬 만들기 (단위 행렬은 주대각선의 원소가 모두 1이며 나머지 원소는 모두 0인 정사각 행렬)\n",
    "np.eye(3)"
   ]
  },
  {
   "cell_type": "code",
   "execution_count": 16,
   "id": "c3ab8029",
   "metadata": {},
   "outputs": [
    {
     "data": {
      "text/plain": [
       "array([1., 1., 1.])"
      ]
     },
     "execution_count": 16,
     "metadata": {},
     "output_type": "execute_result"
    }
   ],
   "source": [
    "#세 개의 정수를 가지는 초기화 되지 않는 배열 만들기\n",
    "#값은 해당 메모리 위치에 이미 존재하고 있는 값으로 채움\n",
    "np.empty(3)"
   ]
  },
  {
   "cell_type": "markdown",
   "id": "10de00ae",
   "metadata": {},
   "source": [
    "### Numpy 데이터 타입\n",
    "![numpy_array_type.png](./numpy_array_type.png)"
   ]
  },
  {
   "cell_type": "markdown",
   "id": "a879506b",
   "metadata": {},
   "source": [
    "### Numpy 배열 조작\n",
    "#### 배열 속성 지정  \n",
    "배열의 크기, 모양, 메모리 소비량, 데이터 타입을 결정\n",
    "#### 배열 인덱싱  \n",
    "개별 배열 요솟값을 가져오고 설정한다.  \n",
    "#### 배열 슬라이싱  \n",
    "큰 배열 내에 있는 작은 하위 배열을 가져오고 설정한다.  \n",
    "#### 배열 재구조화  \n",
    "해당 배열의 형상을 변경한다.  \n",
    "#### 배열 결합 및 분할  \n",
    "여러 배열을 하나로 결합하고 하나의 배열을 여러 개로 분할한다."
   ]
  },
  {
   "cell_type": "code",
   "execution_count": 18,
   "id": "c6d086a6",
   "metadata": {},
   "outputs": [],
   "source": [
    "np.random.seed(0) #랜덤을할때 시드값을 정해주면 반복하더라도 똑같은 값을 얻을 수 있다\n",
    "\n",
    "x1 = np.random.randint(10, size=6) # 1차원 배열\n",
    "x2 = np.random.randint(10, size=(3,4)) # 2차원 배열\n",
    "x3 = np.random.randint(10, size=(3,4,5)) # 3차원 배열"
   ]
  },
  {
   "cell_type": "code",
   "execution_count": 22,
   "id": "f737e5ab",
   "metadata": {},
   "outputs": [
    {
     "name": "stdout",
     "output_type": "stream",
     "text": [
      "x3 ndim 3\n",
      "x3 shape (3, 4, 5)\n",
      "x3 size 60\n",
      "dtype: int32\n"
     ]
    }
   ],
   "source": [
    "# ndim 차원의 개수, shape 차원의 크기, size 전체 배열 크기\n",
    "print(\"x3 ndim\", x3.ndim)\n",
    "print(\"x3 shape\", x3.shape)\n",
    "print(\"x3 size\", x3.size)\n",
    "print(\"dtype:\", x3.dtype)"
   ]
  },
  {
   "cell_type": "code",
   "execution_count": 24,
   "id": "e32487bd",
   "metadata": {},
   "outputs": [
    {
     "name": "stdout",
     "output_type": "stream",
     "text": [
      "itemsize: 4 bytes\n",
      "nbytes: 240 bytes\n"
     ]
    }
   ],
   "source": [
    "#배열 요소의 크기를 바이트 단위로 보여주는 itemsize와 배열 전체 크기를 바이트 단위로 보여주는 nbytes\n",
    "print(\"itemsize:\", x3.itemsize, \"bytes\")\n",
    "print(\"nbytes:\", x3.nbytes, \"bytes\")"
   ]
  },
  {
   "cell_type": "markdown",
   "id": "f40ca70f",
   "metadata": {},
   "source": [
    "### 배열 인덱싱 : 단일 요소에 접근하기"
   ]
  },
  {
   "cell_type": "code",
   "execution_count": 25,
   "id": "294d7742",
   "metadata": {},
   "outputs": [
    {
     "data": {
      "text/plain": [
       "array([5, 0, 3, 3, 7, 9])"
      ]
     },
     "execution_count": 25,
     "metadata": {},
     "output_type": "execute_result"
    }
   ],
   "source": [
    "x1"
   ]
  },
  {
   "cell_type": "code",
   "execution_count": 28,
   "id": "d016d057",
   "metadata": {},
   "outputs": [
    {
     "name": "stdout",
     "output_type": "stream",
     "text": [
      "5\n",
      "9\n"
     ]
    }
   ],
   "source": [
    "print(x1[0])\n",
    "print(x1[-1]) # 음수는 뒤에서부터 뽑아옴"
   ]
  },
  {
   "cell_type": "code",
   "execution_count": 29,
   "id": "e8be0b2c",
   "metadata": {},
   "outputs": [
    {
     "data": {
      "text/plain": [
       "array([[3, 5, 2, 4],\n",
       "       [7, 6, 8, 8],\n",
       "       [1, 6, 7, 7]])"
      ]
     },
     "execution_count": 29,
     "metadata": {},
     "output_type": "execute_result"
    }
   ],
   "source": [
    "x2"
   ]
  },
  {
   "cell_type": "code",
   "execution_count": 30,
   "id": "05ee8fb5",
   "metadata": {},
   "outputs": [
    {
     "name": "stdout",
     "output_type": "stream",
     "text": [
      "3\n",
      "7\n"
     ]
    }
   ],
   "source": [
    "print(x2[0,0])\n",
    "print(x2[-1,-1]) # 마찬가지로 2차원 배열에서도 유효"
   ]
  },
  {
   "cell_type": "code",
   "execution_count": 32,
   "id": "41a3af38",
   "metadata": {},
   "outputs": [
    {
     "data": {
      "text/plain": [
       "array([[99,  5,  2,  4],\n",
       "       [ 7,  6,  8,  8],\n",
       "       [ 1,  6,  7,  7]])"
      ]
     },
     "execution_count": 32,
     "metadata": {},
     "output_type": "execute_result"
    }
   ],
   "source": [
    "x2[0,0] = 99\n",
    "x2 # 인덱스 표기법으로 접근해서 값을 수정하는 것도 가능"
   ]
  },
  {
   "cell_type": "markdown",
   "id": "665c524f",
   "metadata": {},
   "source": [
    "### 배열 슬라이싱: 하위 배열에 접근하기\n",
    "array[start:stop:step] 순서로 지정된다. 생략하면 start는 0 stop는 -1 step은 1이 기본값"
   ]
  },
  {
   "cell_type": "code",
   "execution_count": 35,
   "id": "b3ce6dd5",
   "metadata": {},
   "outputs": [
    {
     "data": {
      "text/plain": [
       "array([0, 2, 4, 6, 8])"
      ]
     },
     "execution_count": 35,
     "metadata": {},
     "output_type": "execute_result"
    }
   ],
   "source": [
    "x = np.arange(10)\n",
    "x[:5] #첫 다섯 개 요소\n",
    "x[5:] #인덱스 5다음 요소들\n",
    "x[4:7] #중간 하위 배열\n",
    "x[::2] #하나걸러 하나씩의 요소로 구성"
   ]
  },
  {
   "cell_type": "code",
   "execution_count": 36,
   "id": "884e3d97",
   "metadata": {},
   "outputs": [
    {
     "data": {
      "text/plain": [
       "array([5, 3, 1])"
      ]
     },
     "execution_count": 36,
     "metadata": {},
     "output_type": "execute_result"
    }
   ],
   "source": [
    "x[::-1] # 모든 요소를 거꾸로 나열\n",
    "x[5::-2] #인덱스 5부터 하나걸러 거꾸로 나열"
   ]
  },
  {
   "cell_type": "code",
   "execution_count": 37,
   "id": "9fd89cbf",
   "metadata": {},
   "outputs": [
    {
     "data": {
      "text/plain": [
       "array([[99,  5,  2,  4],\n",
       "       [ 7,  6,  8,  8],\n",
       "       [ 1,  6,  7,  7]])"
      ]
     },
     "execution_count": 37,
     "metadata": {},
     "output_type": "execute_result"
    }
   ],
   "source": [
    "x2"
   ]
  },
  {
   "cell_type": "code",
   "execution_count": 38,
   "id": "bc446b8b",
   "metadata": {},
   "outputs": [
    {
     "name": "stdout",
     "output_type": "stream",
     "text": [
      "[[99  5  2]\n",
      " [ 7  6  8]]\n",
      "[[99  2]\n",
      " [ 7  8]\n",
      " [ 1  7]]\n"
     ]
    }
   ],
   "source": [
    "print(x2[:2,:3]) # 두개의 행, 세개의 열 마찬가지로 2차원 배열에서도 작동\n",
    "print(x2[:3,::2]) #모든 행에서 한열 걸러 하나씩"
   ]
  },
  {
   "cell_type": "code",
   "execution_count": 40,
   "id": "9fd3bce6",
   "metadata": {},
   "outputs": [
    {
     "name": "stdout",
     "output_type": "stream",
     "text": [
      "[[ 7  7  6  1]\n",
      " [ 8  8  6  7]\n",
      " [ 4  2  5 99]]\n"
     ]
    }
   ],
   "source": [
    "print(x2[::-1,::-1]) # 마찬가지로 음수를 이용해서 하위 배열차원도 역순 정렬 가능"
   ]
  },
  {
   "cell_type": "code",
   "execution_count": 41,
   "id": "b7f94b70",
   "metadata": {},
   "outputs": [
    {
     "name": "stdout",
     "output_type": "stream",
     "text": [
      "[99  7  1]\n",
      "[99  5  2  4]\n",
      "[99  5  2  4]\n"
     ]
    }
   ],
   "source": [
    "# : 로 범위를 지정하지 않고 0이나 생략을 통해서 전체에 접근할 수 있음\n",
    "print(x2[:,0])\n",
    "print(x2[0,:])\n",
    "print(x2[0])"
   ]
  },
  {
   "cell_type": "markdown",
   "id": "734c6048",
   "metadata": {},
   "source": [
    "### 사본이 아닌 뷰(View)로서의 하위 배열\n",
    "배열 슬라이스에 대해 알아야할 중요한것은 배열 슬라이스가 배열 데이터의 사본이 아니라 뷰로 반환한다. numpy 배열 슬라이싱과 파이썬 리스트 슬라이싱과 다른점. 리스트에서 슬라이스는 사본이다."
   ]
  },
  {
   "cell_type": "code",
   "execution_count": 43,
   "id": "51900d10",
   "metadata": {},
   "outputs": [
    {
     "name": "stdout",
     "output_type": "stream",
     "text": [
      "[[99  5]\n",
      " [ 7  6]]\n"
     ]
    }
   ],
   "source": [
    "x2_sub = x2[:2,:2]\n",
    "print(x2_sub)"
   ]
  },
  {
   "cell_type": "code",
   "execution_count": 44,
   "id": "5b85cf0b",
   "metadata": {},
   "outputs": [
    {
     "name": "stdout",
     "output_type": "stream",
     "text": [
      "[[22  5]\n",
      " [ 7  6]]\n"
     ]
    }
   ],
   "source": [
    "x2_sub[0,0] = 22\n",
    "print(x2_sub)"
   ]
  },
  {
   "cell_type": "code",
   "execution_count": 47,
   "id": "56381bba",
   "metadata": {},
   "outputs": [
    {
     "data": {
      "text/plain": [
       "array([[22,  5,  2,  4],\n",
       "       [ 7,  6,  8,  8],\n",
       "       [ 1,  6,  7,  7]])"
      ]
     },
     "execution_count": 47,
     "metadata": {},
     "output_type": "execute_result"
    }
   ],
   "source": [
    "x2"
   ]
  },
  {
   "cell_type": "markdown",
   "id": "e7ac4310",
   "metadata": {},
   "source": [
    "분명 하위 배열을 만들어서 그 값을 수정했는데 원래 배열에도 영향을 주게됨 이는 x2_sub는 독립적인 개체가 아니라 x2의 일부를 보여주는 뷰로서 작동"
   ]
  },
  {
   "cell_type": "code",
   "execution_count": 49,
   "id": "2ff9d4ac",
   "metadata": {},
   "outputs": [],
   "source": [
    "x2_sub_copy = x2[:2,:2].copy() # 이렇게 copy는 복사를 하게됨"
   ]
  },
  {
   "cell_type": "markdown",
   "id": "1c4da146",
   "metadata": {},
   "source": [
    "### 배열 재구조화  \n",
    "배열의 형상을 변경하는 것은 중요하다 보통 reshape() 매서드를 이용하는 것"
   ]
  },
  {
   "cell_type": "code",
   "execution_count": 50,
   "id": "fe38676d",
   "metadata": {},
   "outputs": [
    {
     "name": "stdout",
     "output_type": "stream",
     "text": [
      "[[1 2 3]\n",
      " [4 5 6]\n",
      " [7 8 9]]\n"
     ]
    }
   ],
   "source": [
    "grid = np.arange(1,10).reshape((3,3))\n",
    "print(grid)"
   ]
  },
  {
   "cell_type": "markdown",
   "id": "c3a0e18f",
   "metadata": {},
   "source": [
    "또 다른 일반적인 재구조화 패턴은 1차원의 배열을 2차원 행이나 열 매트릭스로 전화하는 것이다. 이 작업은 reshape매서드로 할 수 있으며 그렇지 않으면 슬라이스 연산내에 newaxis 키워드를 사용해서 더 쉽게 할 수 있다."
   ]
  },
  {
   "cell_type": "code",
   "execution_count": 53,
   "id": "ed43077b",
   "metadata": {},
   "outputs": [
    {
     "data": {
      "text/plain": [
       "array([[1, 2, 3]])"
      ]
     },
     "execution_count": 53,
     "metadata": {},
     "output_type": "execute_result"
    }
   ],
   "source": [
    "x = np.array([1,2,3])\n",
    "#reshape을 이용한 행 벡터\n",
    "x.reshape((1,3))"
   ]
  },
  {
   "cell_type": "code",
   "execution_count": 54,
   "id": "1a27e9b5",
   "metadata": {},
   "outputs": [
    {
     "data": {
      "text/plain": [
       "array([[1, 2, 3]])"
      ]
     },
     "execution_count": 54,
     "metadata": {},
     "output_type": "execute_result"
    }
   ],
   "source": [
    "x[np.newaxis, :]"
   ]
  },
  {
   "cell_type": "code",
   "execution_count": 55,
   "id": "d77677ac",
   "metadata": {},
   "outputs": [
    {
     "data": {
      "text/plain": [
       "array([[1],\n",
       "       [2],\n",
       "       [3]])"
      ]
     },
     "execution_count": 55,
     "metadata": {},
     "output_type": "execute_result"
    }
   ],
   "source": [
    "# reshape를 이용한 열 벡터\n",
    "x.reshape((3,1))"
   ]
  },
  {
   "cell_type": "code",
   "execution_count": 56,
   "id": "c61de7b0",
   "metadata": {
    "scrolled": false
   },
   "outputs": [
    {
     "data": {
      "text/plain": [
       "array([[1],\n",
       "       [2],\n",
       "       [3]])"
      ]
     },
     "execution_count": 56,
     "metadata": {},
     "output_type": "execute_result"
    }
   ],
   "source": [
    "x[:, np.newaxis]"
   ]
  },
  {
   "cell_type": "markdown",
   "id": "1a093414",
   "metadata": {},
   "source": [
    "np.newaxis는 None으로 치환할 수 있다"
   ]
  },
  {
   "cell_type": "code",
   "execution_count": 59,
   "id": "54be0367",
   "metadata": {},
   "outputs": [
    {
     "data": {
      "text/plain": [
       "array([[1],\n",
       "       [2],\n",
       "       [3]])"
      ]
     },
     "execution_count": 59,
     "metadata": {},
     "output_type": "execute_result"
    }
   ],
   "source": [
    "x[:, None]"
   ]
  },
  {
   "cell_type": "markdown",
   "id": "b32bee58",
   "metadata": {},
   "source": [
    "### 배열 연결 및 분할  \n",
    "Numpy에서는 주로 np.concatenate, np.vstack, np.hstack 루틴을 이용해 두배열을 결합하거나 연결한다.  \n",
    "보다 시피 np.concatenate는 튜플이나 배열의 리스트를 첫 번째 인수로 취한다."
   ]
  },
  {
   "cell_type": "code",
   "execution_count": 61,
   "id": "8cef68bf",
   "metadata": {},
   "outputs": [
    {
     "data": {
      "text/plain": [
       "array([ 1,  2,  3,  3,  2,  1, 99, 88, 77])"
      ]
     },
     "execution_count": 61,
     "metadata": {},
     "output_type": "execute_result"
    }
   ],
   "source": [
    "x = np.array([1,2,3])\n",
    "y = np.array([3,2,1])\n",
    "z = np.array([99,88,77])\n",
    "np.concatenate([x,y,z])\n",
    "# 3개 이상의 배열을 연결 할 수 있다."
   ]
  },
  {
   "cell_type": "code",
   "execution_count": 67,
   "id": "c2dd80cd",
   "metadata": {},
   "outputs": [
    {
     "data": {
      "text/plain": [
       "array([[1, 2, 3],\n",
       "       [4, 5, 6],\n",
       "       [1, 2, 3],\n",
       "       [4, 5, 6]])"
      ]
     },
     "execution_count": 67,
     "metadata": {},
     "output_type": "execute_result"
    }
   ],
   "source": [
    "grid = np.array([[1,2,3],[4,5,6]])\n",
    "np.concatenate([grid, grid]) # 기본값은 첫 번 째 축을 따라 연결"
   ]
  },
  {
   "cell_type": "code",
   "execution_count": 70,
   "id": "31fa215d",
   "metadata": {},
   "outputs": [
    {
     "data": {
      "text/plain": [
       "array([[1, 2, 3, 1, 2, 3],\n",
       "       [4, 5, 6, 4, 5, 6]])"
      ]
     },
     "execution_count": 70,
     "metadata": {},
     "output_type": "execute_result"
    }
   ],
   "source": [
    "np.concatenate([grid, grid], axis=1) # 두번째 축을 따라 연결"
   ]
  },
  {
   "cell_type": "code",
   "execution_count": 75,
   "id": "02f22c91",
   "metadata": {},
   "outputs": [
    {
     "data": {
      "text/plain": [
       "array([[1, 2, 3],\n",
       "       [4, 5, 6],\n",
       "       [7, 8, 9]])"
      ]
     },
     "execution_count": 75,
     "metadata": {},
     "output_type": "execute_result"
    }
   ],
   "source": [
    "x = np.array([1,2,3])\n",
    "grid = np.array([[4,5,6],[7,8,9]])\n",
    "np.vstack([x,grid]) # vertical 수직으로 쌓기"
   ]
  },
  {
   "cell_type": "code",
   "execution_count": 76,
   "id": "20f2552e",
   "metadata": {},
   "outputs": [
    {
     "data": {
      "text/plain": [
       "array([[ 4,  5,  6, 99],\n",
       "       [ 7,  8,  9, 99]])"
      ]
     },
     "execution_count": 76,
     "metadata": {},
     "output_type": "execute_result"
    }
   ],
   "source": [
    "y = np.array([[99],\n",
    "              [99]])\n",
    "np.hstack([grid, y]) # horiz 수평으로 쌓기\n",
    "# 마찬가지로 np.dstack는 세번째 축을 따라 배열을 쌓음"
   ]
  },
  {
   "cell_type": "markdown",
   "id": "546635ca",
   "metadata": {},
   "source": [
    "## 배열 분할하기\n",
    "분할은 np.split, np.hsplit, np.vsplit 함수로 구현된다. 각 함수에 분할 지점을 알려조는 인덱스 목록을 전달 할 수 있다"
   ]
  },
  {
   "cell_type": "code",
   "execution_count": 77,
   "id": "d6a4c681",
   "metadata": {},
   "outputs": [
    {
     "name": "stdout",
     "output_type": "stream",
     "text": [
      "[1 2 3] [99 99] [3 2 1]\n"
     ]
    }
   ],
   "source": [
    "x = [1,2,3,99,99,3,2,1]\n",
    "x1, x2, x3 = np.split(x,[3,5])\n",
    "print(x1,x2,x3)"
   ]
  },
  {
   "cell_type": "code",
   "execution_count": 79,
   "id": "6c69168c",
   "metadata": {},
   "outputs": [
    {
     "data": {
      "text/plain": [
       "array([[ 0,  1,  2,  3],\n",
       "       [ 4,  5,  6,  7],\n",
       "       [ 8,  9, 10, 11],\n",
       "       [12, 13, 14, 15]])"
      ]
     },
     "execution_count": 79,
     "metadata": {},
     "output_type": "execute_result"
    }
   ],
   "source": [
    "grid = np.arange(16).reshape((4,4))\n",
    "grid"
   ]
  },
  {
   "cell_type": "code",
   "execution_count": 82,
   "id": "995994af",
   "metadata": {},
   "outputs": [
    {
     "name": "stdout",
     "output_type": "stream",
     "text": [
      "[[0 1 2 3]\n",
      " [4 5 6 7]]\n",
      "[[ 8  9 10 11]\n",
      " [12 13 14 15]]\n"
     ]
    }
   ],
   "source": [
    "upper, lower = np.vsplit(grid,[2])\n",
    "print(upper)\n",
    "print(lower)"
   ]
  },
  {
   "cell_type": "code",
   "execution_count": 84,
   "id": "09a1021e",
   "metadata": {
    "scrolled": true
   },
   "outputs": [
    {
     "name": "stdout",
     "output_type": "stream",
     "text": [
      "[[ 0  1]\n",
      " [ 4  5]\n",
      " [ 8  9]\n",
      " [12 13]]\n",
      "[[ 2  3]\n",
      " [ 6  7]\n",
      " [10 11]\n",
      " [14 15]]\n"
     ]
    }
   ],
   "source": [
    "left, right = np.hsplit(grid,[2])\n",
    "print(left)\n",
    "print(right)"
   ]
  },
  {
   "cell_type": "markdown",
   "id": "27e5b3ab",
   "metadata": {},
   "source": [
    "### 배열 연산 유니버셜 함수\n",
    "연산을 빠르게 만드는 핵심은 벡터화 연산을 사용 하는 것인데 일반적으로 유니버셜함수를 통해 구현된다.  \n",
    "파이썬의 기본적인 몇가지 내장 함수는 매우 느리게 수행된다."
   ]
  },
  {
   "cell_type": "code",
   "execution_count": 85,
   "id": "f07c8708",
   "metadata": {},
   "outputs": [
    {
     "data": {
      "text/plain": [
       "array([0.16666667, 1.        , 0.25      , 0.25      , 0.125     ])"
      ]
     },
     "execution_count": 85,
     "metadata": {},
     "output_type": "execute_result"
    }
   ],
   "source": [
    "import numpy as np\n",
    "np.random.seed(0)\n",
    "\n",
    "def compute_reciprocals(values):\n",
    "    output = np.empty(len(values))\n",
    "    for i in range(len(values)):\n",
    "        output[i] = 1.0 / values[i]\n",
    "    return output\n",
    "\n",
    "values = np.random.randint(1,10,size=5)\n",
    "compute_reciprocals(values)"
   ]
  },
  {
   "cell_type": "code",
   "execution_count": 86,
   "id": "7cfa0bd4",
   "metadata": {},
   "outputs": [
    {
     "name": "stdout",
     "output_type": "stream",
     "text": [
      "2.78 s ± 174 ms per loop (mean ± std. dev. of 7 runs, 1 loop each)\n"
     ]
    }
   ],
   "source": [
    "big_array = np.random.randint(1,100, size=1000000)\n",
    "%timeit compute_reciprocals(big_array)"
   ]
  },
  {
   "cell_type": "markdown",
   "id": "2be49111",
   "metadata": {},
   "source": [
    "파이썬은 계산이 들어올때마다 객체의 타입을 확인하고 해당 타입에 맞게 사용할 함수를 동적으로 검색한다. 컴파일되었다면 이미 실행하기전에 타입을 알았을 것이고 결과값은 좀더 효율적으로 계산될 것이다.  \n",
    "Numpy는 여러 종류의 연산에 대해 이러한 종류의 정적 타입 체계를 가진 컴파일된 루틴에 편리한 인터페이스를 제공한다. 이를 벡터화 연산이라고 한다. 벡터화 연산은 간단히 배열에 연사을 수행해 각 요소에 적용함으로써 수행 할 수 있다. 다음 두 결과를 비교해본다"
   ]
  },
  {
   "cell_type": "code",
   "execution_count": 87,
   "id": "16aa1113",
   "metadata": {},
   "outputs": [
    {
     "name": "stdout",
     "output_type": "stream",
     "text": [
      "[0.16666667 1.         0.25       0.25       0.125     ]\n",
      "[0.16666667 1.         0.25       0.25       0.125     ]\n"
     ]
    }
   ],
   "source": [
    "print(compute_reciprocals(values))\n",
    "print(1.0/values)"
   ]
  },
  {
   "cell_type": "code",
   "execution_count": 88,
   "id": "cd1797ad",
   "metadata": {},
   "outputs": [
    {
     "name": "stdout",
     "output_type": "stream",
     "text": [
      "4.21 ms ± 497 µs per loop (mean ± std. dev. of 7 runs, 100 loops each)\n"
     ]
    }
   ],
   "source": [
    "%timeit (1.0/big_array)"
   ]
  },
  {
   "cell_type": "markdown",
   "id": "be1e8963",
   "metadata": {},
   "source": [
    "유니버셜 함수는 스칼라와 배열 사이말고 두 배열 간의 연산도 가능하다"
   ]
  },
  {
   "cell_type": "code",
   "execution_count": 89,
   "id": "47482f03",
   "metadata": {},
   "outputs": [
    {
     "data": {
      "text/plain": [
       "array([0.        , 0.5       , 0.66666667, 0.75      , 0.8       ])"
      ]
     },
     "execution_count": 89,
     "metadata": {},
     "output_type": "execute_result"
    }
   ],
   "source": [
    "np.arange(5) / np.arange(1,6)"
   ]
  },
  {
   "cell_type": "code",
   "execution_count": 93,
   "id": "5595d13d",
   "metadata": {
    "scrolled": true
   },
   "outputs": [
    {
     "data": {
      "text/plain": [
       "array([[  1,   2,   4],\n",
       "       [  8,  16,  32],\n",
       "       [ 64, 128, 256]], dtype=int32)"
      ]
     },
     "execution_count": 93,
     "metadata": {},
     "output_type": "execute_result"
    }
   ],
   "source": [
    "x = np.arange(9).reshape((3,3))\n",
    "2**x"
   ]
  },
  {
   "cell_type": "markdown",
   "id": "ba701bd1",
   "metadata": {},
   "source": [
    "유니버셜 함수를 통한 벡터화 계산은 파이썬 루프를 통해 구현된 것보다 훨씬 효율적이고 배열의 크기가 커질 수록 차이가 확연하다.  파이썬 스크립트에서 루프문을 벡터화표현식으로 교체할 수 있을지 고민해본다"
   ]
  },
  {
   "cell_type": "code",
   "execution_count": 97,
   "id": "da457ac1",
   "metadata": {
    "scrolled": true
   },
   "outputs": [
    {
     "name": "stdout",
     "output_type": "stream",
     "text": [
      "x  = [0 1 2 3]\n",
      "x+5= [5 6 7 8]\n",
      "x-5= [-5 -4 -3 -2]\n",
      "x*2= [0 2 4 6]\n",
      "x/2= [0.  0.5 1.  1.5]\n",
      "x/2= [0 0 1 1]\n"
     ]
    }
   ],
   "source": [
    "x = np.arange(4)\n",
    "print(\"x  =\",x)\n",
    "print(\"x+5=\",x+5)\n",
    "print(\"x-5=\",x-5)\n",
    "print(\"x*2=\",x*2)\n",
    "print(\"x/2=\",x/2)\n",
    "print(\"x/2=\",x//2) #나머지를 버림(몫만 남음)"
   ]
  },
  {
   "cell_type": "markdown",
   "id": "ddffe811",
   "metadata": {},
   "source": [
    "음수를 만드는 단항 유니버셜 함수와 지수 연산자 ** 나머지 연산자 %"
   ]
  },
  {
   "cell_type": "code",
   "execution_count": 99,
   "id": "84e1388b",
   "metadata": {
    "scrolled": true
   },
   "outputs": [
    {
     "name": "stdout",
     "output_type": "stream",
     "text": [
      "-x    [ 0 -1 -2 -3]\n",
      "x** 2 [0 1 4 9]\n",
      "x % 2 [0 1 0 1]\n"
     ]
    },
    {
     "data": {
      "text/plain": [
       "array([-1.  , -2.25, -4.  , -6.25])"
      ]
     },
     "execution_count": 99,
     "metadata": {},
     "output_type": "execute_result"
    }
   ],
   "source": [
    "print(\"-x   \",-x)\n",
    "print(\"x** 2\",x**2)\n",
    "print(\"x % 2\",x%2)\n",
    "\n",
    "#원하는 만큼 섞어서 사용이 가능하며 연산 순서를 표준 연산순서를 따른다.\n",
    "-(0.5*x+1) ** 2"
   ]
  },
  {
   "cell_type": "code",
   "execution_count": 101,
   "id": "763ea1e1",
   "metadata": {
    "scrolled": true
   },
   "outputs": [
    {
     "data": {
      "text/plain": [
       "array([2, 3, 4, 5])"
      ]
     },
     "execution_count": 101,
     "metadata": {},
     "output_type": "execute_result"
    }
   ],
   "source": [
    "np.add(x,2) # 연산자 대신 대응하는 유니버셜 산술 연산자가 있다"
   ]
  },
  {
   "cell_type": "markdown",
   "id": "4077a739",
   "metadata": {},
   "source": [
    "![numpy_ang.png](./numpy_ang.png)"
   ]
  },
  {
   "cell_type": "code",
   "execution_count": 104,
   "id": "cc9f63eb",
   "metadata": {},
   "outputs": [
    {
     "name": "stdout",
     "output_type": "stream",
     "text": [
      "[2 1 0 1 2]\n",
      "[2 1 0 1 2]\n"
     ]
    }
   ],
   "source": [
    "#절대값 함수\n",
    "x = np.array([-2,-1,0,1,2])\n",
    "print(abs(x)) # 내장함수\n",
    "print(np.abs(x)) # 유니버셜 함수"
   ]
  },
  {
   "cell_type": "markdown",
   "id": "9bf7cad1",
   "metadata": {},
   "source": [
    "### 삼각함수"
   ]
  },
  {
   "cell_type": "code",
   "execution_count": 107,
   "id": "3b1e606e",
   "metadata": {},
   "outputs": [
    {
     "name": "stdout",
     "output_type": "stream",
     "text": [
      "theta      = [0.         1.57079633 3.14159265]\n",
      "sin(theta) = [0.0000000e+00 1.0000000e+00 1.2246468e-16]\n",
      "cos(theta) = [ 1.000000e+00  6.123234e-17 -1.000000e+00]\n",
      "tan(theta) = [ 0.00000000e+00  1.63312394e+16 -1.22464680e-16]\n"
     ]
    }
   ],
   "source": [
    "theta = np.linspace(0,np.pi, 3)\n",
    "print(\"theta      =\", theta)\n",
    "print(\"sin(theta) =\", np.sin(theta))\n",
    "print(\"cos(theta) =\", np.cos(theta))\n",
    "print(\"tan(theta) =\", np.tan(theta))"
   ]
  },
  {
   "cell_type": "code",
   "execution_count": 109,
   "id": "68f607ff",
   "metadata": {},
   "outputs": [
    {
     "name": "stdout",
     "output_type": "stream",
     "text": [
      "x      = [0.         1.57079633 3.14159265]\n",
      "arcsin(x) = [-1.57079633  0.          1.57079633]\n",
      "arccos(x) = [3.14159265 1.57079633 0.        ]\n",
      "arctan(x) = [-0.78539816  0.          0.78539816]\n"
     ]
    }
   ],
   "source": [
    "x = [-1,0,1]\n",
    "print(\"x      =\", theta)\n",
    "print(\"arcsin(x) =\", np.arcsin(x))\n",
    "print(\"arccos(x) =\", np.arccos(x))\n",
    "print(\"arctan(x) =\", np.arctan(x))"
   ]
  },
  {
   "cell_type": "markdown",
   "id": "351565d1",
   "metadata": {},
   "source": [
    "### 지수로그"
   ]
  },
  {
   "cell_type": "code",
   "execution_count": 110,
   "id": "80995786",
   "metadata": {},
   "outputs": [
    {
     "name": "stdout",
     "output_type": "stream",
     "text": [
      "x     = [1, 2, 3]\n",
      "e^x   = [ 2.71828183  7.3890561  20.08553692]\n",
      "2^x   = [2. 4. 8.]\n",
      "3^x   = [ 3  9 27]\n"
     ]
    }
   ],
   "source": [
    "x = [1,2,3]\n",
    "print(\"x     =\",x)\n",
    "print(\"e^x   =\",np.exp(x))\n",
    "print(\"2^x   =\",np.exp2(x))\n",
    "print(\"3^x   =\",np.power(3,x))"
   ]
  },
  {
   "cell_type": "markdown",
   "id": "be65f653",
   "metadata": {},
   "source": [
    "### 자연로그"
   ]
  },
  {
   "cell_type": "code",
   "execution_count": 113,
   "id": "c15abf83",
   "metadata": {},
   "outputs": [
    {
     "name": "stdout",
     "output_type": "stream",
     "text": [
      "x     = [1, 2, 4, 10]\n",
      "ln(x)   = [0.         0.69314718 1.38629436 2.30258509]\n",
      "log2(x)   = [0.         1.         2.         3.32192809]\n",
      "log10(x)   = [0.         0.30103    0.60205999 1.        ]\n",
      "\n",
      "exp(x)-1 = [0.         0.0010005  0.01005017 0.10517092]\n",
      "log(1+x) = [0.         0.0009995  0.00995033 0.09531018]\n"
     ]
    }
   ],
   "source": [
    "x = [1,2,4,10]\n",
    "print(\"x     =\",x)\n",
    "print(\"ln(x)   =\",np.log(x))\n",
    "print(\"log2(x)   =\",np.log2(x))\n",
    "print(\"log10(x)   =\",np.log10(x))\n",
    "print(\"\")\n",
    "#매우 작은 입력값의 정확도를 보정하고자 할때 사용하는 expm1, log1p\n",
    "x = [0,0.001,0.01,0.1]\n",
    "print(\"exp(x)-1 =\", np.expm1(x))\n",
    "print(\"log(1+x) =\", np.log1p(x))"
   ]
  },
  {
   "cell_type": "markdown",
   "id": "c43d1598",
   "metadata": {},
   "source": [
    "### 기타 특화된 함수들\n",
    "쌍곡선 삼각함수, 비트연산, 비교 연산자, 라디안 각도 변환, 반올림, 등등"
   ]
  },
  {
   "cell_type": "code",
   "execution_count": 116,
   "id": "e29f3119",
   "metadata": {},
   "outputs": [
    {
     "name": "stdout",
     "output_type": "stream",
     "text": [
      "gamma(x)     = [1.0000e+00 2.4000e+01 3.6288e+05]\n",
      "ln|gamma(x)| = [ 0.          3.17805383 12.80182748]\n",
      "beta(x, 2)   = [0.5        0.03333333 0.00909091]\n",
      "erf(x)    = [0.         0.32862676 0.67780119 0.84270079]\n",
      "erfc(x)   = [1.         0.67137324 0.32219881 0.15729921]\n",
      "erfinv(x) = [0.         0.27246271 0.73286908        inf]\n"
     ]
    }
   ],
   "source": [
    "from scipy import special\n",
    "x = [1,5,10]\n",
    "print(\"gamma(x)     =\", special.gamma(x))\n",
    "print(\"ln|gamma(x)| =\", special.gammaln(x))\n",
    "print(\"beta(x, 2)   =\", special.beta(x,2))\n",
    "\n",
    "# 오차함수(가우스 적분), 그 보수(complement)와 역수(inverse)\n",
    "x = np.array([0,0.3,0.7,1.0])\n",
    "print(\"erf(x)    =\", special.erf(x))\n",
    "print(\"erfc(x)   =\", special.erfc(x))\n",
    "print(\"erfinv(x) =\", special.erfinv(x))"
   ]
  },
  {
   "cell_type": "markdown",
   "id": "04785726",
   "metadata": {},
   "source": [
    "### 고급 Ufnc기능\n",
    "#### 출력 지정\n",
    "대규모 연산인 경우, 연산 결과를 저장할 배열을 지정하는 것이 유용하다. 임시 배열을 생성하지 않고 지정한 배열을 이용해 원하는 메모리 위치에 직접 연산 결과를 쓸 수 있다. 모든 ufncs에서 함수의 out인수를 사용해 출력을 지정할 수 있다."
   ]
  },
  {
   "cell_type": "code",
   "execution_count": 117,
   "id": "5dea943f",
   "metadata": {},
   "outputs": [
    {
     "data": {
      "text/plain": [
       "array([ 0., 10., 20., 30., 40.])"
      ]
     },
     "execution_count": 117,
     "metadata": {},
     "output_type": "execute_result"
    }
   ],
   "source": [
    "x = np.arange(5)\n",
    "y = np.empty(5)\n",
    "np.multiply(x,10, out=y)"
   ]
  },
  {
   "cell_type": "markdown",
   "id": "59343132",
   "metadata": {},
   "source": [
    "이건 배열 뷰와 함께 사용될 수 있다. 예를 들어 연산 결과를 지정된 배열의 요소에 하나씩 건너뛰면서 기록할 수 있다."
   ]
  },
  {
   "cell_type": "code",
   "execution_count": 118,
   "id": "d647e779",
   "metadata": {},
   "outputs": [
    {
     "name": "stdout",
     "output_type": "stream",
     "text": [
      "[ 1.  0.  2.  0.  4.  0.  8.  0. 16.  0.]\n"
     ]
    }
   ],
   "source": [
    "y = np.zeros(10)\n",
    "np.power(2,x,out=y[::2])\n",
    "print(y)"
   ]
  },
  {
   "cell_type": "markdown",
   "id": "8620ea25",
   "metadata": {},
   "source": [
    "### 집계"
   ]
  },
  {
   "cell_type": "code",
   "execution_count": 119,
   "id": "1b9dac5f",
   "metadata": {},
   "outputs": [
    {
     "data": {
      "text/plain": [
       "15"
      ]
     },
     "execution_count": 119,
     "metadata": {},
     "output_type": "execute_result"
    }
   ],
   "source": [
    "x = np.arange(1,6)\n",
    "np.add.reduce(x)"
   ]
  },
  {
   "cell_type": "code",
   "execution_count": 120,
   "id": "ffbbd1d9",
   "metadata": {},
   "outputs": [
    {
     "data": {
      "text/plain": [
       "120"
      ]
     },
     "execution_count": 120,
     "metadata": {},
     "output_type": "execute_result"
    }
   ],
   "source": [
    "np.multiply.reduce(x)"
   ]
  },
  {
   "cell_type": "code",
   "execution_count": 121,
   "id": "56f0546e",
   "metadata": {},
   "outputs": [
    {
     "data": {
      "text/plain": [
       "array([ 1,  3,  6, 10, 15], dtype=int32)"
      ]
     },
     "execution_count": 121,
     "metadata": {},
     "output_type": "execute_result"
    }
   ],
   "source": [
    "np.add.accumulate(x)"
   ]
  },
  {
   "cell_type": "code",
   "execution_count": 124,
   "id": "e2f73a0e",
   "metadata": {},
   "outputs": [
    {
     "data": {
      "text/plain": [
       "array([  1,   2,   6,  24, 120], dtype=int32)"
      ]
     },
     "execution_count": 124,
     "metadata": {},
     "output_type": "execute_result"
    }
   ],
   "source": [
    "np.multiply.accumulate(x)"
   ]
  },
  {
   "cell_type": "markdown",
   "id": "9eaec486",
   "metadata": {},
   "source": [
    "### 외적(Outer Products)\n",
    "입력값에 대한 모든 쌍에 대해서 출력값 계산"
   ]
  },
  {
   "cell_type": "code",
   "execution_count": 125,
   "id": "a13e7808",
   "metadata": {},
   "outputs": [
    {
     "data": {
      "text/plain": [
       "array([[ 1,  2,  3,  4,  5],\n",
       "       [ 2,  4,  6,  8, 10],\n",
       "       [ 3,  6,  9, 12, 15],\n",
       "       [ 4,  8, 12, 16, 20],\n",
       "       [ 5, 10, 15, 20, 25]])"
      ]
     },
     "execution_count": 125,
     "metadata": {},
     "output_type": "execute_result"
    }
   ],
   "source": [
    "x = np.arange(1,6)\n",
    "np.multiply.outer(x,x)"
   ]
  },
  {
   "cell_type": "markdown",
   "id": "5af92f5b",
   "metadata": {},
   "source": [
    "### 배열 값의 합 구하기"
   ]
  },
  {
   "cell_type": "code",
   "execution_count": 129,
   "id": "1668e0a3",
   "metadata": {},
   "outputs": [],
   "source": [
    "import numpy as np\n",
    "L = np.random.random(100)\n",
    "big_array = np.random.rand(1000000)"
   ]
  },
  {
   "cell_type": "code",
   "execution_count": 130,
   "id": "b90e2698",
   "metadata": {},
   "outputs": [
    {
     "name": "stdout",
     "output_type": "stream",
     "text": [
      "103 ms ± 4.9 ms per loop (mean ± std. dev. of 7 runs, 10 loops each)\n"
     ]
    }
   ],
   "source": [
    "%timeit sum(big_array)"
   ]
  },
  {
   "cell_type": "code",
   "execution_count": 131,
   "id": "e73d19a5",
   "metadata": {},
   "outputs": [
    {
     "name": "stdout",
     "output_type": "stream",
     "text": [
      "929 µs ± 43.5 µs per loop (mean ± std. dev. of 7 runs, 1000 loops each)\n"
     ]
    }
   ],
   "source": [
    "%timeit np.sum(big_array)"
   ]
  },
  {
   "cell_type": "markdown",
   "id": "7faeb675",
   "metadata": {},
   "source": [
    "똑같은 값의 합이지만 걸리는 시간이 다르다"
   ]
  },
  {
   "cell_type": "code",
   "execution_count": 132,
   "id": "3125d26c",
   "metadata": {},
   "outputs": [
    {
     "data": {
      "text/plain": [
       "(7.071203171893359e-07, 0.9999997207656334)"
      ]
     },
     "execution_count": 132,
     "metadata": {},
     "output_type": "execute_result"
    }
   ],
   "source": [
    "min(big_array), max(big_array)"
   ]
  },
  {
   "cell_type": "code",
   "execution_count": 133,
   "id": "f1d517c4",
   "metadata": {
    "scrolled": true
   },
   "outputs": [
    {
     "data": {
      "text/plain": [
       "(7.071203171893359e-07, 0.9999997207656334)"
      ]
     },
     "execution_count": 133,
     "metadata": {},
     "output_type": "execute_result"
    }
   ],
   "source": [
    "np.min(big_array), np.max(big_array)"
   ]
  },
  {
   "cell_type": "markdown",
   "id": "f28c1c81",
   "metadata": {},
   "source": [
    "마찬가지로 걸리는 시간이 차이남"
   ]
  },
  {
   "cell_type": "code",
   "execution_count": 134,
   "id": "dff5cfd8",
   "metadata": {},
   "outputs": [
    {
     "name": "stdout",
     "output_type": "stream",
     "text": [
      "7.071203171893359e-07 0.9999997207656334 500213.2396620991\n"
     ]
    }
   ],
   "source": [
    "print(big_array.min(), big_array.max(), big_array.sum())"
   ]
  },
  {
   "cell_type": "markdown",
   "id": "b00384c8",
   "metadata": {},
   "source": [
    "### 다차원 집계"
   ]
  },
  {
   "cell_type": "code",
   "execution_count": 136,
   "id": "f49fb691",
   "metadata": {},
   "outputs": [
    {
     "name": "stdout",
     "output_type": "stream",
     "text": [
      "[[0.58482442 0.39996498 0.54868445 0.10586911]\n",
      " [0.1247232  0.97428545 0.08095713 0.49450339]\n",
      " [0.5728416  0.17517345 0.57028092 0.35511846]]\n"
     ]
    }
   ],
   "source": [
    "M = np.random.random((3,4))\n",
    "print(M)"
   ]
  },
  {
   "cell_type": "code",
   "execution_count": 137,
   "id": "215c277b",
   "metadata": {},
   "outputs": [
    {
     "data": {
      "text/plain": [
       "4.987226586697499"
      ]
     },
     "execution_count": 137,
     "metadata": {},
     "output_type": "execute_result"
    }
   ],
   "source": [
    "M.sum()"
   ]
  },
  {
   "cell_type": "code",
   "execution_count": 140,
   "id": "a4ffb75e",
   "metadata": {},
   "outputs": [
    {
     "data": {
      "text/plain": [
       "array([0.1247232 , 0.17517345, 0.08095713, 0.10586911])"
      ]
     },
     "execution_count": 140,
     "metadata": {},
     "output_type": "execute_result"
    }
   ],
   "source": [
    "M.min(axis=0) #어떤 축에 따라서 집계를 할 것인가\n",
    "# 각 행에서 가장 작은 값을 반환"
   ]
  },
  {
   "cell_type": "code",
   "execution_count": 141,
   "id": "38c676e0",
   "metadata": {},
   "outputs": [
    {
     "data": {
      "text/plain": [
       "array([0.58482442, 0.97428545, 0.5728416 ])"
      ]
     },
     "execution_count": 141,
     "metadata": {},
     "output_type": "execute_result"
    }
   ],
   "source": [
    "M.max(axis=1)"
   ]
  },
  {
   "cell_type": "markdown",
   "id": "b39a00f6",
   "metadata": {},
   "source": [
    "![numpy_ aggregation_functions.png](./numpy_aggregation_functions.png)"
   ]
  },
  {
   "cell_type": "markdown",
   "id": "4d4515c0",
   "metadata": {},
   "source": [
    "### 예제 : 미국 대통령의 평균 신장은 얼마일까?"
   ]
  },
  {
   "cell_type": "code",
   "execution_count": 142,
   "id": "15d531b0",
   "metadata": {},
   "outputs": [
    {
     "name": "stdout",
     "output_type": "stream",
     "text": [
      "order,name,height(cm)\n",
      "1,George Washington,189\n",
      "2,John Adams,170\n",
      "3,Thomas Jefferson,189\n"
     ]
    }
   ],
   "source": [
    "!head -4 ./president_heights.csv"
   ]
  },
  {
   "cell_type": "code",
   "execution_count": 143,
   "id": "3b8e58fe",
   "metadata": {},
   "outputs": [
    {
     "name": "stdout",
     "output_type": "stream",
     "text": [
      "[189 170 189 163 183 171 185 168 173 183 173 173 175 178 183 193 178 173\n",
      " 174 183 183 168 170 178 182 180 183 178 182 188 175 179 183 193 182 183\n",
      " 177 185 188 188 182 185]\n"
     ]
    }
   ],
   "source": [
    "import pandas as pd\n",
    "data = pd.read_csv('./president_heights.csv')\n",
    "heights = np.array(data['height(cm)'])\n",
    "print(heights)"
   ]
  },
  {
   "cell_type": "code",
   "execution_count": 144,
   "id": "cd9edceb",
   "metadata": {},
   "outputs": [
    {
     "name": "stdout",
     "output_type": "stream",
     "text": [
      "Mean hieght        :  179.73809523809524\n",
      "Standard deviation :  6.931843442745892\n",
      "Minimum height     :  163\n",
      "Maximum height     :  193\n"
     ]
    }
   ],
   "source": [
    "print(\"Mean hieght        : \", heights.mean())\n",
    "print(\"Standard deviation : \", heights.std())\n",
    "print(\"Minimum height     : \", heights.min())\n",
    "print(\"Maximum height     : \", heights.max())"
   ]
  },
  {
   "cell_type": "code",
   "execution_count": 145,
   "id": "90212e92",
   "metadata": {},
   "outputs": [
    {
     "name": "stdout",
     "output_type": "stream",
     "text": [
      "25th percentile:  174.25\n",
      "Median         :  182.0\n",
      "75th percentile:  183.0\n"
     ]
    }
   ],
   "source": [
    "print(\"25th percentile: \", np.percentile(heights, 25))\n",
    "print(\"Median         : \", np.median(heights))\n",
    "print(\"75th percentile: \", np.percentile(heights, 75))"
   ]
  },
  {
   "cell_type": "code",
   "execution_count": 147,
   "id": "8aa68f76",
   "metadata": {},
   "outputs": [],
   "source": [
    "%matplotlib inline\n",
    "import matplotlib.pyplot as plt\n",
    "import seaborn; seaborn.set()"
   ]
  },
  {
   "cell_type": "code",
   "execution_count": 148,
   "id": "63bb7b22",
   "metadata": {},
   "outputs": [
    {
     "data": {
      "image/png": "[encoded data removed]",
      "text/plain": [
       "<Figure size 432x288 with 1 Axes>"
      ]
     },
     "metadata": {},
     "output_type": "display_data"
    }
   ],
   "source": [
    "plt.hist(heights)\n",
    "plt.title('Height Distribution of US Presidents')\n",
    "plt.xlabel('height (cm)')\n",
    "plt.ylabel('number');"
   ]
  },
  {
   "cell_type": "markdown",
   "id": "3f0b5ac8",
   "metadata": {},
   "source": [
    "### 배열 연산 브로드 캐스팅\n",
    "벡터화 연산의 또 다른 방법은 Numpy의 브로드캐스팅 기능을 사용한다. 브로드캐스팅은 단지 다른 크기의 배열에 유니버셜 함수(사칙연산)을 적용하기 위한 규칙의 집합 73p"
   ]
  },
  {
   "cell_type": "code",
   "execution_count": null,
   "id": "4ed6b10d",
   "metadata": {},
   "outputs": [],
   "source": []
  }
 ],
 "metadata": {
  "kernelspec": {
   "display_name": "Python 3 (ipykernel)",
   "language": "python",
   "name": "python3"
  },
  "language_info": {
   "codemirror_mode": {
    "name": "ipython",
    "version": 3
   },
   "file_extension": ".py",
   "mimetype": "text/x-python",
   "name": "python",
   "nbconvert_exporter": "python",
   "pygments_lexer": "ipython3",
   "version": "3.9.7"
  }
 },
 "nbformat": 4,
 "nbformat_minor": 5
}
