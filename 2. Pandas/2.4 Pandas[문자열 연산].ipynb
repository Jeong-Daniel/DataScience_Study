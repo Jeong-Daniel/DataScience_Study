{
 "cells": [
  {
   "cell_type": "markdown",
   "id": "ca780772",
   "metadata": {},
   "source": [
    "### 벡터화된 문자열 연산\n",
    "### Pandas 문자열 연산 소개\n",
    "연산을 벡터화화면 데이터 배열에서 동작하는 구문이 단순해진다. 배열의 크기나 모양을 걱정할 필요 없이 하고자하는 연산이 무엇인지 신경만 쓰면 된다. Numpy에서는 문자열 배열에 간단하게 접근할 수 없어서 장황한 루프 구문을 사용해야 한다."
   ]
  },
  {
   "cell_type": "code",
   "execution_count": 1,
   "id": "132a897e",
   "metadata": {},
   "outputs": [
    {
     "data": {
      "text/plain": [
       "['Peter', 'Paul', 'Mary', 'Guido']"
      ]
     },
     "execution_count": 1,
     "metadata": {},
     "output_type": "execute_result"
    }
   ],
   "source": [
    "data = ['peter', 'Paul', 'MARY', 'gUIDO']\n",
    "[s.capitalize() for s in data]"
   ]
  },
  {
   "cell_type": "markdown",
   "id": "1ab3b59c",
   "metadata": {},
   "source": [
    "보통 이 정도로 충분할지 모르지만 누락된 값이 있다면 에러가 발생할 것이다. 예를 들어 보자 Pandas는 문자열을 담고 있는 Pandas Series와 인덱스 객체의 str 속성을 통해 벡터화된 문자열 연산은 수행하고 누락된 데이터를 올바르게 처리하기 위한 기능을 제공한다. 그렇다면 예를 들어 이 데이터로 Pandas Series를 생성했다고 가정하자"
   ]
  },
  {
   "cell_type": "code",
   "execution_count": 2,
   "id": "749644e7",
   "metadata": {},
   "outputs": [
    {
     "data": {
      "text/plain": [
       "0    peter\n",
       "1     Paul\n",
       "2     MARY\n",
       "3    gUIDO\n",
       "dtype: object"
      ]
     },
     "execution_count": 2,
     "metadata": {},
     "output_type": "execute_result"
    }
   ],
   "source": [
    "import pandas as pd\n",
    "names = pd.Series(data)\n",
    "names"
   ]
  },
  {
   "cell_type": "code",
   "execution_count": 3,
   "id": "a339b8d0",
   "metadata": {},
   "outputs": [
    {
     "data": {
      "text/plain": [
       "0    Peter\n",
       "1     Paul\n",
       "2     Mary\n",
       "3    Guido\n",
       "dtype: object"
      ]
     },
     "execution_count": 3,
     "metadata": {},
     "output_type": "execute_result"
    }
   ],
   "source": [
    "names.str.capitalize() # captitalize 첫글자만 대문자로 변환"
   ]
  },
  {
   "cell_type": "markdown",
   "id": "426b3fb5",
   "metadata": {},
   "source": [
    "### Pandas 문자열 메서드 목록"
   ]
  },
  {
   "cell_type": "code",
   "execution_count": 4,
   "id": "851139da",
   "metadata": {},
   "outputs": [],
   "source": [
    "monte = pd.Series(['Graham Chapman', 'John Cleese', 'Terry Gilliam', 'Eric Idle', 'Terry Jones', 'Michael Palin'])"
   ]
  },
  {
   "cell_type": "markdown",
   "id": "da25e05a",
   "metadata": {},
   "source": [
    "### 파이썬 문자열 매서드와 유사한 매서드\n",
    "거의 모든 파이썬의 내장 문자열 매서드는 Pandas의 벡터화된 문자열 메서드에도 반영돼 있다. 다음은 파이썬의 문자열 메서드를 반영한 Pandas str매서드의 목록이다.  \n",
    "\n",
    "|             |                  |                  |                  |\n",
    "|-------------|------------------|------------------|------------------|\n",
    "|``len()``    | ``lower()``      | ``translate()``  | ``islower()``    | \n",
    "|``ljust()``  | ``upper()``      | ``startswith()`` | ``isupper()``    | \n",
    "|``rjust()``  | ``find()``       | ``endswith()``   | ``isnumeric()``  | \n",
    "|``center()`` | ``rfind()``      | ``isalnum()``    | ``isdecimal()``  | \n",
    "|``zfill()``  | ``index()``      | ``isalpha()``    | ``split()``      | \n",
    "|``strip()``  | ``rindex()``     | ``isdigit()``    | ``rsplit()``     | \n",
    "|``rstrip()`` | ``capitalize()`` | ``isspace()``    | ``partition()``  | \n",
    "|``lstrip()`` |  ``swapcase()``  |  ``istitle()``   | ``rpartition()`` |"
   ]
  },
  {
   "cell_type": "code",
   "execution_count": 5,
   "id": "367f75d5",
   "metadata": {},
   "outputs": [
    {
     "data": {
      "text/plain": [
       "0    graham chapman\n",
       "1       john cleese\n",
       "2     terry gilliam\n",
       "3         eric idle\n",
       "4       terry jones\n",
       "5     michael palin\n",
       "dtype: object"
      ]
     },
     "execution_count": 5,
     "metadata": {},
     "output_type": "execute_result"
    }
   ],
   "source": [
    "monte.str.lower()"
   ]
  },
  {
   "cell_type": "code",
   "execution_count": 6,
   "id": "92e9ae20",
   "metadata": {},
   "outputs": [
    {
     "data": {
      "text/plain": [
       "0    14\n",
       "1    11\n",
       "2    13\n",
       "3     9\n",
       "4    11\n",
       "5    13\n",
       "dtype: int64"
      ]
     },
     "execution_count": 6,
     "metadata": {},
     "output_type": "execute_result"
    }
   ],
   "source": [
    "monte.str.len()"
   ]
  },
  {
   "cell_type": "code",
   "execution_count": 7,
   "id": "d6f3b0d7",
   "metadata": {},
   "outputs": [
    {
     "data": {
      "text/plain": [
       "0    False\n",
       "1    False\n",
       "2     True\n",
       "3    False\n",
       "4     True\n",
       "5    False\n",
       "dtype: bool"
      ]
     },
     "execution_count": 7,
     "metadata": {},
     "output_type": "execute_result"
    }
   ],
   "source": [
    "monte.str.startswith('T')\n",
    "# T로 시작안하면 False"
   ]
  },
  {
   "cell_type": "code",
   "execution_count": 8,
   "id": "2991d47c",
   "metadata": {},
   "outputs": [
    {
     "data": {
      "text/plain": [
       "0    [Graham, Chapman]\n",
       "1       [John, Cleese]\n",
       "2     [Terry, Gilliam]\n",
       "3         [Eric, Idle]\n",
       "4       [Terry, Jones]\n",
       "5     [Michael, Palin]\n",
       "dtype: object"
      ]
     },
     "execution_count": 8,
     "metadata": {},
     "output_type": "execute_result"
    }
   ],
   "source": [
    "monte.str.split()"
   ]
  },
  {
   "cell_type": "markdown",
   "id": "00b5786c",
   "metadata": {},
   "source": [
    "### 정규 표현식을 활용하는 메서드\n",
    "문자열 요소의 내용을 검사하는데 정규 표현식을 활용하고 파이썬에서 기본적으로 제공하는 re모듈의 API 규칙을 일부 따르는 메서드도 있다.\n",
    "\n",
    "| Method | 설명 |\n",
    "|--------|-------------|\n",
    "| ``match()`` | 각 요소에 ``re.match()``를 호출 부울 갑을 반환 |\n",
    "| ``extract()`` | 각 요소에 ``re.match()``를 호출. 문자열로 매칭된 그룹을 반환|\n",
    "| ``findall()`` | 각 요소에 ``re.findall()``을 호출 |\n",
    "| ``replace()`` | 패턴이 발생한 곳을 다른 문자열로 대체 |\n",
    "| ``contains()`` | 각 요소에 ``re.search()``를 호출, 부울 값을 반환 |\n",
    "| ``count()`` | 패턴의 발생 건수를 집계 |\n",
    "| ``split()``   | ``str.split()``과 동일하지만 정규 표현식을 취함 |\n",
    "| ``rsplit()`` | ``str.rsplit()``과 동일하지만 정규 표현식을 취함 |\n",
    "\n",
    "이 매서드를 사용하면 흥미로운 연산을 다양하게 수행할 수 있다. 예를 들어 각 요소의 시작 문자와 부터 있는 그룹을 요청해 각 요소로부터 이름 부분을 추출 할 수 있다."
   ]
  },
  {
   "cell_type": "code",
   "execution_count": 9,
   "id": "62519d66",
   "metadata": {
    "scrolled": true
   },
   "outputs": [
    {
     "data": {
      "text/html": [
       "<div>\n",
       "<style scoped>\n",
       "    .dataframe tbody tr th:only-of-type {\n",
       "        vertical-align: middle;\n",
       "    }\n",
       "\n",
       "    .dataframe tbody tr th {\n",
       "        vertical-align: top;\n",
       "    }\n",
       "\n",
       "    .dataframe thead th {\n",
       "        text-align: right;\n",
       "    }\n",
       "</style>\n",
       "<table border=\"1\" class=\"dataframe\">\n",
       "  <thead>\n",
       "    <tr style=\"text-align: right;\">\n",
       "      <th></th>\n",
       "      <th>0</th>\n",
       "    </tr>\n",
       "  </thead>\n",
       "  <tbody>\n",
       "    <tr>\n",
       "      <th>0</th>\n",
       "      <td>Graham</td>\n",
       "    </tr>\n",
       "    <tr>\n",
       "      <th>1</th>\n",
       "      <td>John</td>\n",
       "    </tr>\n",
       "    <tr>\n",
       "      <th>2</th>\n",
       "      <td>Terry</td>\n",
       "    </tr>\n",
       "    <tr>\n",
       "      <th>3</th>\n",
       "      <td>Eric</td>\n",
       "    </tr>\n",
       "    <tr>\n",
       "      <th>4</th>\n",
       "      <td>Terry</td>\n",
       "    </tr>\n",
       "    <tr>\n",
       "      <th>5</th>\n",
       "      <td>Michael</td>\n",
       "    </tr>\n",
       "  </tbody>\n",
       "</table>\n",
       "</div>"
      ],
      "text/plain": [
       "         0\n",
       "0   Graham\n",
       "1     John\n",
       "2    Terry\n",
       "3     Eric\n",
       "4    Terry\n",
       "5  Michael"
      ]
     },
     "execution_count": 9,
     "metadata": {},
     "output_type": "execute_result"
    }
   ],
   "source": [
    "monte.str.extract('([A-Za-z]+)')"
   ]
  },
  {
   "cell_type": "markdown",
   "id": "81945a81",
   "metadata": {},
   "source": [
    "또는 문자열 시작(^)과 문자열 끝($)을 나타내는 정규 표현식을 사용해 자음으로 시작하고 끝나는 모든 이름을 찾는 것과 같은 더 복잡한 일을 할 수도 있다."
   ]
  },
  {
   "cell_type": "code",
   "execution_count": 10,
   "id": "c26afcaf",
   "metadata": {},
   "outputs": [
    {
     "data": {
      "text/plain": [
       "0    [Graham Chapman]\n",
       "1                  []\n",
       "2     [Terry Gilliam]\n",
       "3                  []\n",
       "4       [Terry Jones]\n",
       "5     [Michael Palin]\n",
       "dtype: object"
      ]
     },
     "execution_count": 10,
     "metadata": {},
     "output_type": "execute_result"
    }
   ],
   "source": [
    "monte.str.findall(r'^[^AEIOU].*[^aeiou]$')"
   ]
  },
  {
   "cell_type": "markdown",
   "id": "9e01a444",
   "metadata": {},
   "source": [
    "### 기타 메서드\n",
    "\n",
    "| Method | Description |\n",
    "|--------|-------------|\n",
    "| ``get()`` | 각 요소에 인덱스를 지정 |\n",
    "| ``slice()`` | 각 요소에 슬라이스를 적용 |\n",
    "| ``slice_replace()`` | 각 요소의 슬라이스를 전달된 값으로 대체 |\n",
    "| ``cat()``      | 문자열을 연결 |\n",
    "| ``repeat()`` | 값을 반복 |\n",
    "| ``normalize()`` | 문자열의 유니코드 형태를 반환 |\n",
    "| ``pad()`` | 문자열 왼쪽, 오른쪽, 또는 양쪽에 공백을 추가 |\n",
    "| ``wrap()`` | 긴 문자열을 주어진 너비보다 짧은 길이의 여러 줄로 나눔 |\n",
    "| ``join()`` | Series의 각 요소에 있는 문자열을 전달된 구분자와 결합 |\n",
    "| ``get_dummies()`` | DtaFrame으로 가변수(dummy variable)를 추출 |\n",
    "\n",
    "벡터화된 항목의 접근 및 슬라이싱 get()과 slice() 연산은 특히 각 배열에서 벡터화된 요소에 접근하게 해준다. 예로 str.slice(0,3)을 사용하면 각 배열의 첫 세문자와 슬라이스를 얻을 수 있다. 이 행위는 파이썬의 일반 인덱싱 구문으로도 수행할 수 있다. df.str.slic(0,3)은 df.str[0:3]과 동일하다."
   ]
  },
  {
   "cell_type": "code",
   "execution_count": 11,
   "id": "3682db7f",
   "metadata": {},
   "outputs": [
    {
     "data": {
      "text/plain": [
       "0    Gra\n",
       "1    Joh\n",
       "2    Ter\n",
       "3    Eri\n",
       "4    Ter\n",
       "5    Mic\n",
       "dtype: object"
      ]
     },
     "execution_count": 11,
     "metadata": {},
     "output_type": "execute_result"
    }
   ],
   "source": [
    "monte.str[0:3]"
   ]
  },
  {
   "cell_type": "markdown",
   "id": "7ebcd622",
   "metadata": {},
   "source": [
    "df.str.get(i)와 df.str[i]를 통한 인덱싱은 유사하다. 이 get()과 slice()매서드를 이용하면 split()이 반환한 배열의 요소에 접근할 수도 있다. 예를 들어, 각 요소의 성을 추출하려면 split()과 get()을 결합하면 된다."
   ]
  },
  {
   "cell_type": "code",
   "execution_count": 12,
   "id": "6d6658cd",
   "metadata": {},
   "outputs": [
    {
     "data": {
      "text/plain": [
       "0    Chapman\n",
       "1     Cleese\n",
       "2    Gilliam\n",
       "3       Idle\n",
       "4      Jones\n",
       "5      Palin\n",
       "dtype: object"
      ]
     },
     "execution_count": 12,
     "metadata": {},
     "output_type": "execute_result"
    }
   ],
   "source": [
    "monte.str.split().str.get(-1)"
   ]
  },
  {
   "cell_type": "markdown",
   "id": "f4906941",
   "metadata": {},
   "source": [
    "지시 변수 별도의 설명이 약간 필요한 또 다른 메서드로 get_dummies() 매서드가 있다. 이 메서드는 데이터가 일종의 코딩된 지시자를 포함한 열을 가지고 있을때 유용하다. 데이터세트가 A=\"born in America,\" B=\"born in the United Kingdom,\" C=\"likes cheese,\" D=\"likes spam\" 같이 코드 형태의 정보를 포함 할 수 있다."
   ]
  },
  {
   "cell_type": "code",
   "execution_count": 13,
   "id": "4edea860",
   "metadata": {},
   "outputs": [
    {
     "data": {
      "text/html": [
       "<div>\n",
       "<style scoped>\n",
       "    .dataframe tbody tr th:only-of-type {\n",
       "        vertical-align: middle;\n",
       "    }\n",
       "\n",
       "    .dataframe tbody tr th {\n",
       "        vertical-align: top;\n",
       "    }\n",
       "\n",
       "    .dataframe thead th {\n",
       "        text-align: right;\n",
       "    }\n",
       "</style>\n",
       "<table border=\"1\" class=\"dataframe\">\n",
       "  <thead>\n",
       "    <tr style=\"text-align: right;\">\n",
       "      <th></th>\n",
       "      <th>name</th>\n",
       "      <th>info</th>\n",
       "    </tr>\n",
       "  </thead>\n",
       "  <tbody>\n",
       "    <tr>\n",
       "      <th>0</th>\n",
       "      <td>Graham Chapman</td>\n",
       "      <td>B|C|D</td>\n",
       "    </tr>\n",
       "    <tr>\n",
       "      <th>1</th>\n",
       "      <td>John Cleese</td>\n",
       "      <td>B|D</td>\n",
       "    </tr>\n",
       "    <tr>\n",
       "      <th>2</th>\n",
       "      <td>Terry Gilliam</td>\n",
       "      <td>A|C</td>\n",
       "    </tr>\n",
       "    <tr>\n",
       "      <th>3</th>\n",
       "      <td>Eric Idle</td>\n",
       "      <td>B|D</td>\n",
       "    </tr>\n",
       "    <tr>\n",
       "      <th>4</th>\n",
       "      <td>Terry Jones</td>\n",
       "      <td>B|C</td>\n",
       "    </tr>\n",
       "    <tr>\n",
       "      <th>5</th>\n",
       "      <td>Michael Palin</td>\n",
       "      <td>B|C|D</td>\n",
       "    </tr>\n",
       "  </tbody>\n",
       "</table>\n",
       "</div>"
      ],
      "text/plain": [
       "             name   info\n",
       "0  Graham Chapman  B|C|D\n",
       "1     John Cleese    B|D\n",
       "2   Terry Gilliam    A|C\n",
       "3       Eric Idle    B|D\n",
       "4     Terry Jones    B|C\n",
       "5   Michael Palin  B|C|D"
      ]
     },
     "execution_count": 13,
     "metadata": {},
     "output_type": "execute_result"
    }
   ],
   "source": [
    "full_monte = pd.DataFrame({'name': monte,\n",
    "                           'info': ['B|C|D', 'B|D', 'A|C',\n",
    "                                    'B|D', 'B|C', 'B|C|D']})\n",
    "full_monte"
   ]
  },
  {
   "cell_type": "markdown",
   "id": "46e75f6e",
   "metadata": {},
   "source": [
    "get_dummies()루틴을 사용하면 이 지시 변수를 DataFrame로 신속하게 나눌 수 있다. 이 연산을 기본 구성 요소로 하면 데이터를 정제할 때 끊임 없는 문자열 처리 절차를 구성할 수 있다."
   ]
  },
  {
   "cell_type": "code",
   "execution_count": null,
   "id": "f9ec149f",
   "metadata": {},
   "outputs": [],
   "source": []
  }
 ],
 "metadata": {
  "kernelspec": {
   "display_name": "Python 3 (ipykernel)",
   "language": "python",
   "name": "python3"
  },
  "language_info": {
   "codemirror_mode": {
    "name": "ipython",
    "version": 3
   },
   "file_extension": ".py",
   "mimetype": "text/x-python",
   "name": "python",
   "nbconvert_exporter": "python",
   "pygments_lexer": "ipython3",
   "version": "3.9.7"
  }
 },
 "nbformat": 4,
 "nbformat_minor": 5
}
