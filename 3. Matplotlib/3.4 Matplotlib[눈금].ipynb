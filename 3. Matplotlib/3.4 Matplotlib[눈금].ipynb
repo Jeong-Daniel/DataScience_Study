{
 "cells": [
  {
   "cell_type": "markdown",
   "id": "1230f60b",
   "metadata": {},
   "source": [
    "### 눈금 맞춤 변경하기\n",
    "Matplotlib 플릇의 객체 계층구조에 대해 좀더 이해하고 넘어가는게 좋다. Matplotlib은 플릇에 등장하는 모든 것을 나타내는 파이썬 객체를 갖는 것을 목표로 한다. 예를 들어 figure는 내부에 플릇 요소들이 등장하는 테두리 쳐진 박스라는 사실을 기억하자 각 Matplotlib 객체는 하위 객체의 컨테이너 역할을 할 수도 있다. 예를 들어 figure는 하나 이상의 axes객체를 포함할 수 있으며, 각각의 axes 객체는 다시 플릇 내용을 표시하는 다른 객체를 포함한다\n",
    "\n",
    "### 주 눈금과 보조 눈금\n",
    "주 눈금은 대체로 더 크고 확연히 드러나지만 보조 눈금은 대게 더 작다. 기본적으로 Matplotlib은 보조 눈금을 거의 사용하지 않지만 로그 차트에서는 보조 눈금을 확인할 수 있다."
   ]
  },
  {
   "cell_type": "code",
   "execution_count": 1,
   "id": "0be36d41",
   "metadata": {},
   "outputs": [
    {
     "data": {
      "image/png": "[encoded data removed]",
      "text/plain": [
       "<Figure size 432x288 with 1 Axes>"
      ]
     },
     "metadata": {
      "needs_background": "light"
     },
     "output_type": "display_data"
    }
   ],
   "source": [
    "import matplotlib.pyplot as plt\n",
    "plt.style.use('classic')\n",
    "%matplotlib inline\n",
    "import numpy as np\n",
    "\n",
    "ax = plt.axes(xscale='log', yscale='log')\n",
    "ax.grid();"
   ]
  },
  {
   "cell_type": "code",
   "execution_count": null,
   "id": "4b17974f",
   "metadata": {},
   "outputs": [],
   "source": []
  }
 ],
 "metadata": {
  "kernelspec": {
   "display_name": "Python 3 (ipykernel)",
   "language": "python",
   "name": "python3"
  },
  "language_info": {
   "codemirror_mode": {
    "name": "ipython",
    "version": 3
   },
   "file_extension": ".py",
   "mimetype": "text/x-python",
   "name": "python",
   "nbconvert_exporter": "python",
   "pygments_lexer": "ipython3",
   "version": "3.9.12"
  }
 },
 "nbformat": 4,
 "nbformat_minor": 5
}
