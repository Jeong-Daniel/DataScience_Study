{
 "cells": [
  {
   "cell_type": "markdown",
   "id": "befc1e08",
   "metadata": {},
   "source": [
    "### 데이터 표현\n",
    "#### 스케일링이 필요한 이유"
   ]
  },
  {
   "cell_type": "code",
   "execution_count": 8,
   "id": "b32adfef",
   "metadata": {},
   "outputs": [
    {
     "name": "stdout",
     "output_type": "stream",
     "text": [
      "raw_time :  0.4406131000000073\n",
      "scaled_time :  0.3112918999999579\n"
     ]
    }
   ],
   "source": [
    "import timeit\n",
    "from sklearn import datasets, linear_model\n",
    "diabetes_X, diabetes_y = datasets.load_diabetes(return_X_y=True)\n",
    "raw = diabetes_X[:, None, 2]\n",
    "max_raw = max(raw)\n",
    "min_raw = min(raw)\n",
    "scaled = (2*raw - max_raw - min_raw)/(max_raw - min_raw)\n",
    "\n",
    "def train_raw():\n",
    "    linear_model.LinearRegression().fit(raw, diabetes_y)\n",
    "    \n",
    "def train_scaled():\n",
    "    linear_model.LinearRegression().fit(scaled, diabetes_y)\n",
    "    \n",
    "raw_time = timeit.timeit(train_raw, number = 1000)\n",
    "scaled_time = timeit.timeit(train_scaled, number = 1000)\n",
    "\n",
    "print('raw_time : ', raw_time)\n",
    "print('scaled_time : ', scaled_time)"
   ]
  },
  {
   "cell_type": "markdown",
   "id": "247ca4b5",
   "metadata": {},
   "source": [
    "똑같은 데이터인데도 학습하는데 스케일링된 데이터가 훨씬 빠르게 학습하는 것을 확인할 수 있음"
   ]
  }
 ],
 "metadata": {
  "kernelspec": {
   "display_name": "Python 3 (ipykernel)",
   "language": "python",
   "name": "python3"
  },
  "language_info": {
   "codemirror_mode": {
    "name": "ipython",
    "version": 3
   },
   "file_extension": ".py",
   "mimetype": "text/x-python",
   "name": "python",
   "nbconvert_exporter": "python",
   "pygments_lexer": "ipython3",
   "version": "3.9.12"
  }
 },
 "nbformat": 4,
 "nbformat_minor": 5
}
