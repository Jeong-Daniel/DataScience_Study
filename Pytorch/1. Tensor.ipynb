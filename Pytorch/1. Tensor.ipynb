{
 "cells": [
  {
   "cell_type": "markdown",
   "id": "fc714ec9",
   "metadata": {},
   "source": [
    "## 텐서\n",
    "파이토치 모델 연사을 위해서는 파이토치의 기본 단위를 텐서(tensor)를 사용해야 한다. 텐서는 GPU연산을 가능하게하고 Numpy 배열과 유사하다.\n",
    "\n",
    "### 텐서 생성 및 변환"
   ]
  },
  {
   "cell_type": "code",
   "execution_count": 2,
   "id": "e4819e74",
   "metadata": {},
   "outputs": [],
   "source": [
    "import torch\n",
    "import numpy as np"
   ]
  },
  {
   "cell_type": "code",
   "execution_count": 9,
   "id": "2ac2aa8b",
   "metadata": {},
   "outputs": [
    {
     "name": "stdout",
     "output_type": "stream",
     "text": [
      "tensor([[1, 2],\n",
      "        [3, 4]])\n",
      "tensor([[1, 2],\n",
      "        [3, 4]])\n",
      "tensor([[1., 2.],\n",
      "        [3., 4.]], dtype=torch.float64)\n",
      "[[1 2]\n",
      " [3 4]]\n",
      "[[1 2]\n",
      " [3 4]]\n"
     ]
    }
   ],
   "source": [
    "print(torch.tensor([[1,2],[3,4]]))\n",
    "print(torch.tensor([[1,2],[3,4]], device='cpu:0'))\n",
    "print(torch.tensor([[1,2],[3,4]], dtype=torch.float64))\n",
    "\n",
    "temp = torch.tensor([[1,2],[3,4]])\n",
    "print(temp.numpy())\n",
    "\n",
    "temp = torch.tensor([[1,2],[3,4]], device='cpu:0')\n",
    "print(temp.to(\"cpu\").numpy())"
   ]
  },
  {
   "cell_type": "markdown",
   "id": "d6bac591",
   "metadata": {},
   "source": [
    "### 텐서 인덱스 조작\n",
    "torch.FloatTensor: 32비트의 부동 소수점  \n",
    "torch.DoubleTensor: 64비트의 부동 소수점  \n",
    "torch.LongTensor: 64비트의 부호가 있는 정수  "
   ]
  },
  {
   "cell_type": "code",
   "execution_count": 11,
   "id": "a5f5ef2f",
   "metadata": {
    "scrolled": true
   },
   "outputs": [
    {
     "name": "stdout",
     "output_type": "stream",
     "text": [
      "tensor(1.) tensor(2.) tensor(7.)\n",
      "------------------------\n",
      "tensor([3., 4., 5.]) tensor([5., 6.])\n"
     ]
    }
   ],
   "source": [
    "temp = torch.FloatTensor([1,2,3,4,5,6,7])\n",
    "print(temp[0], temp[1], temp[-1])\n",
    "print(\"------------------------\")\n",
    "print(temp[2:5], temp[4:-1])"
   ]
  },
  {
   "cell_type": "markdown",
   "id": "e6e9199e",
   "metadata": {},
   "source": [
    "### 텐서 연산 및 차원 조작"
   ]
  },
  {
   "cell_type": "code",
   "execution_count": 12,
   "id": "d01ace81",
   "metadata": {},
   "outputs": [
    {
     "name": "stdout",
     "output_type": "stream",
     "text": [
      "tensor([2, 2, 3])\n"
     ]
    }
   ],
   "source": [
    "v = torch.tensor([1,2,3])\n",
    "w = torch.tensor([3,4,6])\n",
    "print(w-v)"
   ]
  },
  {
   "cell_type": "markdown",
   "id": "6d53fae0",
   "metadata": {},
   "source": [
    "텐서의 차원을 변경하는 대표적인 방법은 view를 이용하는 것. 이외에도 텐서를 결합하는 stack cat과 차원을 교환하는 t, transpose도 사용함, view는 넘파이의 reshape과 유사하며 cat는 다른 길이의 텐서를 하나로 병합할때 유용.\n",
    "\n",
    "또한 transpose는 행렬의 전치외에도 차원의 순서를 변경할 때도 사용"
   ]
  },
  {
   "cell_type": "code",
   "execution_count": null,
   "id": "ada979f5",
   "metadata": {},
   "outputs": [],
   "source": []
  },
  {
   "cell_type": "code",
   "execution_count": 1,
   "id": "2f1f771a",
   "metadata": {},
   "outputs": [
    {
     "data": {
      "text/plain": [
       "tensor([[8.4490e-39, 1.0102e-38, 1.0561e-38, 7.3470e-39],\n",
       "        [1.0653e-38, 1.0469e-38, 9.5510e-39, 9.9184e-39],\n",
       "        [9.0000e-39, 1.0561e-38, 1.0653e-38, 4.1327e-39],\n",
       "        [8.9082e-39, 9.8265e-39, 9.4592e-39, 1.0561e-38],\n",
       "        [1.0653e-38, 1.0469e-38, 9.5510e-39, 9.9184e-39]])"
      ]
     },
     "execution_count": 1,
     "metadata": {},
     "output_type": "execute_result"
    }
   ],
   "source": [
    "x = torch.empty(5,4)\n",
    "# torch.empty를 통해 크기가 5 x 4인 빈 텐서를 생헝한다.\n",
    "x"
   ]
  },
  {
   "cell_type": "code",
   "execution_count": 3,
   "id": "1f9f426d",
   "metadata": {},
   "outputs": [
    {
     "data": {
      "text/plain": [
       "tensor([[1., 1., 1.],\n",
       "        [1., 1., 1.],\n",
       "        [1., 1., 1.]])"
      ]
     },
     "execution_count": 3,
     "metadata": {},
     "output_type": "execute_result"
    }
   ],
   "source": [
    "torch.ones(3,3)"
   ]
  },
  {
   "cell_type": "code",
   "execution_count": 4,
   "id": "f4c44fa5",
   "metadata": {},
   "outputs": [
    {
     "data": {
      "text/plain": [
       "tensor([0., 0.])"
      ]
     },
     "execution_count": 4,
     "metadata": {},
     "output_type": "execute_result"
    }
   ],
   "source": [
    "torch.zeros(2)"
   ]
  },
  {
   "cell_type": "code",
   "execution_count": 5,
   "id": "3fab3d04",
   "metadata": {},
   "outputs": [
    {
     "data": {
      "text/plain": [
       "tensor([[0.2517, 0.5661, 0.7375, 0.3230, 0.9748, 0.8757],\n",
       "        [0.7979, 0.3713, 0.2622, 0.1267, 0.1130, 0.1379],\n",
       "        [0.3968, 0.9448, 0.2126, 0.6750, 0.1084, 0.4998],\n",
       "        [0.7790, 0.4560, 0.1753, 0.9980, 0.0938, 0.0932],\n",
       "        [0.5654, 0.1027, 0.5143, 0.2778, 0.4172, 0.9195]])"
      ]
     },
     "execution_count": 5,
     "metadata": {},
     "output_type": "execute_result"
    }
   ],
   "source": [
    "torch.rand(5,6)"
   ]
  },
  {
   "cell_type": "markdown",
   "id": "45973847",
   "metadata": {},
   "source": [
    "### 리스트, 넘파이 배열을 텐서로 만들기\n",
    "torch.tensor()을 통해 텐서로 변환이 가능하다. torch.FloatTensor(), torch.LongTensor()와 같이 구체적인 텐서 타입을 정의할 수 있다."
   ]
  },
  {
   "cell_type": "code",
   "execution_count": 8,
   "id": "ec0a8e65",
   "metadata": {},
   "outputs": [
    {
     "name": "stdout",
     "output_type": "stream",
     "text": [
      "tensor([13,  4])\n",
      "tensor([ 4, 56,  7], dtype=torch.int32)\n"
     ]
    }
   ],
   "source": [
    "I = [13,4]\n",
    "r = np.array([4,56,7])\n",
    "print(torch.tensor(I))\n",
    "print(torch.tensor(r))"
   ]
  },
  {
   "cell_type": "markdown",
   "id": "ae4d5a98",
   "metadata": {},
   "source": [
    "### 텐서의 크기, 타입 연산\n",
    ".size()는 텐서의 크기를 확인할 수 있으며 자주 사용된다. x.size()는 x텐서의 크기이므로 torch.Size([5,4])로 추력된다. 따라서 x.size()[1]는 4를 출력한다. 혹은 x.size(1)로도 표현이 가능하다."
   ]
  },
  {
   "cell_type": "code",
   "execution_count": 9,
   "id": "d89d7022",
   "metadata": {},
   "outputs": [
    {
     "data": {
      "text/plain": [
       "4"
      ]
     },
     "execution_count": 9,
     "metadata": {},
     "output_type": "execute_result"
    }
   ],
   "source": [
    "x.size()[1]"
   ]
  },
  {
   "cell_type": "code",
   "execution_count": 10,
   "id": "07e377dc",
   "metadata": {},
   "outputs": [
    {
     "data": {
      "text/plain": [
       "torch.Tensor"
      ]
     },
     "execution_count": 10,
     "metadata": {},
     "output_type": "execute_result"
    }
   ],
   "source": [
    "type(x)"
   ]
  },
  {
   "cell_type": "code",
   "execution_count": 11,
   "id": "681faf2e",
   "metadata": {},
   "outputs": [],
   "source": [
    "x = torch.rand(2,2) # 2 x 2 랜덤 행렬\n",
    "y = torch.rand(2,2)"
   ]
  },
  {
   "cell_type": "code",
   "execution_count": 13,
   "id": "84f5c416",
   "metadata": {},
   "outputs": [
    {
     "name": "stdout",
     "output_type": "stream",
     "text": [
      "tensor([[1.5314, 1.1827],\n",
      "        [1.4164, 0.5631]])\n",
      "tensor([[1.5314, 1.1827],\n",
      "        [1.4164, 0.5631]])\n"
     ]
    }
   ],
   "source": [
    "print(torch.add(x,y)) # x+y\n",
    "print(y.add(x)) # y에 x를 더한다."
   ]
  },
  {
   "cell_type": "code",
   "execution_count": 14,
   "id": "fcc16b64",
   "metadata": {},
   "outputs": [
    {
     "data": {
      "text/plain": [
       "tensor([[1.5314, 1.1827],\n",
       "        [1.4164, 0.5631]])"
      ]
     },
     "execution_count": 14,
     "metadata": {},
     "output_type": "execute_result"
    }
   ],
   "source": [
    "y.add_(x) # y에 x를 더하여 y를 갱신한다."
   ]
  },
  {
   "cell_type": "markdown",
   "id": "710b011a",
   "metadata": {},
   "source": [
    "기존의 값을 덮어 씌우는 방식을 인플레이스 방식이라 한다.\n",
    "\n",
    "### 텐서의 크기 변환"
   ]
  },
  {
   "cell_type": "code",
   "execution_count": 15,
   "id": "07677161",
   "metadata": {},
   "outputs": [
    {
     "name": "stdout",
     "output_type": "stream",
     "text": [
      "torch.Size([8, 8])\n"
     ]
    }
   ],
   "source": [
    "x = torch.rand(8,8)\n",
    "print(x.size())"
   ]
  },
  {
   "cell_type": "code",
   "execution_count": 16,
   "id": "53706d23",
   "metadata": {},
   "outputs": [
    {
     "name": "stdout",
     "output_type": "stream",
     "text": [
      "torch.Size([64])\n"
     ]
    }
   ],
   "source": [
    "a = x.view(64) # 크기를 바꿔줌 8x8 -> 64\n",
    "print(a.size())"
   ]
  },
  {
   "cell_type": "code",
   "execution_count": 17,
   "id": "ea49a8c6",
   "metadata": {},
   "outputs": [
    {
     "name": "stdout",
     "output_type": "stream",
     "text": [
      "torch.Size([4, 4, 4])\n"
     ]
    }
   ],
   "source": [
    "b = x.view(-1,4,4)\n",
    "print(b.size())"
   ]
  },
  {
   "cell_type": "code",
   "execution_count": 18,
   "id": "6b4ab202",
   "metadata": {},
   "outputs": [
    {
     "data": {
      "text/plain": [
       "torch.Size([4, 4, 4])"
      ]
     },
     "execution_count": 18,
     "metadata": {},
     "output_type": "execute_result"
    }
   ],
   "source": [
    "torch.Size([4,4,4])"
   ]
  },
  {
   "cell_type": "markdown",
   "id": "2b5992f1",
   "metadata": {},
   "source": [
    "view는 텐서 크기를 바꿔주는 함수이다 8x8 2차원에서 64 한줄로 변경  \n",
    "-1은 원래 크기가 되게 하는 값으로 전체 성분이 64개가 되게 하는 4x4x4 배열을 만들어야 한다. -1은 4로 자동으로 할당됨"
   ]
  },
  {
   "cell_type": "code",
   "execution_count": 20,
   "id": "441659fe",
   "metadata": {},
   "outputs": [
    {
     "data": {
      "text/plain": [
       "numpy.ndarray"
      ]
     },
     "execution_count": 20,
     "metadata": {},
     "output_type": "execute_result"
    }
   ],
   "source": [
    "x = torch.rand(8,8)\n",
    "y = x.numpy()\n",
    "type(y)"
   ]
  },
  {
   "cell_type": "markdown",
   "id": "b6f1cf4e",
   "metadata": {},
   "source": [
    "x = torch.ones(1)\n",
    "print(x.item())"
   ]
  },
  {
   "cell_type": "code",
   "execution_count": null,
   "id": "dca38ea4",
   "metadata": {},
   "outputs": [],
   "source": []
  }
 ],
 "metadata": {
  "kernelspec": {
   "display_name": "Python 3 (ipykernel)",
   "language": "python",
   "name": "python3"
  },
  "language_info": {
   "codemirror_mode": {
    "name": "ipython",
    "version": 3
   },
   "file_extension": ".py",
   "mimetype": "text/x-python",
   "name": "python",
   "nbconvert_exporter": "python",
   "pygments_lexer": "ipython3",
   "version": "3.9.12"
  }
 },
 "nbformat": 4,
 "nbformat_minor": 5
}
