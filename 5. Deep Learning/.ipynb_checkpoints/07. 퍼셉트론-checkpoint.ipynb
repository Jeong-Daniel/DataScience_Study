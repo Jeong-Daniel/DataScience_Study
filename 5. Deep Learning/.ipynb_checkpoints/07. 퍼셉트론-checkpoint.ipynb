{
 "cells": [
  {
   "cell_type": "code",
   "execution_count": 1,
   "id": "7e4379ca",
   "metadata": {},
   "outputs": [],
   "source": [
    "import numpy as np"
   ]
  },
  {
   "cell_type": "code",
   "execution_count": 2,
   "id": "c95d9a15",
   "metadata": {},
   "outputs": [],
   "source": [
    "w11 = np.array([-2,2])\n",
    "w12 = np.array([2,2])\n",
    "w2 = np.array([1,1])\n",
    "b1 = 3\n",
    "b2 = -1\n",
    "b3 = -1"
   ]
  },
  {
   "cell_type": "code",
   "execution_count": 3,
   "id": "bd6a7f5b",
   "metadata": {},
   "outputs": [],
   "source": [
    "def MLP(x,w,b):\n",
    "    y = np.sum(w*x)+b\n",
    "    if y<= 0:\n",
    "        return 0\n",
    "    else:\n",
    "        return 1"
   ]
  },
  {
   "cell_type": "code",
   "execution_count": null,
   "id": "484660ca",
   "metadata": {},
   "outputs": [],
   "source": [
    "def ND(x1,x2):\n",
    "    return MLP(np.array([x1,x2]), w11, b1)"
   ]
  }
 ],
 "metadata": {
  "kernelspec": {
   "display_name": "Python 3 (ipykernel)",
   "language": "python",
   "name": "python3"
  },
  "language_info": {
   "codemirror_mode": {
    "name": "ipython",
    "version": 3
   },
   "file_extension": ".py",
   "mimetype": "text/x-python",
   "name": "python",
   "nbconvert_exporter": "python",
   "pygments_lexer": "ipython3",
   "version": "3.7.13"
  }
 },
 "nbformat": 4,
 "nbformat_minor": 5
}
