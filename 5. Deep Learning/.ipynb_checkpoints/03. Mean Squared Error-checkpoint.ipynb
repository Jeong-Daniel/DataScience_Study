{
 "cells": [
  {
   "cell_type": "markdown",
   "id": "13ad7cea",
   "metadata": {},
   "source": [
    "에러(error) = 정답(y) - 예측함수(y_hat)  \n",
    "정답 = 예측함수 - 에러   "
   ]
  },
  {
   "cell_type": "code",
   "execution_count": 1,
   "id": "e1283fb3",
   "metadata": {},
   "outputs": [],
   "source": [
    "import numpy as np\n",
    "fake_a_b = [3, 76]\n",
    "\n",
    "data = [[2,8],[4,93],[6,91],[8,97]]\n",
    "x=[i[0] for i in data]\n",
    "y=[i[1] for i in data]"
   ]
  },
  {
   "cell_type": "code",
   "execution_count": 3,
   "id": "3376592f",
   "metadata": {},
   "outputs": [],
   "source": [
    "def predict(x):\n",
    "    return fake_a_b[0]*x + fake_a_b[1]"
   ]
  },
  {
   "cell_type": "code",
   "execution_count": 4,
   "id": "a2c60a87",
   "metadata": {},
   "outputs": [
    {
     "data": {
      "text/plain": [
       "100"
      ]
     },
     "execution_count": 4,
     "metadata": {},
     "output_type": "execute_result"
    }
   ],
   "source": [
    "predict(8)"
   ]
  },
  {
   "cell_type": "code",
   "execution_count": 5,
   "id": "2f5e301d",
   "metadata": {},
   "outputs": [],
   "source": [
    "n = len(x)\n",
    "def mse(y, y_pred):\n",
    "    return (1/n)*sum((y-y_pred)**2)"
   ]
  },
  {
   "cell_type": "code",
   "execution_count": 7,
   "id": "8d88f2d4",
   "metadata": {},
   "outputs": [
    {
     "name": "stdout",
     "output_type": "stream",
     "text": [
      "공부시간 2 실제점수 8 예측점수 82\n",
      "공부시간 4 실제점수 93 예측점수 88\n",
      "공부시간 6 실제점수 91 예측점수 94\n",
      "공부시간 8 실제점수 97 예측점수 100\n"
     ]
    }
   ],
   "source": [
    "predict_result=[]\n",
    "for i in range(len(x)):\n",
    "    predict_result.append(predict(x[i]))\n",
    "    print(\"공부시간 %.f 실제점수 %.f 예측점수 %.f\" %(x[i],y[i], predict(x[i])))"
   ]
  },
  {
   "cell_type": "code",
   "execution_count": 8,
   "id": "de39b6e2",
   "metadata": {},
   "outputs": [
    {
     "data": {
      "text/plain": [
       "1379.75"
      ]
     },
     "execution_count": 8,
     "metadata": {},
     "output_type": "execute_result"
    }
   ],
   "source": [
    "mse(np.array(y), np.array(predict_result))"
   ]
  },
  {
   "cell_type": "code",
   "execution_count": null,
   "id": "328903cc",
   "metadata": {},
   "outputs": [],
   "source": []
  }
 ],
 "metadata": {
  "kernelspec": {
   "display_name": "Python 3 (ipykernel)",
   "language": "python",
   "name": "python3"
  },
  "language_info": {
   "codemirror_mode": {
    "name": "ipython",
    "version": 3
   },
   "file_extension": ".py",
   "mimetype": "text/x-python",
   "name": "python",
   "nbconvert_exporter": "python",
   "pygments_lexer": "ipython3",
   "version": "3.7.13"
  }
 },
 "nbformat": 4,
 "nbformat_minor": 5
}
