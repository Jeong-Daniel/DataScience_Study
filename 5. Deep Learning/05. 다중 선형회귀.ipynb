{
 "cells": [
  {
   "cell_type": "code",
   "execution_count": 1,
   "id": "8c02c6f4",
   "metadata": {},
   "outputs": [],
   "source": [
    "import numpy as np\n",
    "import pandas as pd\n",
    "import matplotlib.pyplot as plt\n",
    "from mpl_toolkits import mplot3d\n",
    "\n",
    "data = [[2,0,8],[4,4,93],[6,2,91],[8,3,97]]\n",
    "x1=[i[0] for i in data]\n",
    "x2=[i[1] for i in data]\n",
    "y=[i[2] for i in data]"
   ]
  },
  {
   "cell_type": "code",
   "execution_count": null,
   "id": "313dbced",
   "metadata": {},
   "outputs": [],
   "source": []
  }
 ],
 "metadata": {
  "kernelspec": {
   "display_name": "Python 3 (ipykernel)",
   "language": "python",
   "name": "python3"
  },
  "language_info": {
   "codemirror_mode": {
    "name": "ipython",
    "version": 3
   },
   "file_extension": ".py",
   "mimetype": "text/x-python",
   "name": "python",
   "nbconvert_exporter": "python",
   "pygments_lexer": "ipython3",
   "version": "3.7.13"
  }
 },
 "nbformat": 4,
 "nbformat_minor": 5
}
