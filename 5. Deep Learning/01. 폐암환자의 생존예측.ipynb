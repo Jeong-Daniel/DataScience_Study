{
 "cells": [
  {
   "cell_type": "markdown",
   "id": "1adeee67",
   "metadata": {},
   "source": [
    "### 1. 환경준비\n",
    "텐서플로우의 케라스 API에서 필요한 함수를 불러옵니다.  \n",
    "데이터를 다루는데 필요한 라이브러리를 불러옵니다.  "
   ]
  },
  {
   "cell_type": "code",
   "execution_count": 89,
   "id": "7a57acf8",
   "metadata": {},
   "outputs": [],
   "source": [
    "# Load the TensorBoard notebook extension\n",
    "%load_ext tensorboard"
   ]
  },
  {
   "cell_type": "code",
   "execution_count": 71,
   "id": "98d581d0",
   "metadata": {},
   "outputs": [],
   "source": [
    "from tensorflow.keras.models import Sequential\n",
    "from tensorflow.keras.layers import Dense"
   ]
  },
  {
   "cell_type": "code",
   "execution_count": 72,
   "id": "c9d5868f",
   "metadata": {},
   "outputs": [],
   "source": [
    "import numpy as np\n",
    "import tensorflow as tf"
   ]
  },
  {
   "cell_type": "markdown",
   "id": "3df6d7ec",
   "metadata": {},
   "source": [
    "### 2. 데이터준비\n",
    "수술 환자 데이터를 불러옵니다.    \n",
    "환자의 진찰 기록을 X로 시작  \n",
    "수술화 사망/생존 여부를 y로 지정  "
   ]
  },
  {
   "cell_type": "code",
   "execution_count": 73,
   "id": "81a2e37d",
   "metadata": {},
   "outputs": [],
   "source": [
    "Data_set = np.loadtxt(\"ThoraricSurgery.csv\", delimiter=\",\")"
   ]
  },
  {
   "cell_type": "code",
   "execution_count": 74,
   "id": "67359947",
   "metadata": {},
   "outputs": [
    {
     "data": {
      "text/plain": [
       "array([[293.  ,   1.  ,   3.8 , ...,   0.  ,  62.  ,   0.  ],\n",
       "       [  1.  ,   2.  ,   2.88, ...,   0.  ,  60.  ,   0.  ],\n",
       "       [  8.  ,   2.  ,   3.19, ...,   0.  ,  66.  ,   1.  ],\n",
       "       ...,\n",
       "       [406.  ,   6.  ,   5.36, ...,   0.  ,  62.  ,   0.  ],\n",
       "       [ 25.  ,   8.  ,   4.32, ...,   0.  ,  58.  ,   1.  ],\n",
       "       [447.  ,   8.  ,   5.2 , ...,   0.  ,  49.  ,   0.  ]])"
      ]
     },
     "execution_count": 74,
     "metadata": {},
     "output_type": "execute_result"
    }
   ],
   "source": [
    "Data_set"
   ]
  },
  {
   "cell_type": "code",
   "execution_count": 75,
   "id": "92acb89c",
   "metadata": {
    "scrolled": true
   },
   "outputs": [
    {
     "data": {
      "text/plain": [
       "(470, 18)"
      ]
     },
     "execution_count": 75,
     "metadata": {},
     "output_type": "execute_result"
    }
   ],
   "source": [
    "Data_set.shape"
   ]
  },
  {
   "cell_type": "code",
   "execution_count": 76,
   "id": "d7d17591",
   "metadata": {},
   "outputs": [],
   "source": [
    "X = Data_set[:,0:17]\n",
    "y = Data_set[:,17]"
   ]
  },
  {
   "cell_type": "code",
   "execution_count": 77,
   "id": "0704e500",
   "metadata": {
    "scrolled": true
   },
   "outputs": [
    {
     "data": {
      "text/plain": [
       "(470, 17)"
      ]
     },
     "execution_count": 77,
     "metadata": {},
     "output_type": "execute_result"
    }
   ],
   "source": [
    "X.shape"
   ]
  },
  {
   "cell_type": "code",
   "execution_count": 78,
   "id": "ad7bd489",
   "metadata": {},
   "outputs": [
    {
     "data": {
      "text/plain": [
       "(470,)"
      ]
     },
     "execution_count": 78,
     "metadata": {},
     "output_type": "execute_result"
    }
   ],
   "source": [
    "y.shape"
   ]
  },
  {
   "cell_type": "markdown",
   "id": "ed9a8313",
   "metadata": {},
   "source": [
    "### 3. 구조 결정"
   ]
  },
  {
   "cell_type": "code",
   "execution_count": 79,
   "id": "6539e21a",
   "metadata": {},
   "outputs": [],
   "source": [
    "model = Sequential()\n",
    "model.add(Dense(30, input_dim=17, activation='relu'))\n",
    "model.add(Dense(1,activation='sigmoid'))"
   ]
  },
  {
   "cell_type": "code",
   "execution_count": 80,
   "id": "0a64e989",
   "metadata": {
    "scrolled": false
   },
   "outputs": [
    {
     "name": "stdout",
     "output_type": "stream",
     "text": [
      "Help on method compile in module tensorflow.python.keras.engine.training:\n",
      "\n",
      "compile(optimizer='rmsprop', loss=None, metrics=None, loss_weights=None, weighted_metrics=None, run_eagerly=None, **kwargs) method of tensorflow.python.keras.engine.sequential.Sequential instance\n",
      "    Configures the model for training.\n",
      "    \n",
      "    Arguments:\n",
      "        optimizer: String (name of optimizer) or optimizer instance. See\n",
      "          `tf.keras.optimizers`.\n",
      "        loss: String (name of objective function), objective function or\n",
      "          `tf.keras.losses.Loss` instance. See `tf.keras.losses`. An objective\n",
      "          function is any callable with the signature `loss = fn(y_true,\n",
      "          y_pred)`, where y_true = ground truth values with shape =\n",
      "          `[batch_size, d0, .. dN]`, except sparse loss functions such as sparse\n",
      "          categorical crossentropy where shape = `[batch_size, d0, .. dN-1]`.\n",
      "          y_pred = predicted values with shape = `[batch_size, d0, .. dN]`. It\n",
      "          returns a weighted loss float tensor. If a custom `Loss` instance is\n",
      "          used and reduction is set to NONE, return value has the shape\n",
      "          [batch_size, d0, .. dN-1] ie. per-sample or per-timestep loss values;\n",
      "          otherwise, it is a scalar. If the model has multiple outputs, you can\n",
      "          use a different loss on each output by passing a dictionary or a list\n",
      "          of losses. The loss value that will be minimized by the model will\n",
      "          then be the sum of all individual losses.\n",
      "        metrics: List of metrics to be evaluated by the model during training\n",
      "          and testing. Each of this can be a string (name of a built-in\n",
      "          function), function or a `tf.keras.metrics.Metric` instance. See\n",
      "          `tf.keras.metrics`. Typically you will use `metrics=['accuracy']`. A\n",
      "          function is any callable with the signature `result = fn(y_true,\n",
      "          y_pred)`. To specify different metrics for different outputs of a\n",
      "          multi-output model, you could also pass a dictionary, such as\n",
      "            `metrics={'output_a': 'accuracy', 'output_b': ['accuracy', 'mse']}`.\n",
      "              You can also pass a list (len = len(outputs)) of lists of metrics\n",
      "              such as `metrics=[['accuracy'], ['accuracy', 'mse']]` or\n",
      "              `metrics=['accuracy', ['accuracy', 'mse']]`. When you pass the\n",
      "              strings 'accuracy' or 'acc', we convert this to one of\n",
      "              `tf.keras.metrics.BinaryAccuracy`,\n",
      "              `tf.keras.metrics.CategoricalAccuracy`,\n",
      "              `tf.keras.metrics.SparseCategoricalAccuracy` based on the loss\n",
      "              function used and the model output shape. We do a similar\n",
      "              conversion for the strings 'crossentropy' and 'ce' as well.\n",
      "        loss_weights: Optional list or dictionary specifying scalar coefficients\n",
      "          (Python floats) to weight the loss contributions of different model\n",
      "          outputs. The loss value that will be minimized by the model will then\n",
      "          be the *weighted sum* of all individual losses, weighted by the\n",
      "          `loss_weights` coefficients.\n",
      "            If a list, it is expected to have a 1:1 mapping to the model's\n",
      "              outputs. If a dict, it is expected to map output names (strings)\n",
      "              to scalar coefficients.\n",
      "        weighted_metrics: List of metrics to be evaluated and weighted by\n",
      "          sample_weight or class_weight during training and testing.\n",
      "        run_eagerly: Bool. Defaults to `False`. If `True`, this `Model`'s\n",
      "          logic will not be wrapped in a `tf.function`. Recommended to leave\n",
      "          this as `None` unless your `Model` cannot be run inside a\n",
      "          `tf.function`.\n",
      "        **kwargs: Any additional arguments. Supported arguments:\n",
      "            - `experimental_steps_per_execution`: Int. The number of batches to\n",
      "              run during each `tf.function` call. Running multiple batches\n",
      "              inside a single `tf.function` call can greatly improve performance\n",
      "              on TPUs or small models with a large Python overhead. Note that if\n",
      "              this value is set to `N`, `Callback.on_batch` methods will only be\n",
      "              called every `N` batches. This currently defaults to `1`. At most,\n",
      "              one full epoch will be run each execution. If a number larger than\n",
      "              the size of the epoch is passed, the execution will be truncated\n",
      "              to the size of the epoch.\n",
      "            - `sample_weight_mode` for backward compatibility.\n",
      "    \n",
      "    Raises:\n",
      "        ValueError: In case of invalid arguments for\n",
      "            `optimizer`, `loss` or `metrics`.\n",
      "\n"
     ]
    }
   ],
   "source": [
    "help(model.compile)"
   ]
  },
  {
   "cell_type": "code",
   "execution_count": 90,
   "id": "f7ec4047",
   "metadata": {},
   "outputs": [],
   "source": [
    "tensorboard_callback = tf.keras.callbacks.TensorBoard(histogram_freq=1)"
   ]
  },
  {
   "cell_type": "markdown",
   "id": "d12cba42",
   "metadata": {},
   "source": [
    "### 4. 모델 실행"
   ]
  },
  {
   "cell_type": "code",
   "execution_count": 91,
   "id": "ab14071a",
   "metadata": {
    "scrolled": false
   },
   "outputs": [
    {
     "name": "stdout",
     "output_type": "stream",
     "text": [
      "Epoch 1/10\n",
      " 1/30 [>.............................] - ETA: 0s - loss: 0.3465 - accuracy: 0.8750WARNING:tensorflow:From C:\\Users\\PNU\\.conda\\envs\\DeepLearning\\lib\\site-packages\\tensorflow\\python\\ops\\summary_ops_v2.py:1277: stop (from tensorflow.python.eager.profiler) is deprecated and will be removed after 2020-07-01.\n",
      "Instructions for updating:\n",
      "use `tf.profiler.experimental.stop` instead.\n",
      " 2/30 [=>............................] - ETA: 0s - loss: 0.2870 - accuracy: 0.9062WARNING:tensorflow:Callbacks method `on_train_batch_end` is slow compared to the batch time (batch time: 0.0020s vs `on_train_batch_end` time: 0.0529s). Check your callbacks.\n",
      "30/30 [==============================] - 0s 4ms/step - loss: 0.3819 - accuracy: 0.8638\n",
      "Epoch 2/10\n",
      "30/30 [==============================] - 0s 1ms/step - loss: 0.3747 - accuracy: 0.8638\n",
      "Epoch 3/10\n",
      "30/30 [==============================] - 0s 5ms/step - loss: 0.3767 - accuracy: 0.8553\n",
      "Epoch 4/10\n",
      "30/30 [==============================] - 0s 3ms/step - loss: 0.3812 - accuracy: 0.8596\n",
      "Epoch 5/10\n",
      "30/30 [==============================] - 0s 1ms/step - loss: 0.3914 - accuracy: 0.8574\n",
      "Epoch 6/10\n",
      "30/30 [==============================] - 0s 1ms/step - loss: 0.3561 - accuracy: 0.8617\n",
      "Epoch 7/10\n",
      "30/30 [==============================] - 0s 1ms/step - loss: 0.3669 - accuracy: 0.8638\n",
      "Epoch 8/10\n",
      "30/30 [==============================] - 0s 1ms/step - loss: 0.3587 - accuracy: 0.8638\n",
      "Epoch 9/10\n",
      "30/30 [==============================] - 0s 1ms/step - loss: 0.3641 - accuracy: 0.8638\n",
      "Epoch 10/10\n",
      "30/30 [==============================] - 0s 1ms/step - loss: 0.3646 - accuracy: 0.8596\n"
     ]
    }
   ],
   "source": [
    "model.compile(loss='binary_crossentropy', optimizer='adam', metrics=['accuracy'])\n",
    "history = model.fit(X,y, epochs=10, batch_size=16, callbacks=[tensorboard_callback])"
   ]
  },
  {
   "cell_type": "code",
   "execution_count": null,
   "id": "e48c3dc3",
   "metadata": {},
   "outputs": [],
   "source": []
  }
 ],
 "metadata": {
  "kernelspec": {
   "display_name": "Python 3 (ipykernel)",
   "language": "python",
   "name": "python3"
  },
  "language_info": {
   "codemirror_mode": {
    "name": "ipython",
    "version": 3
   },
   "file_extension": ".py",
   "mimetype": "text/x-python",
   "name": "python",
   "nbconvert_exporter": "python",
   "pygments_lexer": "ipython3",
   "version": "3.7.13"
  }
 },
 "nbformat": 4,
 "nbformat_minor": 5
}
