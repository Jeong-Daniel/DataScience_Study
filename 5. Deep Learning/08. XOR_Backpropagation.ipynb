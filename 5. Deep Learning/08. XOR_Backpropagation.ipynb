{
 "cells": [
  {
   "cell_type": "code",
   "execution_count": 1,
   "id": "df29826d",
   "metadata": {},
   "outputs": [],
   "source": [
    "import random\n",
    "import pandas\n",
    "import numpy"
   ]
  },
  {
   "cell_type": "code",
   "execution_count": 2,
   "id": "4ef7f61d",
   "metadata": {},
   "outputs": [],
   "source": [
    "random.seed(777)"
   ]
  },
  {
   "cell_type": "code",
   "execution_count": 4,
   "id": "44bb3fe4",
   "metadata": {},
   "outputs": [],
   "source": [
    "data = [\n",
    "    [[0,0],[0]],\n",
    "    [[0,1],[1]],\n",
    "    [[1,0],[1]],\n",
    "    [[1,1],[0]]\n",
    "]"
   ]
  },
  {
   "cell_type": "code",
   "execution_count": 5,
   "id": "0a4afb3d",
   "metadata": {},
   "outputs": [],
   "source": [
    "def sigmoid(x, derivative=False):\n",
    "    if(derivative == True):\n",
    "        return x * (1-x)\n",
    "    return 1/(1+np.exp(-x))"
   ]
  },
  {
   "cell_type": "code",
   "execution_count": 6,
   "id": "feb4305f",
   "metadata": {},
   "outputs": [],
   "source": [
    "def tanh(x,derivative=False):\n",
    "    if(derivative==True):\n",
    "        return 1-x**2\n",
    "    return np.tanh(x)"
   ]
  },
  {
   "cell_type": "code",
   "execution_count": 7,
   "id": "f625a2db",
   "metadata": {},
   "outputs": [],
   "source": [
    "def makeMatrix(i,j,fill=0.0):\n",
    "    mat = []\n",
    "    for i in range(i):\n",
    "        mat.append([fill]*j)\n",
    "    return mat"
   ]
  },
  {
   "cell_type": "code",
   "execution_count": 9,
   "id": "b042ddb6",
   "metadata": {},
   "outputs": [],
   "source": [
    "class NeuralNetwork:\n",
    "    def __init__(self, numx, num_yh, num_yo, bias=1):\n",
    "        self.num_x = num_x + bias\n",
    "        self.num_yh = num_yh\n",
    "        self.num_yo = num_yo\n",
    "        \n",
    "        self.activation_input = [1.0] * self.num_x\n",
    "        self.activation_hidden = [1.0] * self.num_yh\n",
    "        self.activation_out = [1.0]* self.num_yo"
   ]
  },
  {
   "cell_type": "code",
   "execution_count": null,
   "id": "a9e98849",
   "metadata": {},
   "outputs": [],
   "source": []
  }
 ],
 "metadata": {
  "kernelspec": {
   "display_name": "Python 3 (ipykernel)",
   "language": "python",
   "name": "python3"
  },
  "language_info": {
   "codemirror_mode": {
    "name": "ipython",
    "version": 3
   },
   "file_extension": ".py",
   "mimetype": "text/x-python",
   "name": "python",
   "nbconvert_exporter": "python",
   "pygments_lexer": "ipython3",
   "version": "3.10.4"
  }
 },
 "nbformat": 4,
 "nbformat_minor": 5
}
