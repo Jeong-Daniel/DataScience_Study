{
 "cells": [
  {
   "cell_type": "code",
   "execution_count": 1,
   "id": "1fe2810a",
   "metadata": {},
   "outputs": [],
   "source": [
    "import numpy as np\n",
    "import pandas as pd\n",
    "import matplotlib.pyplot as plt\n",
    "from mpl_toolkits import mplot3d\n",
    "\n",
    "data = [[2,0],[4,0],[6,0],[8,1],[10,1],[12,1],[14,1]]\n",
    "x=[i[0] for i in data]\n",
    "y=[i[1] for i in data]"
   ]
  },
  {
   "cell_type": "code",
   "execution_count": 2,
   "id": "61a7a3a9",
   "metadata": {},
   "outputs": [
    {
     "data": {
      "text/plain": [
       "<matplotlib.collections.PathCollection at 0x22296a22cc8>"
      ]
     },
     "execution_count": 2,
     "metadata": {},
     "output_type": "execute_result"
    },
    {
     "data": {
      "image/png": "[encoded data removed]",
      "text/plain": [
       "<Figure size 432x288 with 1 Axes>"
      ]
     },
     "metadata": {
      "needs_background": "light"
     },
     "output_type": "display_data"
    }
   ],
   "source": []
  },
  {
   "cell_type": "code",
   "execution_count": 6,
   "id": "d2ae3401",
   "metadata": {},
   "outputs": [],
   "source": [
    "def sigmoid(x):\n",
    "    return 1/(1+(np.e**(-x)))"
   ]
  },
  {
   "cell_type": "code",
   "execution_count": 14,
   "id": "2293d746",
   "metadata": {},
   "outputs": [
    {
     "name": "stdout",
     "output_type": "stream",
     "text": [
      "반복수 0 기울기 0.1853 절편 0.0027\n",
      "반복수 1000 기울기 0.9956 절편 -6.5184\n"
     ]
    }
   ],
   "source": [
    "a = 0\n",
    "b = 0\n",
    "lr = 0.02\n",
    "for i in range(2000):\n",
    "    for x_data,y_data in data:\n",
    "        a_diff = x_data*(sigmoid(a*x_data+b)-y_data)\n",
    "        b_diff = sigmoid(a*x_data+b) - y_data\n",
    "        a = a-lr*a_diff\n",
    "        b = b-lr*b_diff\n",
    "    if i%1000 == 0:\n",
    "        print(\"반복수 %.f 기울기 %.4f 절편 %.04f\" %(i,a,b))"
   ]
  },
  {
   "cell_type": "code",
   "execution_count": 15,
   "id": "c9e222ff",
   "metadata": {},
   "outputs": [
    {
     "data": {
      "text/plain": [
       "[<matplotlib.lines.Line2D at 0x2229812ab08>]"
      ]
     },
     "execution_count": 15,
     "metadata": {},
     "output_type": "execute_result"
    },
    {
     "data": {
      "image/png": "[encoded data removed]",
      "text/plain": [
       "<Figure size 432x288 with 1 Axes>"
      ]
     },
     "metadata": {
      "needs_background": "light"
     },
     "output_type": "display_data"
    }
   ],
   "source": [
    "plt.scatter(x,y)\n",
    "x_range=(np.arange(0,15,0.1))\n",
    "plt.plot(x_range, np.array([sigmoid(a*x+b) for x in x_range]))"
   ]
  },
  {
   "cell_type": "code",
   "execution_count": null,
   "id": "2d6b1fa9",
   "metadata": {},
   "outputs": [],
   "source": []
  }
 ],
 "metadata": {
  "kernelspec": {
   "display_name": "Python 3 (ipykernel)",
   "language": "python",
   "name": "python3"
  },
  "language_info": {
   "codemirror_mode": {
    "name": "ipython",
    "version": 3
   },
   "file_extension": ".py",
   "mimetype": "text/x-python",
   "name": "python",
   "nbconvert_exporter": "python",
   "pygments_lexer": "ipython3",
   "version": "3.7.13"
  }
 },
 "nbformat": 4,
 "nbformat_minor": 5
}
