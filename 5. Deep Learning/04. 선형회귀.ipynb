{
 "cells": [
  {
   "cell_type": "code",
   "execution_count": 16,
   "id": "1116f304",
   "metadata": {},
   "outputs": [],
   "source": [
    "import numpy as np\n",
    "import pandas as pd\n",
    "import matplotlib.pyplot as plt"
   ]
  },
  {
   "cell_type": "code",
   "execution_count": 17,
   "id": "3147924e",
   "metadata": {},
   "outputs": [],
   "source": [
    "data = [[2,8],[4,93],[6,91],[8,97]]\n",
    "x=[i[0] for i in data]\n",
    "y=[i[1] for i in data]"
   ]
  },
  {
   "cell_type": "code",
   "execution_count": 18,
   "id": "48525d9e",
   "metadata": {},
   "outputs": [
    {
     "name": "stdout",
     "output_type": "stream",
     "text": [
      "반복수 0 기울기 25.6500 절편 4.3350\n",
      "반복수 100 기울기 13.4795 절편 4.6303\n",
      "반복수 200 기울기 13.3363 절편 5.4847\n",
      "반복수 300 기울기 13.2825 절편 5.8061\n",
      "반복수 400 기울기 13.2622 절편 5.9271\n",
      "반복수 500 기울기 13.2546 절편 5.9726\n",
      "반복수 600 기울기 13.2517 절편 5.9897\n",
      "반복수 700 기울기 13.2507 절편 5.9961\n",
      "반복수 800 기울기 13.2502 절편 5.9985\n",
      "반복수 900 기울기 13.2501 절편 5.9995\n",
      "반복수 1000 기울기 13.2500 절편 5.9998\n",
      "반복수 1100 기울기 13.2500 절편 5.9999\n",
      "반복수 1200 기울기 13.2500 절편 6.0000\n",
      "반복수 1300 기울기 13.2500 절편 6.0000\n",
      "반복수 1400 기울기 13.2500 절편 6.0000\n",
      "반복수 1500 기울기 13.2500 절편 6.0000\n",
      "반복수 1600 기울기 13.2500 절편 6.0000\n",
      "반복수 1700 기울기 13.2500 절편 6.0000\n",
      "반복수 1800 기울기 13.2500 절편 6.0000\n",
      "반복수 1900 기울기 13.2500 절편 6.0000\n"
     ]
    }
   ],
   "source": [
    "x_data=np.array(x)\n",
    "y_data=np.array(y)\n",
    "a=0\n",
    "b=0\n",
    "lr=0.03\n",
    "for i in range(2000):\n",
    "    y_hat = a*x_data+b\n",
    "    error = y_data-y_hat\n",
    "    a_diff = -(2/len(x_data)) * sum(x_data*error)\n",
    "    b_diff = -(2/len(x_data)) * sum(error)\n",
    "    a = a-a_diff*lr\n",
    "    b = b-b_diff*lr\n",
    "    if i%100==0:\n",
    "        print(\"반복수 %.f 기울기 %.4f 절편 %.04f\" %(i,a,b))"
   ]
  },
  {
   "cell_type": "code",
   "execution_count": null,
   "id": "3a33684c",
   "metadata": {},
   "outputs": [],
   "source": []
  }
 ],
 "metadata": {
  "kernelspec": {
   "display_name": "Python 3 (ipykernel)",
   "language": "python",
   "name": "python3"
  },
  "language_info": {
   "codemirror_mode": {
    "name": "ipython",
    "version": 3
   },
   "file_extension": ".py",
   "mimetype": "text/x-python",
   "name": "python",
   "nbconvert_exporter": "python",
   "pygments_lexer": "ipython3",
   "version": "3.7.13"
  }
 },
 "nbformat": 4,
 "nbformat_minor": 5
}
