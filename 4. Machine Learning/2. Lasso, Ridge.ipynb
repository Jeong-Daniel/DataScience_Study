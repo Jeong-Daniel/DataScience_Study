{
 "cells": [
  {
   "cell_type": "markdown",
   "id": "6b32cf9e",
   "metadata": {},
   "source": [
    "### 라쏘, 릿지 구현"
   ]
  },
  {
   "cell_type": "code",
   "execution_count": 17,
   "id": "9803d233",
   "metadata": {},
   "outputs": [
    {
     "name": "stderr",
     "output_type": "stream",
     "text": [
      "C:\\ProgramData\\Anaconda3\\envs\\DataScience\\lib\\site-packages\\sklearn\\utils\\deprecation.py:87: FutureWarning: Function load_boston is deprecated; `load_boston` is deprecated in 1.0 and will be removed in 1.2.\n",
      "\n",
      "    The Boston housing prices dataset has an ethical problem. You can refer to\n",
      "    the documentation of this function for further details.\n",
      "\n",
      "    The scikit-learn maintainers therefore strongly discourage the use of this\n",
      "    dataset unless the purpose of the code is to study and educate about\n",
      "    ethical issues in data science and machine learning.\n",
      "\n",
      "    In this special case, you can fetch the dataset from the original\n",
      "    source::\n",
      "\n",
      "        import pandas as pd\n",
      "        import numpy as np\n",
      "\n",
      "\n",
      "        data_url = \"http://lib.stat.cmu.edu/datasets/boston\"\n",
      "        raw_df = pd.read_csv(data_url, sep=\"\\s+\", skiprows=22, header=None)\n",
      "        data = np.hstack([raw_df.values[::2, :], raw_df.values[1::2, :2]])\n",
      "        target = raw_df.values[1::2, 2]\n",
      "\n",
      "    Alternative datasets include the California housing dataset (i.e.\n",
      "    :func:`~sklearn.datasets.fetch_california_housing`) and the Ames housing\n",
      "    dataset. You can load the datasets as follows::\n",
      "\n",
      "        from sklearn.datasets import fetch_california_housing\n",
      "        housing = fetch_california_housing()\n",
      "\n",
      "    for the California housing dataset and::\n",
      "\n",
      "        from sklearn.datasets import fetch_openml\n",
      "        housing = fetch_openml(name=\"house_prices\", as_frame=True)\n",
      "\n",
      "    for the Ames housing dataset.\n",
      "    \n",
      "  warnings.warn(msg, category=FutureWarning)\n"
     ]
    },
    {
     "name": "stdout",
     "output_type": "stream",
     "text": [
      "Ridege 회귀의 beta_i\n",
      " NOX       -2.371619\n",
      "DIS       -1.248808\n",
      "PTRATIO   -0.797945\n",
      "LSTAT     -0.559366\n",
      "CRIM      -0.101435\n",
      "INDUS     -0.042962\n",
      "TAX       -0.013993\n",
      "AGE       -0.010707\n",
      "B          0.010037\n",
      "ZN         0.049579\n",
      "RAD        0.279596\n",
      "CHAS       1.952021\n",
      "RM         3.702272\n",
      "dtype: float64\n",
      "Lasso 회귀의 beta_i\n",
      " LSTAT     -0.564038\n",
      "TAX       -0.009282\n",
      "CRIM      -0.000000\n",
      "INDUS     -0.000000\n",
      "CHAS       0.000000\n",
      "NOX        0.000000\n",
      "RM         0.000000\n",
      "AGE        0.000000\n",
      "DIS       -0.000000\n",
      "RAD        0.000000\n",
      "PTRATIO   -0.000000\n",
      "B          0.007496\n",
      "ZN         0.026146\n",
      "dtype: float64\n"
     ]
    },
    {
     "data": {
      "image/png": "[encoded data removed]",
      "text/plain": [
       "<Figure size 432x288 with 1 Axes>"
      ]
     },
     "metadata": {
      "needs_background": "light"
     },
     "output_type": "display_data"
    },
    {
     "data": {
      "image/png": "[encoded data removed]",
      "text/plain": [
       "<Figure size 432x288 with 1 Axes>"
      ]
     },
     "metadata": {
      "needs_background": "light"
     },
     "output_type": "display_data"
    }
   ],
   "source": [
    "import matplotlib.pyplot as plt\n",
    "import pandas as pd\n",
    "import numpy as np\n",
    "\n",
    "from sklearn.linear_model import Ridge\n",
    "from sklearn.linear_model import Lasso\n",
    "\n",
    "from sklearn.datasets import load_boston\n",
    "\n",
    "def load_data():\n",
    "    X, y = load_boston(return_X_y=True)\n",
    "    feature_names = load_boston().feature_names\n",
    "    #print(\"X.shape : \", X.shape)\n",
    "    #print(\"y.shape : \", y.shape)\n",
    "    #print(\"feature_names : \", feature_names)\n",
    "    return X,y,feature_names\n",
    "\n",
    "def Ridge_regression(X,y):\n",
    "    ridge_reg = Ridge(alpha = 10)\n",
    "    ridge_reg.fit(X,y)\n",
    "    return ridge_reg\n",
    "    \n",
    "\n",
    "def Lasso_regression(X,y):\n",
    "    lasso_reg = Lasso(alpha = 10)\n",
    "    lasso_reg.fit(X,y)\n",
    "    return lasso_reg\n",
    "\n",
    "def plot_graph(coef,title):\n",
    "    fig = plt.figure()\n",
    "    plt.ylim(-1,1)\n",
    "    plt.title(title)\n",
    "    coef.plot(kind='bar')\n",
    "\n",
    "\n",
    "def main():\n",
    "    X,y,feature_names = load_data()\n",
    "    ridge_reg = Ridge_regression(X,y)\n",
    "    lasso_reg = Lasso_regression(X,y)\n",
    "    \n",
    "    ridge_coef = pd.Series(ridge_reg.coef_, feature_names).sort_values()\n",
    "    print(\"Ridege 회귀의 beta_i\\n\", ridge_coef)\n",
    "    lasso_coef = pd.Series(lasso_reg.coef_, feature_names).sort_values()\n",
    "    print(\"Lasso 회귀의 beta_i\\n\", lasso_coef)\n",
    "    #print(\"ridge_reg.coef_\",ridge_reg.coef_)\n",
    "    #print(\"ridge_reg.coef_\",ridge_reg.coef_)\n",
    "    \n",
    "    plot_graph(ridge_coef,'Ridge')\n",
    "    plot_graph(lasso_coef,'Lasso')\n",
    "    \n",
    "main()"
   ]
  },
  {
   "cell_type": "markdown",
   "id": "89e2a176",
   "metadata": {},
   "source": [
    "### Elastic net 구현"
   ]
  },
  {
   "cell_type": "code",
   "execution_count": 27,
   "id": "d3b5b757",
   "metadata": {},
   "outputs": [
    {
     "name": "stdout",
     "output_type": "stream",
     "text": [
      "ElasticNet 회귀의 평가 점수: 0.7529261038422002\n",
      "\n",
      "ElasticNet 회귀의 beta_i\n",
      " NOX       -12.156353\n",
      "DIS        -1.458449\n",
      "PTRATIO    -0.881076\n",
      "LSTAT      -0.490034\n",
      "CRIM       -0.079070\n",
      "INDUS      -0.021011\n",
      "TAX        -0.012515\n",
      "AGE        -0.012100\n",
      "B           0.009741\n",
      "ZN          0.048669\n",
      "RAD         0.277583\n",
      "CHAS        2.985592\n",
      "RM          3.697319\n",
      "dtype: float64\n"
     ]
    },
    {
     "name": "stderr",
     "output_type": "stream",
     "text": [
      "C:\\ProgramData\\Anaconda3\\envs\\DataScience\\lib\\site-packages\\sklearn\\utils\\deprecation.py:87: FutureWarning: Function load_boston is deprecated; `load_boston` is deprecated in 1.0 and will be removed in 1.2.\n",
      "\n",
      "    The Boston housing prices dataset has an ethical problem. You can refer to\n",
      "    the documentation of this function for further details.\n",
      "\n",
      "    The scikit-learn maintainers therefore strongly discourage the use of this\n",
      "    dataset unless the purpose of the code is to study and educate about\n",
      "    ethical issues in data science and machine learning.\n",
      "\n",
      "    In this special case, you can fetch the dataset from the original\n",
      "    source::\n",
      "\n",
      "        import pandas as pd\n",
      "        import numpy as np\n",
      "\n",
      "\n",
      "        data_url = \"http://lib.stat.cmu.edu/datasets/boston\"\n",
      "        raw_df = pd.read_csv(data_url, sep=\"\\s+\", skiprows=22, header=None)\n",
      "        data = np.hstack([raw_df.values[::2, :], raw_df.values[1::2, :2]])\n",
      "        target = raw_df.values[1::2, 2]\n",
      "\n",
      "    Alternative datasets include the California housing dataset (i.e.\n",
      "    :func:`~sklearn.datasets.fetch_california_housing`) and the Ames housing\n",
      "    dataset. You can load the datasets as follows::\n",
      "\n",
      "        from sklearn.datasets import fetch_california_housing\n",
      "        housing = fetch_california_housing()\n",
      "\n",
      "    for the California housing dataset and::\n",
      "\n",
      "        from sklearn.datasets import fetch_openml\n",
      "        housing = fetch_openml(name=\"house_prices\", as_frame=True)\n",
      "\n",
      "    for the Ames housing dataset.\n",
      "    \n",
      "  warnings.warn(msg, category=FutureWarning)\n"
     ]
    },
    {
     "data": {
      "image/png": "[encoded data removed]",
      "text/plain": [
       "<Figure size 432x288 with 1 Axes>"
      ]
     },
     "metadata": {
      "needs_background": "light"
     },
     "output_type": "display_data"
    }
   ],
   "source": [
    "# 엘라스틱넷 구현\n",
    "import matplotlib.pyplot as plt\n",
    "import pandas as pd\n",
    "import numpy as np\n",
    "\n",
    "from sklearn.linear_model import ElasticNet\n",
    "from sklearn.model_selection import train_test_split\n",
    "from sklearn.datasets import load_boston\n",
    "\n",
    "\"\"\"\n",
    "1. 사이킷런에 존재하는 데이터를 불러오고, \n",
    "   데이터와 변수 이름을 반환하는 함수를 구현합니다.\n",
    "   \n",
    "   Step01. 사이킷런에 존재하는 boston 데이터를 \n",
    "           (X, y)의 형태로 불러옵니다. \n",
    "   \n",
    "   Step02. 데이터의 변수 이름을 feature_names 에 저장합니다.\n",
    "\"\"\"\n",
    "def load_data():\n",
    "    \n",
    "    X, y = load_boston(return_X_y = True)\n",
    "    \n",
    "    feature_names = load_boston().feature_names\n",
    "    \n",
    "    return X,y,feature_names\n",
    "\n",
    "\"\"\"\n",
    "2. 엘라스틱 넷(ElasticNet) 회귀를 구현하고, \n",
    "   학습용 데이터를 바탕으로 학습시킨 모델을 \n",
    "   반환하는 함수를 완성합니다.\n",
    "   \n",
    "   Step01. 사이킷런에 구현되어 있는 \n",
    "           엘라스틱 넷(ElasticNet) 회귀 모델을 불러옵니다.\n",
    "           \n",
    "           파라미터 alpha와 l1_ratio를 자유롭게 설정합니다.\n",
    "   \n",
    "   Step02. 불러온 모델을 학습용 데이터에 맞춰 학습시킵니다.\n",
    "\"\"\"\n",
    "def ElasticNet_regression(train_X, train_y):\n",
    "    \n",
    "    #ElasticNet_reg = ElasticNet()\n",
    "    #ElasticNet_reg = ElasticNet(alpha = 0.1)\n",
    "    #ElasticNet_reg = ElasticNet(alpha = 0.1, l1_ratio = 0.3)\n",
    "    ElasticNet_reg = ElasticNet(alpha = 0.001, l1_ratio = 0.001)\n",
    "    \n",
    "    ElasticNet_reg.fit(train_X,train_y)\n",
    "    \n",
    "    return ElasticNet_reg\n",
    "\n",
    "\n",
    "# 각 변수의 beta_i 크기를 시각화하는 함수입니다.\n",
    "def plot_graph(coef):\n",
    "    coef.plot(kind='bar')\n",
    "    \n",
    "def main():\n",
    "    \n",
    "    X,y,feature_names = load_data()\n",
    "    \n",
    "    train_X, test_X, train_y, test_y = train_test_split(X,y,test_size=0.2, random_state=100)\n",
    "    \n",
    "    elasticnet_reg = ElasticNet_regression(train_X, train_y)\n",
    "    \n",
    "    # 엘라스틱넷 회귀 모델 평가 점수 출력하기\n",
    "    score = elasticnet_reg.score(test_X,test_y)\n",
    "    print(\"ElasticNet 회귀의 평가 점수:\", score)\n",
    "    \n",
    "    # 엘라스틱넷 회귀의 beta_i의 크기를 저장합니다.\n",
    "    ElasticNet_coef = pd.Series(elasticnet_reg.coef_, feature_names).sort_values()\n",
    "    print(\"\\nElasticNet 회귀의 beta_i\\n\", ElasticNet_coef)\n",
    "    \n",
    "    plot_graph(ElasticNet_coef)\n",
    "    \n",
    "main()"
   ]
  },
  {
   "cell_type": "code",
   "execution_count": null,
   "id": "a886d0fe",
   "metadata": {},
   "outputs": [],
   "source": [
    "\n"
   ]
  }
 ],
 "metadata": {
  "kernelspec": {
   "display_name": "Python 3 (ipykernel)",
   "language": "python",
   "name": "python3"
  },
  "language_info": {
   "codemirror_mode": {
    "name": "ipython",
    "version": 3
   },
   "file_extension": ".py",
   "mimetype": "text/x-python",
   "name": "python",
   "nbconvert_exporter": "python",
   "pygments_lexer": "ipython3",
   "version": "3.9.12"
  }
 },
 "nbformat": 4,
 "nbformat_minor": 5
}
